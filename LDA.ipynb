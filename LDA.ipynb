{
 "cells": [
  {
   "cell_type": "code",
   "execution_count": 160,
   "metadata": {},
   "outputs": [
    {
     "name": "stderr",
     "output_type": "stream",
     "text": [
      "/var/folders/cl/4c7gj8y530b5jcf0qft_58jw0000gn/T/ipykernel_60726/3671620964.py:7: TqdmDeprecationWarning: This function will be removed in tqdm==5.0.0\n",
      "Please use `tqdm.notebook.tqdm` instead of `tqdm.tqdm_notebook`\n",
      "  tqdm_notebook().pandas()\n"
     ]
    },
    {
     "data": {
      "application/vnd.jupyter.widget-view+json": {
       "model_id": "bb3f9c0f1c2346f58a6adab3ceef9a53",
       "version_major": 2,
       "version_minor": 0
      },
      "text/plain": [
       "0it [00:00, ?it/s]"
      ]
     },
     "metadata": {},
     "output_type": "display_data"
    }
   ],
   "source": [
    "import os\n",
    "import pandas as pd\n",
    "\n",
    "from collections import Counter\n",
    "\n",
    "from tqdm import tqdm_notebook\n",
    "tqdm_notebook().pandas()\n",
    "from nltk.tokenize import sent_tokenize\n",
    "from nltk.tokenize import word_tokenize\n",
    "from nltk import pos_tag\n",
    "\n",
    "from gensim.models import CoherenceModel"
   ]
  },
  {
   "cell_type": "markdown",
   "metadata": {},
   "source": [
    "# Reading data"
   ]
  },
  {
   "cell_type": "code",
   "execution_count": 91,
   "metadata": {},
   "outputs": [],
   "source": [
    "datapath = [\"/Users/manideep/Documents/DirectedStudy/richmondhill/\",\"/Users/manideep/Documents/DirectedStudy/Niagara/\"]\n",
    "text = ['']\n",
    "\n",
    "for path in datapath:\n",
    "    for dirname, _ , filenames in os.walk(path):\n",
    "        #print('Directory: ', dirname)\n",
    "        #print('Subdir: ', dirname.split('/')[-1])\n",
    "        # remove the Readme.txt file\n",
    "        # will not find file in the second iteration so we skip the error\n",
    "        for filename in filenames:\n",
    "            fullpathfile = os.path.join(dirname,filename)\n",
    "            with open(fullpathfile, 'r', encoding=\"utf8\", errors='ignore') as infile:\n",
    "                intext = ''\n",
    "                firstline = True\n",
    "                for line in infile:\n",
    "                    if firstline:\n",
    "                        firstline = False\n",
    "                    else:\n",
    "                        intext = intext + ' ' + line.replace('\\n','')\n",
    "                if(len(intext)>0):\n",
    "                    text.append(intext)"
   ]
  },
  {
   "cell_type": "code",
   "execution_count": 108,
   "metadata": {},
   "outputs": [
    {
     "data": {
      "text/plain": [
       "''"
      ]
     },
     "execution_count": 108,
     "metadata": {},
     "output_type": "execute_result"
    }
   ],
   "source": [
    "text.pop(0)"
   ]
  },
  {
   "cell_type": "code",
   "execution_count": 109,
   "metadata": {},
   "outputs": [
    {
     "data": {
      "text/plain": [
       "(3105, 1)"
      ]
     },
     "execution_count": 109,
     "metadata": {},
     "output_type": "execute_result"
    }
   ],
   "source": [
    "data = pd.DataFrame(list(text),columns =[ 'texts'])\n",
    "\n",
    "data.shape"
   ]
  },
  {
   "cell_type": "code",
   "execution_count": 110,
   "metadata": {},
   "outputs": [
    {
     "data": {
      "text/html": [
       "<div>\n",
       "<style scoped>\n",
       "    .dataframe tbody tr th:only-of-type {\n",
       "        vertical-align: middle;\n",
       "    }\n",
       "\n",
       "    .dataframe tbody tr th {\n",
       "        vertical-align: top;\n",
       "    }\n",
       "\n",
       "    .dataframe thead th {\n",
       "        text-align: right;\n",
       "    }\n",
       "</style>\n",
       "<table border=\"1\" class=\"dataframe\">\n",
       "  <thead>\n",
       "    <tr style=\"text-align: right;\">\n",
       "      <th></th>\n",
       "      <th>texts</th>\n",
       "    </tr>\n",
       "  </thead>\n",
       "  <tbody>\n",
       "    <tr>\n",
       "      <th>0</th>\n",
       "      <td>...</td>\n",
       "    </tr>\n",
       "    <tr>\n",
       "      <th>1</th>\n",
       "      <td>...</td>\n",
       "    </tr>\n",
       "    <tr>\n",
       "      <th>2</th>\n",
       "      <td>...</td>\n",
       "    </tr>\n",
       "    <tr>\n",
       "      <th>3</th>\n",
       "      <td>...</td>\n",
       "    </tr>\n",
       "    <tr>\n",
       "      <th>4</th>\n",
       "      <td>...</td>\n",
       "    </tr>\n",
       "    <tr>\n",
       "      <th>...</th>\n",
       "      <td>...</td>\n",
       "    </tr>\n",
       "    <tr>\n",
       "      <th>3100</th>\n",
       "      <td>Reconstruction/Construction of sanitary sewer...</td>\n",
       "    </tr>\n",
       "    <tr>\n",
       "      <th>3101</th>\n",
       "      <td>Public Art - Niagara Falls Exchange...</td>\n",
       "    </tr>\n",
       "    <tr>\n",
       "      <th>3102</th>\n",
       "      <td>Skip to NavigationSkip to main contentSkip to...</td>\n",
       "    </tr>\n",
       "    <tr>\n",
       "      <th>3103</th>\n",
       "      <td>4868 Crysler AvFull Map of 4868 Crysler AvSit...</td>\n",
       "    </tr>\n",
       "    <tr>\n",
       "      <th>3104</th>\n",
       "      <td>Chippawa Boat Ramp Park Photo Galle...</td>\n",
       "    </tr>\n",
       "  </tbody>\n",
       "</table>\n",
       "<p>3105 rows × 1 columns</p>\n",
       "</div>"
      ],
      "text/plain": [
       "                                                  texts\n",
       "0                                                   ...\n",
       "1                                                   ...\n",
       "2                                                   ...\n",
       "3                                                   ...\n",
       "4                                                   ...\n",
       "...                                                 ...\n",
       "3100   Reconstruction/Construction of sanitary sewer...\n",
       "3101             Public Art - Niagara Falls Exchange...\n",
       "3102   Skip to NavigationSkip to main contentSkip to...\n",
       "3103   4868 Crysler AvFull Map of 4868 Crysler AvSit...\n",
       "3104             Chippawa Boat Ramp Park Photo Galle...\n",
       "\n",
       "[3105 rows x 1 columns]"
      ]
     },
     "execution_count": 110,
     "metadata": {},
     "output_type": "execute_result"
    }
   ],
   "source": [
    "data"
   ]
  },
  {
   "cell_type": "markdown",
   "metadata": {},
   "source": [
    "#### Tokenization"
   ]
  },
  {
   "cell_type": "code",
   "execution_count": 111,
   "metadata": {},
   "outputs": [
    {
     "data": {
      "application/vnd.jupyter.widget-view+json": {
       "model_id": "b5711a430fea4887a345941b87e5f707",
       "version_major": 2,
       "version_minor": 0
      },
      "text/plain": [
       "  0%|          | 0/3105 [00:00<?, ?it/s]"
      ]
     },
     "metadata": {},
     "output_type": "display_data"
    }
   ],
   "source": [
    "data['sentences'] = data.texts.progress_map(sent_tokenize)"
   ]
  },
  {
   "cell_type": "code",
   "execution_count": 112,
   "metadata": {
    "scrolled": true
   },
   "outputs": [
    {
     "data": {
      "application/vnd.jupyter.widget-view+json": {
       "model_id": "3d16c931e6cd410d8777a711a571fa53",
       "version_major": 2,
       "version_minor": 0
      },
      "text/plain": [
       "  0%|          | 0/3105 [00:00<?, ?it/s]"
      ]
     },
     "metadata": {},
     "output_type": "display_data"
    },
    {
     "data": {
      "text/html": [
       "<div>\n",
       "<style scoped>\n",
       "    .dataframe tbody tr th:only-of-type {\n",
       "        vertical-align: middle;\n",
       "    }\n",
       "\n",
       "    .dataframe tbody tr th {\n",
       "        vertical-align: top;\n",
       "    }\n",
       "\n",
       "    .dataframe thead th {\n",
       "        text-align: right;\n",
       "    }\n",
       "</style>\n",
       "<table border=\"1\" class=\"dataframe\">\n",
       "  <thead>\n",
       "    <tr style=\"text-align: right;\">\n",
       "      <th></th>\n",
       "      <th>texts</th>\n",
       "      <th>sentences</th>\n",
       "      <th>tokens_sentences</th>\n",
       "    </tr>\n",
       "  </thead>\n",
       "  <tbody>\n",
       "    <tr>\n",
       "      <th>0</th>\n",
       "      <td>...</td>\n",
       "      <td>[                                             ...</td>\n",
       "      <td>[[News, -, City, of, Richmond, Hill, Skip, to,...</td>\n",
       "    </tr>\n",
       "    <tr>\n",
       "      <th>1</th>\n",
       "      <td>...</td>\n",
       "      <td>[                                             ...</td>\n",
       "      <td>[[Parks, and, Facilities, -, City, of, Richmon...</td>\n",
       "    </tr>\n",
       "    <tr>\n",
       "      <th>2</th>\n",
       "      <td>...</td>\n",
       "      <td>[                                             ...</td>\n",
       "      <td>[[Reports, ,, Publications, and, Plans, -, Cit...</td>\n",
       "    </tr>\n",
       "    <tr>\n",
       "      <th>3</th>\n",
       "      <td>...</td>\n",
       "      <td>[                                             ...</td>\n",
       "      <td>[[Tree, Diseases, and, Pests, -, City, of, Ric...</td>\n",
       "    </tr>\n",
       "    <tr>\n",
       "      <th>4</th>\n",
       "      <td>...</td>\n",
       "      <td>[                                             ...</td>\n",
       "      <td>[[Parks, and, Facilities, -, City, of, Richmon...</td>\n",
       "    </tr>\n",
       "  </tbody>\n",
       "</table>\n",
       "</div>"
      ],
      "text/plain": [
       "                                               texts  \\\n",
       "0                                                ...   \n",
       "1                                                ...   \n",
       "2                                                ...   \n",
       "3                                                ...   \n",
       "4                                                ...   \n",
       "\n",
       "                                           sentences  \\\n",
       "0  [                                             ...   \n",
       "1  [                                             ...   \n",
       "2  [                                             ...   \n",
       "3  [                                             ...   \n",
       "4  [                                             ...   \n",
       "\n",
       "                                    tokens_sentences  \n",
       "0  [[News, -, City, of, Richmond, Hill, Skip, to,...  \n",
       "1  [[Parks, and, Facilities, -, City, of, Richmon...  \n",
       "2  [[Reports, ,, Publications, and, Plans, -, Cit...  \n",
       "3  [[Tree, Diseases, and, Pests, -, City, of, Ric...  \n",
       "4  [[Parks, and, Facilities, -, City, of, Richmon...  "
      ]
     },
     "execution_count": 112,
     "metadata": {},
     "output_type": "execute_result"
    }
   ],
   "source": [
    "data['tokens_sentences'] = data['sentences'].progress_map(lambda sentences: [word_tokenize(sentence) for sentence in sentences])\n",
    "\n",
    "\n",
    "data.head()"
   ]
  },
  {
   "cell_type": "code",
   "execution_count": 113,
   "metadata": {},
   "outputs": [
    {
     "data": {
      "application/vnd.jupyter.widget-view+json": {
       "model_id": "5a81ab757b7d47e8858890c37bb3b23e",
       "version_major": 2,
       "version_minor": 0
      },
      "text/plain": [
       "  0%|          | 0/3105 [00:00<?, ?it/s]"
      ]
     },
     "metadata": {},
     "output_type": "display_data"
    }
   ],
   "source": [
    "def numberOfWords(document):\n",
    "    count=0\n",
    "    for sentence in document:\n",
    "        for word in sentence:\n",
    "            count = count + 1\n",
    "            \n",
    "    return count\n",
    "\n",
    "\n",
    "data['number_of_words'] =  data['tokens_sentences'].progress_map(numberOfWords)"
   ]
  },
  {
   "cell_type": "code",
   "execution_count": 114,
   "metadata": {},
   "outputs": [
    {
     "data": {
      "text/html": [
       "<div>\n",
       "<style scoped>\n",
       "    .dataframe tbody tr th:only-of-type {\n",
       "        vertical-align: middle;\n",
       "    }\n",
       "\n",
       "    .dataframe tbody tr th {\n",
       "        vertical-align: top;\n",
       "    }\n",
       "\n",
       "    .dataframe thead th {\n",
       "        text-align: right;\n",
       "    }\n",
       "</style>\n",
       "<table border=\"1\" class=\"dataframe\">\n",
       "  <thead>\n",
       "    <tr style=\"text-align: right;\">\n",
       "      <th></th>\n",
       "      <th>texts</th>\n",
       "      <th>sentences</th>\n",
       "      <th>tokens_sentences</th>\n",
       "      <th>number_of_words</th>\n",
       "    </tr>\n",
       "  </thead>\n",
       "  <tbody>\n",
       "    <tr>\n",
       "      <th>0</th>\n",
       "      <td>...</td>\n",
       "      <td>[                                             ...</td>\n",
       "      <td>[[News, -, City, of, Richmond, Hill, Skip, to,...</td>\n",
       "      <td>1562</td>\n",
       "    </tr>\n",
       "    <tr>\n",
       "      <th>1</th>\n",
       "      <td>...</td>\n",
       "      <td>[                                             ...</td>\n",
       "      <td>[[Parks, and, Facilities, -, City, of, Richmon...</td>\n",
       "      <td>724</td>\n",
       "    </tr>\n",
       "    <tr>\n",
       "      <th>2</th>\n",
       "      <td>...</td>\n",
       "      <td>[                                             ...</td>\n",
       "      <td>[[Reports, ,, Publications, and, Plans, -, Cit...</td>\n",
       "      <td>657</td>\n",
       "    </tr>\n",
       "    <tr>\n",
       "      <th>3</th>\n",
       "      <td>...</td>\n",
       "      <td>[                                             ...</td>\n",
       "      <td>[[Tree, Diseases, and, Pests, -, City, of, Ric...</td>\n",
       "      <td>1946</td>\n",
       "    </tr>\n",
       "    <tr>\n",
       "      <th>4</th>\n",
       "      <td>...</td>\n",
       "      <td>[                                             ...</td>\n",
       "      <td>[[Parks, and, Facilities, -, City, of, Richmon...</td>\n",
       "      <td>573</td>\n",
       "    </tr>\n",
       "    <tr>\n",
       "      <th>...</th>\n",
       "      <td>...</td>\n",
       "      <td>...</td>\n",
       "      <td>...</td>\n",
       "      <td>...</td>\n",
       "    </tr>\n",
       "    <tr>\n",
       "      <th>3100</th>\n",
       "      <td>Reconstruction/Construction of sanitary sewer...</td>\n",
       "      <td>[ Reconstruction/Construction of sanitary sewe...</td>\n",
       "      <td>[[Reconstruction/Construction, of, sanitary, s...</td>\n",
       "      <td>109</td>\n",
       "    </tr>\n",
       "    <tr>\n",
       "      <th>3101</th>\n",
       "      <td>Public Art - Niagara Falls Exchange...</td>\n",
       "      <td>[           Public Art - Niagara Falls Exchang...</td>\n",
       "      <td>[[Public, Art, -, Niagara, Falls, Exchange, |,...</td>\n",
       "      <td>1436</td>\n",
       "    </tr>\n",
       "    <tr>\n",
       "      <th>3102</th>\n",
       "      <td>Skip to NavigationSkip to main contentSkip to...</td>\n",
       "      <td>[ Skip to NavigationSkip to main contentSkip t...</td>\n",
       "      <td>[[Skip, to, NavigationSkip, to, main, contentS...</td>\n",
       "      <td>761</td>\n",
       "    </tr>\n",
       "    <tr>\n",
       "      <th>3103</th>\n",
       "      <td>4868 Crysler AvFull Map of 4868 Crysler AvSit...</td>\n",
       "      <td>[ 4868 Crysler AvFull Map of 4868 Crysler AvSi...</td>\n",
       "      <td>[[4868, Crysler, AvFull, Map, of, 4868, Crysle...</td>\n",
       "      <td>43</td>\n",
       "    </tr>\n",
       "    <tr>\n",
       "      <th>3104</th>\n",
       "      <td>Chippawa Boat Ramp Park Photo Galle...</td>\n",
       "      <td>[           Chippawa Boat Ramp Park Photo Gall...</td>\n",
       "      <td>[[Chippawa, Boat, Ramp, Park, Photo, Gallery, ...</td>\n",
       "      <td>493</td>\n",
       "    </tr>\n",
       "  </tbody>\n",
       "</table>\n",
       "<p>3105 rows × 4 columns</p>\n",
       "</div>"
      ],
      "text/plain": [
       "                                                  texts  \\\n",
       "0                                                   ...   \n",
       "1                                                   ...   \n",
       "2                                                   ...   \n",
       "3                                                   ...   \n",
       "4                                                   ...   \n",
       "...                                                 ...   \n",
       "3100   Reconstruction/Construction of sanitary sewer...   \n",
       "3101             Public Art - Niagara Falls Exchange...   \n",
       "3102   Skip to NavigationSkip to main contentSkip to...   \n",
       "3103   4868 Crysler AvFull Map of 4868 Crysler AvSit...   \n",
       "3104             Chippawa Boat Ramp Park Photo Galle...   \n",
       "\n",
       "                                              sentences  \\\n",
       "0     [                                             ...   \n",
       "1     [                                             ...   \n",
       "2     [                                             ...   \n",
       "3     [                                             ...   \n",
       "4     [                                             ...   \n",
       "...                                                 ...   \n",
       "3100  [ Reconstruction/Construction of sanitary sewe...   \n",
       "3101  [           Public Art - Niagara Falls Exchang...   \n",
       "3102  [ Skip to NavigationSkip to main contentSkip t...   \n",
       "3103  [ 4868 Crysler AvFull Map of 4868 Crysler AvSi...   \n",
       "3104  [           Chippawa Boat Ramp Park Photo Gall...   \n",
       "\n",
       "                                       tokens_sentences  number_of_words  \n",
       "0     [[News, -, City, of, Richmond, Hill, Skip, to,...             1562  \n",
       "1     [[Parks, and, Facilities, -, City, of, Richmon...              724  \n",
       "2     [[Reports, ,, Publications, and, Plans, -, Cit...              657  \n",
       "3     [[Tree, Diseases, and, Pests, -, City, of, Ric...             1946  \n",
       "4     [[Parks, and, Facilities, -, City, of, Richmon...              573  \n",
       "...                                                 ...              ...  \n",
       "3100  [[Reconstruction/Construction, of, sanitary, s...              109  \n",
       "3101  [[Public, Art, -, Niagara, Falls, Exchange, |,...             1436  \n",
       "3102  [[Skip, to, NavigationSkip, to, main, contentS...              761  \n",
       "3103  [[4868, Crysler, AvFull, Map, of, 4868, Crysle...               43  \n",
       "3104  [[Chippawa, Boat, Ramp, Park, Photo, Gallery, ...              493  \n",
       "\n",
       "[3105 rows x 4 columns]"
      ]
     },
     "execution_count": 114,
     "metadata": {},
     "output_type": "execute_result"
    }
   ],
   "source": [
    "data"
   ]
  },
  {
   "cell_type": "markdown",
   "metadata": {},
   "source": [
    "#### Lemmatizing with POS tagging"
   ]
  },
  {
   "cell_type": "code",
   "execution_count": 121,
   "metadata": {},
   "outputs": [
    {
     "data": {
      "application/vnd.jupyter.widget-view+json": {
       "model_id": "7fa724dee5aa4c62ae8e426518dc3856",
       "version_major": 2,
       "version_minor": 0
      },
      "text/plain": [
       "  0%|          | 0/3105 [00:00<?, ?it/s]"
      ]
     },
     "metadata": {},
     "output_type": "display_data"
    },
    {
     "data": {
      "text/html": [
       "<div>\n",
       "<style scoped>\n",
       "    .dataframe tbody tr th:only-of-type {\n",
       "        vertical-align: middle;\n",
       "    }\n",
       "\n",
       "    .dataframe tbody tr th {\n",
       "        vertical-align: top;\n",
       "    }\n",
       "\n",
       "    .dataframe thead th {\n",
       "        text-align: right;\n",
       "    }\n",
       "</style>\n",
       "<table border=\"1\" class=\"dataframe\">\n",
       "  <thead>\n",
       "    <tr style=\"text-align: right;\">\n",
       "      <th></th>\n",
       "      <th>texts</th>\n",
       "      <th>sentences</th>\n",
       "      <th>tokens_sentences</th>\n",
       "      <th>number_of_words</th>\n",
       "      <th>POS_tokens</th>\n",
       "    </tr>\n",
       "  </thead>\n",
       "  <tbody>\n",
       "    <tr>\n",
       "      <th>0</th>\n",
       "      <td>...</td>\n",
       "      <td>[                                             ...</td>\n",
       "      <td>[[News, -, City, of, Richmond, Hill, Skip, to,...</td>\n",
       "      <td>1562</td>\n",
       "      <td>[[(News, NNP), (-, :), (City, NNP), (of, IN), ...</td>\n",
       "    </tr>\n",
       "    <tr>\n",
       "      <th>1</th>\n",
       "      <td>...</td>\n",
       "      <td>[                                             ...</td>\n",
       "      <td>[[Parks, and, Facilities, -, City, of, Richmon...</td>\n",
       "      <td>724</td>\n",
       "      <td>[[(Parks, NNS), (and, CC), (Facilities, NNP), ...</td>\n",
       "    </tr>\n",
       "    <tr>\n",
       "      <th>2</th>\n",
       "      <td>...</td>\n",
       "      <td>[                                             ...</td>\n",
       "      <td>[[Reports, ,, Publications, and, Plans, -, Cit...</td>\n",
       "      <td>657</td>\n",
       "      <td>[[(Reports, NNS), (,, ,), (Publications, NNS),...</td>\n",
       "    </tr>\n",
       "    <tr>\n",
       "      <th>3</th>\n",
       "      <td>...</td>\n",
       "      <td>[                                             ...</td>\n",
       "      <td>[[Tree, Diseases, and, Pests, -, City, of, Ric...</td>\n",
       "      <td>1946</td>\n",
       "      <td>[[(Tree, NNP), (Diseases, NNP), (and, CC), (Pe...</td>\n",
       "    </tr>\n",
       "    <tr>\n",
       "      <th>4</th>\n",
       "      <td>...</td>\n",
       "      <td>[                                             ...</td>\n",
       "      <td>[[Parks, and, Facilities, -, City, of, Richmon...</td>\n",
       "      <td>573</td>\n",
       "      <td>[[(Parks, NNS), (and, CC), (Facilities, NNP), ...</td>\n",
       "    </tr>\n",
       "  </tbody>\n",
       "</table>\n",
       "</div>"
      ],
      "text/plain": [
       "                                               texts  \\\n",
       "0                                                ...   \n",
       "1                                                ...   \n",
       "2                                                ...   \n",
       "3                                                ...   \n",
       "4                                                ...   \n",
       "\n",
       "                                           sentences  \\\n",
       "0  [                                             ...   \n",
       "1  [                                             ...   \n",
       "2  [                                             ...   \n",
       "3  [                                             ...   \n",
       "4  [                                             ...   \n",
       "\n",
       "                                    tokens_sentences  number_of_words  \\\n",
       "0  [[News, -, City, of, Richmond, Hill, Skip, to,...             1562   \n",
       "1  [[Parks, and, Facilities, -, City, of, Richmon...              724   \n",
       "2  [[Reports, ,, Publications, and, Plans, -, Cit...              657   \n",
       "3  [[Tree, Diseases, and, Pests, -, City, of, Ric...             1946   \n",
       "4  [[Parks, and, Facilities, -, City, of, Richmon...              573   \n",
       "\n",
       "                                          POS_tokens  \n",
       "0  [[(News, NNP), (-, :), (City, NNP), (of, IN), ...  \n",
       "1  [[(Parks, NNS), (and, CC), (Facilities, NNP), ...  \n",
       "2  [[(Reports, NNS), (,, ,), (Publications, NNS),...  \n",
       "3  [[(Tree, NNP), (Diseases, NNP), (and, CC), (Pe...  \n",
       "4  [[(Parks, NNS), (and, CC), (Facilities, NNP), ...  "
      ]
     },
     "execution_count": 121,
     "metadata": {},
     "output_type": "execute_result"
    }
   ],
   "source": [
    "data['POS_tokens'] = data['tokens_sentences'].progress_map(lambda tokens_sentences: [pos_tag(tokens) for tokens in tokens_sentences])\n",
    "\n",
    "\n",
    "data.head()"
   ]
  },
  {
   "cell_type": "code",
   "execution_count": 122,
   "metadata": {},
   "outputs": [],
   "source": [
    "# Inspired from https://stackoverflow.com/a/15590384\n",
    "from nltk.corpus import wordnet\n",
    "\n",
    "def get_wordnet_pos(treebank_tag):\n",
    "\n",
    "    if treebank_tag.startswith('J'):\n",
    "        return wordnet.ADJ\n",
    "    elif treebank_tag.startswith('V'):\n",
    "        return wordnet.VERB\n",
    "    elif treebank_tag.startswith('N'):\n",
    "        return wordnet.NOUN\n",
    "    elif treebank_tag.startswith('R'):\n",
    "        return wordnet.ADV\n",
    "    else:\n",
    "        return ''\n",
    "\n",
    "from nltk.stem.wordnet import WordNetLemmatizer\n",
    "lemmatizer = WordNetLemmatizer()"
   ]
  },
  {
   "cell_type": "code",
   "execution_count": 123,
   "metadata": {},
   "outputs": [
    {
     "data": {
      "application/vnd.jupyter.widget-view+json": {
       "model_id": "61d04a1cf65a48478224c334040c1929",
       "version_major": 2,
       "version_minor": 0
      },
      "text/plain": [
       "  0%|          | 0/3105 [00:00<?, ?it/s]"
      ]
     },
     "metadata": {},
     "output_type": "display_data"
    }
   ],
   "source": [
    "# Lemmatizing each word with its POS tag, in each sentence\n",
    "data['tokens_sentences_lemmatized'] = data['POS_tokens'].progress_map(\n",
    "    lambda list_tokens_POS: [\n",
    "        [\n",
    "            lemmatizer.lemmatize(el[0], get_wordnet_pos(el[1])) \n",
    "            if get_wordnet_pos(el[1]) != '' else el[0] for el in tokens_POS\n",
    "        ] \n",
    "        for tokens_POS in list_tokens_POS\n",
    "    ]\n",
    ")"
   ]
  },
  {
   "cell_type": "code",
   "execution_count": 124,
   "metadata": {
    "scrolled": true
   },
   "outputs": [
    {
     "data": {
      "text/html": [
       "<div>\n",
       "<style scoped>\n",
       "    .dataframe tbody tr th:only-of-type {\n",
       "        vertical-align: middle;\n",
       "    }\n",
       "\n",
       "    .dataframe tbody tr th {\n",
       "        vertical-align: top;\n",
       "    }\n",
       "\n",
       "    .dataframe thead th {\n",
       "        text-align: right;\n",
       "    }\n",
       "</style>\n",
       "<table border=\"1\" class=\"dataframe\">\n",
       "  <thead>\n",
       "    <tr style=\"text-align: right;\">\n",
       "      <th></th>\n",
       "      <th>texts</th>\n",
       "      <th>sentences</th>\n",
       "      <th>tokens_sentences</th>\n",
       "      <th>number_of_words</th>\n",
       "      <th>POS_tokens</th>\n",
       "      <th>tokens_sentences_lemmatized</th>\n",
       "    </tr>\n",
       "  </thead>\n",
       "  <tbody>\n",
       "    <tr>\n",
       "      <th>0</th>\n",
       "      <td>...</td>\n",
       "      <td>[                                             ...</td>\n",
       "      <td>[[News, -, City, of, Richmond, Hill, Skip, to,...</td>\n",
       "      <td>1562</td>\n",
       "      <td>[[(News, NNP), (-, :), (City, NNP), (of, IN), ...</td>\n",
       "      <td>[[News, -, City, of, Richmond, Hill, Skip, to,...</td>\n",
       "    </tr>\n",
       "    <tr>\n",
       "      <th>1</th>\n",
       "      <td>...</td>\n",
       "      <td>[                                             ...</td>\n",
       "      <td>[[Parks, and, Facilities, -, City, of, Richmon...</td>\n",
       "      <td>724</td>\n",
       "      <td>[[(Parks, NNS), (and, CC), (Facilities, NNP), ...</td>\n",
       "      <td>[[Parks, and, Facilities, -, City, of, Richmon...</td>\n",
       "    </tr>\n",
       "    <tr>\n",
       "      <th>2</th>\n",
       "      <td>...</td>\n",
       "      <td>[                                             ...</td>\n",
       "      <td>[[Reports, ,, Publications, and, Plans, -, Cit...</td>\n",
       "      <td>657</td>\n",
       "      <td>[[(Reports, NNS), (,, ,), (Publications, NNS),...</td>\n",
       "      <td>[[Reports, ,, Publications, and, Plans, -, Cit...</td>\n",
       "    </tr>\n",
       "    <tr>\n",
       "      <th>3</th>\n",
       "      <td>...</td>\n",
       "      <td>[                                             ...</td>\n",
       "      <td>[[Tree, Diseases, and, Pests, -, City, of, Ric...</td>\n",
       "      <td>1946</td>\n",
       "      <td>[[(Tree, NNP), (Diseases, NNP), (and, CC), (Pe...</td>\n",
       "      <td>[[Tree, Diseases, and, Pests, -, City, of, Ric...</td>\n",
       "    </tr>\n",
       "    <tr>\n",
       "      <th>4</th>\n",
       "      <td>...</td>\n",
       "      <td>[                                             ...</td>\n",
       "      <td>[[Parks, and, Facilities, -, City, of, Richmon...</td>\n",
       "      <td>573</td>\n",
       "      <td>[[(Parks, NNS), (and, CC), (Facilities, NNP), ...</td>\n",
       "      <td>[[Parks, and, Facilities, -, City, of, Richmon...</td>\n",
       "    </tr>\n",
       "  </tbody>\n",
       "</table>\n",
       "</div>"
      ],
      "text/plain": [
       "                                               texts  \\\n",
       "0                                                ...   \n",
       "1                                                ...   \n",
       "2                                                ...   \n",
       "3                                                ...   \n",
       "4                                                ...   \n",
       "\n",
       "                                           sentences  \\\n",
       "0  [                                             ...   \n",
       "1  [                                             ...   \n",
       "2  [                                             ...   \n",
       "3  [                                             ...   \n",
       "4  [                                             ...   \n",
       "\n",
       "                                    tokens_sentences  number_of_words  \\\n",
       "0  [[News, -, City, of, Richmond, Hill, Skip, to,...             1562   \n",
       "1  [[Parks, and, Facilities, -, City, of, Richmon...              724   \n",
       "2  [[Reports, ,, Publications, and, Plans, -, Cit...              657   \n",
       "3  [[Tree, Diseases, and, Pests, -, City, of, Ric...             1946   \n",
       "4  [[Parks, and, Facilities, -, City, of, Richmon...              573   \n",
       "\n",
       "                                          POS_tokens  \\\n",
       "0  [[(News, NNP), (-, :), (City, NNP), (of, IN), ...   \n",
       "1  [[(Parks, NNS), (and, CC), (Facilities, NNP), ...   \n",
       "2  [[(Reports, NNS), (,, ,), (Publications, NNS),...   \n",
       "3  [[(Tree, NNP), (Diseases, NNP), (and, CC), (Pe...   \n",
       "4  [[(Parks, NNS), (and, CC), (Facilities, NNP), ...   \n",
       "\n",
       "                         tokens_sentences_lemmatized  \n",
       "0  [[News, -, City, of, Richmond, Hill, Skip, to,...  \n",
       "1  [[Parks, and, Facilities, -, City, of, Richmon...  \n",
       "2  [[Reports, ,, Publications, and, Plans, -, Cit...  \n",
       "3  [[Tree, Diseases, and, Pests, -, City, of, Ric...  \n",
       "4  [[Parks, and, Facilities, -, City, of, Richmon...  "
      ]
     },
     "execution_count": 124,
     "metadata": {},
     "output_type": "execute_result"
    }
   ],
   "source": [
    "data.head()"
   ]
  },
  {
   "cell_type": "markdown",
   "metadata": {},
   "source": [
    "#### Regrouping tokens and removing stop words"
   ]
  },
  {
   "cell_type": "code",
   "execution_count": 125,
   "metadata": {},
   "outputs": [],
   "source": [
    "from nltk.corpus import stopwords\n",
    "stopwords_verbs = ['say', 'get', 'go', 'know', 'may', 'need', 'like', 'make', 'see', 'want', 'come', 'take', 'use', 'would', 'can']\n",
    "stopwords_other = ['one', 'mr', 'bbc', 'image', 'getty', 'de', 'en', 'caption', 'also', 'copyright', 'something']\n",
    "my_stopwords = stopwords.words('English') + stopwords_verbs + stopwords_other"
   ]
  },
  {
   "cell_type": "code",
   "execution_count": 126,
   "metadata": {},
   "outputs": [],
   "source": [
    "from itertools import chain # to flatten list of sentences of tokens into list of tokens"
   ]
  },
  {
   "cell_type": "code",
   "execution_count": 127,
   "metadata": {},
   "outputs": [],
   "source": [
    "data['tokens'] = data['tokens_sentences_lemmatized'].map(lambda sentences: list(chain.from_iterable(sentences)))\n",
    "data['tokens'] = data['tokens'].map(lambda tokens: [token.lower() for token in tokens if token.isalpha() \n",
    "                                                    and token.lower() not in my_stopwords and len(token)>1])"
   ]
  },
  {
   "cell_type": "code",
   "execution_count": 128,
   "metadata": {
    "scrolled": true
   },
   "outputs": [
    {
     "data": {
      "text/html": [
       "<div>\n",
       "<style scoped>\n",
       "    .dataframe tbody tr th:only-of-type {\n",
       "        vertical-align: middle;\n",
       "    }\n",
       "\n",
       "    .dataframe tbody tr th {\n",
       "        vertical-align: top;\n",
       "    }\n",
       "\n",
       "    .dataframe thead th {\n",
       "        text-align: right;\n",
       "    }\n",
       "</style>\n",
       "<table border=\"1\" class=\"dataframe\">\n",
       "  <thead>\n",
       "    <tr style=\"text-align: right;\">\n",
       "      <th></th>\n",
       "      <th>texts</th>\n",
       "      <th>sentences</th>\n",
       "      <th>tokens_sentences</th>\n",
       "      <th>number_of_words</th>\n",
       "      <th>POS_tokens</th>\n",
       "      <th>tokens_sentences_lemmatized</th>\n",
       "      <th>tokens</th>\n",
       "    </tr>\n",
       "  </thead>\n",
       "  <tbody>\n",
       "    <tr>\n",
       "      <th>0</th>\n",
       "      <td>...</td>\n",
       "      <td>[                                             ...</td>\n",
       "      <td>[[News, -, City, of, Richmond, Hill, Skip, to,...</td>\n",
       "      <td>1562</td>\n",
       "      <td>[[(News, NNP), (-, :), (City, NNP), (of, IN), ...</td>\n",
       "      <td>[[News, -, City, of, Richmond, Hill, Skip, to,...</td>\n",
       "      <td>[news, city, richmond, hill, skip, content, me...</td>\n",
       "    </tr>\n",
       "    <tr>\n",
       "      <th>1</th>\n",
       "      <td>...</td>\n",
       "      <td>[                                             ...</td>\n",
       "      <td>[[Parks, and, Facilities, -, City, of, Richmon...</td>\n",
       "      <td>724</td>\n",
       "      <td>[[(Parks, NNS), (and, CC), (Facilities, NNP), ...</td>\n",
       "      <td>[[Parks, and, Facilities, -, City, of, Richmon...</td>\n",
       "      <td>[parks, facilities, city, richmond, hill, skip...</td>\n",
       "    </tr>\n",
       "    <tr>\n",
       "      <th>2</th>\n",
       "      <td>...</td>\n",
       "      <td>[                                             ...</td>\n",
       "      <td>[[Reports, ,, Publications, and, Plans, -, Cit...</td>\n",
       "      <td>657</td>\n",
       "      <td>[[(Reports, NNS), (,, ,), (Publications, NNS),...</td>\n",
       "      <td>[[Reports, ,, Publications, and, Plans, -, Cit...</td>\n",
       "      <td>[reports, publications, plans, city, richmond,...</td>\n",
       "    </tr>\n",
       "    <tr>\n",
       "      <th>3</th>\n",
       "      <td>...</td>\n",
       "      <td>[                                             ...</td>\n",
       "      <td>[[Tree, Diseases, and, Pests, -, City, of, Ric...</td>\n",
       "      <td>1946</td>\n",
       "      <td>[[(Tree, NNP), (Diseases, NNP), (and, CC), (Pe...</td>\n",
       "      <td>[[Tree, Diseases, and, Pests, -, City, of, Ric...</td>\n",
       "      <td>[tree, diseases, pests, city, richmond, hill, ...</td>\n",
       "    </tr>\n",
       "    <tr>\n",
       "      <th>4</th>\n",
       "      <td>...</td>\n",
       "      <td>[                                             ...</td>\n",
       "      <td>[[Parks, and, Facilities, -, City, of, Richmon...</td>\n",
       "      <td>573</td>\n",
       "      <td>[[(Parks, NNS), (and, CC), (Facilities, NNP), ...</td>\n",
       "      <td>[[Parks, and, Facilities, -, City, of, Richmon...</td>\n",
       "      <td>[parks, facilities, city, richmond, hill, skip...</td>\n",
       "    </tr>\n",
       "  </tbody>\n",
       "</table>\n",
       "</div>"
      ],
      "text/plain": [
       "                                               texts  \\\n",
       "0                                                ...   \n",
       "1                                                ...   \n",
       "2                                                ...   \n",
       "3                                                ...   \n",
       "4                                                ...   \n",
       "\n",
       "                                           sentences  \\\n",
       "0  [                                             ...   \n",
       "1  [                                             ...   \n",
       "2  [                                             ...   \n",
       "3  [                                             ...   \n",
       "4  [                                             ...   \n",
       "\n",
       "                                    tokens_sentences  number_of_words  \\\n",
       "0  [[News, -, City, of, Richmond, Hill, Skip, to,...             1562   \n",
       "1  [[Parks, and, Facilities, -, City, of, Richmon...              724   \n",
       "2  [[Reports, ,, Publications, and, Plans, -, Cit...              657   \n",
       "3  [[Tree, Diseases, and, Pests, -, City, of, Ric...             1946   \n",
       "4  [[Parks, and, Facilities, -, City, of, Richmon...              573   \n",
       "\n",
       "                                          POS_tokens  \\\n",
       "0  [[(News, NNP), (-, :), (City, NNP), (of, IN), ...   \n",
       "1  [[(Parks, NNS), (and, CC), (Facilities, NNP), ...   \n",
       "2  [[(Reports, NNS), (,, ,), (Publications, NNS),...   \n",
       "3  [[(Tree, NNP), (Diseases, NNP), (and, CC), (Pe...   \n",
       "4  [[(Parks, NNS), (and, CC), (Facilities, NNP), ...   \n",
       "\n",
       "                         tokens_sentences_lemmatized  \\\n",
       "0  [[News, -, City, of, Richmond, Hill, Skip, to,...   \n",
       "1  [[Parks, and, Facilities, -, City, of, Richmon...   \n",
       "2  [[Reports, ,, Publications, and, Plans, -, Cit...   \n",
       "3  [[Tree, Diseases, and, Pests, -, City, of, Ric...   \n",
       "4  [[Parks, and, Facilities, -, City, of, Richmon...   \n",
       "\n",
       "                                              tokens  \n",
       "0  [news, city, richmond, hill, skip, content, me...  \n",
       "1  [parks, facilities, city, richmond, hill, skip...  \n",
       "2  [reports, publications, plans, city, richmond,...  \n",
       "3  [tree, diseases, pests, city, richmond, hill, ...  \n",
       "4  [parks, facilities, city, richmond, hill, skip...  "
      ]
     },
     "execution_count": 128,
     "metadata": {},
     "output_type": "execute_result"
    }
   ],
   "source": [
    "data.head()"
   ]
  },
  {
   "cell_type": "markdown",
   "metadata": {},
   "source": [
    "# LDA"
   ]
  },
  {
   "cell_type": "markdown",
   "metadata": {},
   "source": [
    "## Data preparation"
   ]
  },
  {
   "cell_type": "markdown",
   "metadata": {},
   "source": [
    "#### Prepare bi-grams and tri-grams"
   ]
  },
  {
   "cell_type": "code",
   "execution_count": 129,
   "metadata": {},
   "outputs": [],
   "source": [
    "from gensim.models import Phrases"
   ]
  },
  {
   "cell_type": "code",
   "execution_count": 130,
   "metadata": {},
   "outputs": [],
   "source": [
    "tokens = data['tokens'].tolist()\n",
    "bigram_model = Phrases(tokens)\n",
    "trigram_model = Phrases(bigram_model[tokens], min_count=1)\n",
    "tokens = list(trigram_model[bigram_model[tokens]])"
   ]
  },
  {
   "cell_type": "markdown",
   "metadata": {},
   "source": [
    "#### Prepare objects for LDA gensim implementation"
   ]
  },
  {
   "cell_type": "code",
   "execution_count": 131,
   "metadata": {},
   "outputs": [],
   "source": [
    "from gensim import corpora"
   ]
  },
  {
   "cell_type": "code",
   "execution_count": 132,
   "metadata": {},
   "outputs": [],
   "source": [
    "dictionary_LDA = corpora.Dictionary(tokens)\n",
    "dictionary_LDA.filter_extremes(no_below=3)\n",
    "corpus = [dictionary_LDA.doc2bow(tok) for tok in tokens]"
   ]
  },
  {
   "cell_type": "markdown",
   "metadata": {},
   "source": [
    "#### Find the optimal number of topics for LDA"
   ]
  },
  {
   "cell_type": "code",
   "execution_count": 193,
   "metadata": {},
   "outputs": [],
   "source": [
    "from gensim.models import CoherenceModel\n",
    "\n",
    "#https://github.com/MimiCheng/LDA-topic-modeling-gensim/blob/master/LDA-TopicModeling%20.ipynb\n",
    "\n",
    "def compute_coherence_values(dictionary, corpus, texts, limit, start=2, step=3):\n",
    "    \"\"\"\n",
    "    Compute c_v coherence for various number of topics\n",
    "\n",
    "    Parameters:\n",
    "    ----------\n",
    "    dictionary : Gensim dictionary\n",
    "    corpus : Gensim corpus\n",
    "    texts : List of input texts\n",
    "    limit : Max num of topics\n",
    "\n",
    "    Returns:\n",
    "    -------\n",
    "    model_list : List of LDA topic models\n",
    "    coherence_values : Coherence values corresponding to the LDA model with respective number of topics\n",
    "    \"\"\"\n",
    "\n",
    "    coherence_values = []\n",
    "    model_list = []\n",
    "    perplexity_list = []\n",
    "    for num_topics in range(start, limit, step):\n",
    "        model= models.LdaModel(corpus=corpus, num_topics=num_topics,  \n",
    "                                           id2word=dictionary_LDA,\n",
    "                                           chunksize=100,\n",
    "                                           random_state=80,\n",
    "                                           passes=10,\n",
    "                                           alpha='auto')\n",
    "        \n",
    "        model_list.append(model)\n",
    "        coherencemodel = CoherenceModel(model=model, corpus=corpus, dictionary=dictionary, coherence='u_mass')\n",
    "        coherence_values.append(coherencemodel.get_coherence())\n",
    "        perplexity_list.append(model.log_perplexity(corpus))\n",
    "\n",
    "    return model_list, coherence_values, perplexity_list"
   ]
  },
  {
   "cell_type": "code",
   "execution_count": 194,
   "metadata": {},
   "outputs": [
    {
     "name": "stdout",
     "output_type": "stream",
     "text": [
      "CPU times: user 6min 30s, sys: 15min 43s, total: 22min 13s\n",
      "Wall time: 3min 27s\n"
     ]
    }
   ],
   "source": [
    "\n",
    "\n",
    "start=2\n",
    "limit=30\n",
    "step=3\n",
    "corpus = corpus\n",
    "%time model_list, coherence_values, perplexity_list = compute_coherence_values(dictionary=dictionary_LDA, corpus=corpus,texts=text, start=start, limit=limit, step=step)\n"
   ]
  },
  {
   "cell_type": "code",
   "execution_count": 195,
   "metadata": {},
   "outputs": [
    {
     "name": "stdout",
     "output_type": "stream",
     "text": [
      "Plotting graph for coherence score and coherence scores\n"
     ]
    },
    {
     "data": {
      "image/png": "[encoded data removed]",
      "text/plain": [
       "<Figure size 432x288 with 1 Axes>"
      ]
     },
     "metadata": {
      "needs_background": "light"
     },
     "output_type": "display_data"
    }
   ],
   "source": [
    "# Print the coherence scores\n",
    "print ('Plotting graph for coherence score and coherence scores')\n",
    "x = range(start, limit, step)\n",
    "plt.plot(x, coherence_values)\n",
    "plt.xlabel(\"Num Topics\")\n",
    "plt.ylabel(\"coherence score\")\n",
    "plt.legend((\"coherence_values\"), loc='best')\n",
    "plt.show()"
   ]
  },
  {
   "cell_type": "code",
   "execution_count": 197,
   "metadata": {},
   "outputs": [
    {
     "name": "stdout",
     "output_type": "stream",
     "text": [
      "Plotting graph perplexity values\n"
     ]
    },
    {
     "data": {
      "image/png": "[encoded data removed]",
      "text/plain": [
       "<Figure size 432x288 with 1 Axes>"
      ]
     },
     "metadata": {
      "needs_background": "light"
     },
     "output_type": "display_data"
    }
   ],
   "source": [
    "# Print the perplexity_list scores\n",
    "print ('Plotting graph perplexity values')\n",
    "x = range(start, limit, step)\n",
    "plt.plot(x, perplexity_list)\n",
    "plt.xlabel(\"Num Topics\")\n",
    "plt.ylabel(\"perplexity value\")\n",
    "plt.legend((\"perplexity\"), loc='best')\n",
    "plt.show()"
   ]
  },
  {
   "cell_type": "code",
   "execution_count": 198,
   "metadata": {},
   "outputs": [
    {
     "name": "stdout",
     "output_type": "stream",
     "text": [
      "Num Topics = 2  has Coherence Value of -1.0524 and perplexity value is  -7.838399464110874\n",
      "Num Topics = 5  has Coherence Value of -1.1673 and perplexity value is  -7.693220209518864\n",
      "Num Topics = 8  has Coherence Value of -3.3227 and perplexity value is  -7.683596991677054\n",
      "Num Topics = 11  has Coherence Value of -3.1748 and perplexity value is  -9.164119288841636\n",
      "Num Topics = 14  has Coherence Value of -2.1435 and perplexity value is  -11.052537503536824\n",
      "Num Topics = 17  has Coherence Value of -2.2603 and perplexity value is  -13.388050968725768\n",
      "Num Topics = 20  has Coherence Value of -3.0289 and perplexity value is  -16.378039056745145\n",
      "Num Topics = 23  has Coherence Value of -3.3772 and perplexity value is  -18.986777282972362\n",
      "Num Topics = 26  has Coherence Value of -3.066 and perplexity value is  -20.353250866509203\n",
      "Num Topics = 29  has Coherence Value of -2.3377 and perplexity value is  -21.692290135514387\n"
     ]
    }
   ],
   "source": [
    "for m, cv, perplexity in zip(x, coherence_values, perplexity_list):\n",
    "    round_umass = round(cv, 4)\n",
    "    print(\"Num Topics =\", m, \" has Coherence Value of\", round_umass,'and perplexity value is ',perplexity)"
   ]
  },
  {
   "cell_type": "code",
   "execution_count": 177,
   "metadata": {},
   "outputs": [],
   "source": [
    "model = model_list[4]\n",
    "#save model\n",
    "model.save('lda.model')\n",
    "\n",
    "num_topics=14"
   ]
  },
  {
   "cell_type": "markdown",
   "metadata": {},
   "source": [
    "## Quick exploration of LDA results"
   ]
  },
  {
   "cell_type": "markdown",
   "metadata": {},
   "source": [
    "#### Looking at topics"
   ]
  },
  {
   "cell_type": "code",
   "execution_count": 178,
   "metadata": {
    "scrolled": true
   },
   "outputs": [
    {
     "name": "stdout",
     "output_type": "stream",
     "text": [
      "0: 0.023*\"exciting\" + 0.015*\"witness\" + 0.013*\"category\" + 0.013*\"class\" + 0.011*\"working\" + 0.008*\"content\" + 0.008*\"festival_event\" + 0.007*\"job\" + 0.007*\"disability\" + 0.007*\"search\" + 0.006*\"fun\" + 0.006*\"parent\" + 0.006*\"volunteer\" + 0.006*\"email\" + 0.005*\"planting_stewardship_eventsvolunteering\" + 0.005*\"centre_performing_artsschool_break\" + 0.005*\"view\" + 0.005*\"camps_programssplash_padssports_hall\" + 0.005*\"profile\" + 0.005*\"famesummer_campsteen_activitiestennis_pickleballtree\"\n",
      "\n",
      "1: 0.030*\"map\" + 0.023*\"centre_performing_artsschool_break\" + 0.022*\"camps_programssplash_padssports_hall\" + 0.022*\"famesummer_campsteen_activitiestennis_pickleballtree\" + 0.022*\"natural_areasrecreation_programsrichmond\" + 0.021*\"report_problem_feedback_parks\" + 0.021*\"address\" + 0.021*\"parks_facilities\" + 0.021*\"planting_stewardship_eventsvolunteering_decrease\" + 0.021*\"homethings_doparks_trails_facilities\" + 0.021*\"print_page_share_page\" + 0.021*\"facebook_linkedin_twitter_email\" + 0.021*\"text_size_default_text\" + 0.021*\"size_increase_text_size\" + 0.021*\"trails_facilities_directoryadvertising_sponsorshiparts\" + 0.011*\"status_open_map_amenities\" + 0.011*\"return_search_address\" + 0.010*\"grass\" + 0.010*\"trail\" + 0.007*\"property_assessment\"\n",
      "\n",
      "2: 0.009*\"meeting\" + 0.007*\"town\" + 0.006*\"grantstax_assistance_programstow_truck\" + 0.006*\"centre_performing_artsrichmond\" + 0.006*\"browser_support\" + 0.005*\"resident\" + 0.005*\"licence\" + 0.005*\"video_tag\" + 0.005*\"facility\" + 0.004*\"day\" + 0.004*\"fee\" + 0.003*\"facility_applications_licences\" + 0.003*\"tax_rebaterichmond\" + 0.003*\"event\" + 0.003*\"request\" + 0.003*\"email_homeregister_apply\" + 0.003*\"permit\" + 0.002*\"specify\" + 0.002*\"book\" + 0.002*\"applications_licences_permitsaccessing_town\"\n",
      "\n",
      "3: 0.042*\"section\" + 0.020*\"size_print_page_share\" + 0.020*\"page_facebook_linkedin_twitter\" + 0.020*\"text_size_increase_text\" + 0.020*\"decrease_text_size_default\" + 0.020*\"report_problem_feedback\" + 0.017*\"servicesaccessibilityaccessing\" + 0.016*\"consideration\" + 0.015*\"news\" + 0.015*\"serviceswindrow_clearing_programwinter_information\" + 0.015*\"developmentplanning_informationproperty_tax_billingsreport\" + 0.015*\"clearingtransportation_roadstrees_yardswarming_centreswater\" + 0.015*\"itreports_publications_planssewer_backupssnow\" + 0.014*\"email_homeour_servicesnews_alerts\" + 0.014*\"news_alertscouncil_highlightsnewspublic_noticesservice\" + 0.014*\"youlibrarylottery_licencemarriage_weddingsnotice_claimplanning\" + 0.008*\"basketball_court\" + 0.008*\"back_search\" + 0.007*\"information\" + 0.007*\"read_tweet\"\n",
      "\n",
      "4: 0.027*\"new\" + 0.023*\"project\" + 0.022*\"work\" + 0.021*\"community\" + 0.021*\"park\" + 0.015*\"year\" + 0.014*\"include\" + 0.012*\"service\" + 0.011*\"business\" + 0.011*\"resident\" + 0.011*\"provide\" + 0.011*\"design\" + 0.010*\"plan\" + 0.010*\"team\" + 0.009*\"part\" + 0.009*\"council\" + 0.009*\"construction\" + 0.009*\"area\" + 0.008*\"help\" + 0.008*\"support\"\n",
      "\n",
      "5: 0.119*\"nbsp\" + 0.062*\"strong\" + 0.030*\"br\" + 0.029*\"clerk\" + 0.026*\"rsquo\" + 0.020*\"council\" + 0.017*\"meeting\" + 0.016*\"mailto\" + 0.015*\"http\" + 0.013*\"li\" + 0.013*\"information\" + 0.010*\"notice\" + 0.009*\"div\" + 0.009*\"person\" + 0.008*\"rdquo\" + 0.008*\"ndash\" + 0.007*\"local\" + 0.007*\"ldquo\" + 0.007*\"include\" + 0.007*\"receive\"\n",
      "\n",
      "6: 0.019*\"park\" + 0.015*\"status_open_view\" + 0.013*\"view_map\" + 0.009*\"search_clear\" + 0.009*\"map\" + 0.008*\"open_space\" + 0.008*\"area\" + 0.007*\"trail\" + 0.007*\"community\" + 0.007*\"avenue\" + 0.006*\"bayview_avenue\" + 0.006*\"soccer_field_artificial_turf\" + 0.006*\"crescent\" + 0.006*\"general_arena\" + 0.006*\"advanced_search_amenities_amenities\" + 0.005*\"comments\" + 0.005*\"page\" + 0.004*\"fire_station\" + 0.004*\"parking_soccer_field\" + 0.004*\"directory\"\n",
      "\n",
      "7: 0.095*\"report\" + 0.039*\"council\" + 0.030*\"plan\" + 0.030*\"incident\" + 0.025*\"meeting\" + 0.023*\"staff\" + 0.019*\"study\" + 0.019*\"respect\" + 0.019*\"planning\" + 0.018*\"development\" + 0.016*\"area\" + 0.011*\"heritage\" + 0.011*\"parks\" + 0.010*\"task_force\" + 0.009*\"cultural\" + 0.009*\"official_plan\" + 0.009*\"policy\" + 0.009*\"november\" + 0.009*\"review\" + 0.008*\"community\"\n",
      "\n",
      "8: 0.126*\"center\" + 0.086*\"propose\" + 0.031*\"amendment\" + 0.028*\"draft\" + 0.026*\"record\" + 0.024*\"zoning_amendment\" + 0.023*\"subject\" + 0.021*\"amend\" + 0.019*\"municipal_freedom_information\" + 0.017*\"pm\" + 0.015*\"zoning\" + 0.014*\"pass\" + 0.012*\"default\" + 0.011*\"province_ontario\" + 0.010*\"transit\" + 0.010*\"accessibility\" + 0.008*\"parking\" + 0.007*\"official_plan\" + 0.007*\"protection\" + 0.006*\"summer_company_program\"\n",
      "\n",
      "9: 0.014*\"tree\" + 0.012*\"community\" + 0.010*\"section\" + 0.009*\"private_property\" + 0.009*\"receive\" + 0.008*\"email_updates\" + 0.008*\"bloomsrichmond\" + 0.008*\"ed_sackfield_arena_fitness\" + 0.008*\"profile\" + 0.008*\"centre_performing_artsschoolsstrategic_prioritiesthe\" + 0.008*\"hillfreedom_informationfollow_us\" + 0.008*\"assessment_mpac\" + 0.008*\"report_problem_feedback\" + 0.008*\"information\" + 0.007*\"worknatural_heritage_systemparkingplanning_developmentplanning\" + 0.007*\"social_mediagarbage_recyclingget_activeheritage\" + 0.007*\"museumsintegrity_commissionerlibrarylottery_licencemunicipal_property\" + 0.007*\"volunteer\" + 0.007*\"wave_pooltransportation_roadstrees_yardsvolunteeringwarming\" + 0.007*\"centreszone\"\n",
      "\n",
      "10: 0.032*\"niagara_falls\" + 0.026*\"property\" + 0.015*\"information\" + 0.013*\"permit\" + 0.012*\"please\" + 0.012*\"centreniagara_falls_history_museumniagara\" + 0.012*\"informationcontact_usaddresscity_niagara_queen\" + 0.012*\"falls_tourismresourcesemployment_opportunitiesweatheraccessibilityprivacy_policysite\" + 0.012*\"developmentcoronation_centregale_centremacbain_community\" + 0.012*\"mapterms_conditions\" + 0.012*\"streetniagara_falls_oncanada_talk\" + 0.012*\"niagara_fallssign_newslettersfacebooktwitterinstagramyoutubecity_sitesbusiness\" + 0.012*\"building\" + 0.011*\"site\" + 0.010*\"within\" + 0.010*\"application\" + 0.009*\"require\" + 0.009*\"include\" + 0.009*\"must\" + 0.008*\"apply\"\n",
      "\n",
      "11: 0.021*\"website\" + 0.021*\"staff_shout_outs_archived\" + 0.021*\"projects_faq\" + 0.021*\"niagara_falls_search_search\" + 0.014*\"share_twitter\" + 0.014*\"share_facebook\" + 0.014*\"share_linkedin_email_link\" + 0.013*\"park\" + 0.012*\"us\" + 0.011*\"information\" + 0.011*\"present\" + 0.011*\"niagara_falls\" + 0.011*\"help_us_understand\" + 0.011*\"site_find\" + 0.011*\"website_function_properly\" + 0.011*\"necessary_enable_core_functionality\" + 0.011*\"explicit_approval_collect_data\" + 0.011*\"location_allow_site\" + 0.011*\"language_analytics_cooky_analytical\" + 0.011*\"facebook_twitter_google_run\"\n",
      "\n",
      "12: 0.034*\"program\" + 0.026*\"facility\" + 0.025*\"community\" + 0.023*\"organization\" + 0.014*\"information\" + 0.013*\"service\" + 0.013*\"centre\" + 0.011*\"open\" + 0.011*\"recreation_culture\" + 0.011*\"available\" + 0.009*\"day\" + 0.009*\"view_full\" + 0.008*\"staff\" + 0.008*\"include\" + 0.008*\"participant\" + 0.007*\"visit\" + 0.007*\"recreation\" + 0.007*\"involve\" + 0.007*\"website\" + 0.007*\"improve\"\n",
      "\n",
      "13: 0.045*\"responsibility\" + 0.034*\"fire\" + 0.030*\"water\" + 0.026*\"municipal_works\" + 0.024*\"home\" + 0.020*\"call\" + 0.020*\"safety\" + 0.019*\"keep\" + 0.018*\"permanent\" + 0.015*\"operate\" + 0.011*\"emergency\" + 0.011*\"case\" + 0.010*\"daily\" + 0.009*\"sure\" + 0.008*\"check\" + 0.007*\"sewer\" + 0.006*\"parent\" + 0.006*\"happen\" + 0.006*\"meter\" + 0.006*\"service\"\n",
      "\n"
     ]
    }
   ],
   "source": [
    "for i,topic in model.show_topics(formatted=True, num_topics=num_topics, num_words=20):\n",
    "    print(str(i)+\": \"+ topic)\n",
    "    print()"
   ]
  },
  {
   "cell_type": "markdown",
   "metadata": {},
   "source": [
    "## Advanced exploration of LDA results"
   ]
  },
  {
   "cell_type": "markdown",
   "metadata": {},
   "source": [
    "#### Allocation of topics in all documents"
   ]
  },
  {
   "cell_type": "code",
   "execution_count": 179,
   "metadata": {},
   "outputs": [],
   "source": [
    "topics = [model[corpus[i]] for i in range(len(data))]"
   ]
  },
  {
   "cell_type": "code",
   "execution_count": 180,
   "metadata": {},
   "outputs": [],
   "source": [
    "def topics_document_to_dataframe(topics_document, num_topics):\n",
    "    res = pd.DataFrame(columns=range(num_topics))\n",
    "    for topic_weight in topics_document:\n",
    "        res.loc[0, topic_weight[0]] = topic_weight[1]\n",
    "    return res"
   ]
  },
  {
   "cell_type": "code",
   "execution_count": 181,
   "metadata": {},
   "outputs": [],
   "source": [
    "# Like TF-IDF, create a matrix of topic weighting, with documents as rows and topics as columns\n",
    "document_topic = \\\n",
    "pd.concat([topics_document_to_dataframe(topics_document, num_topics=num_topics) for topics_document in topics]) \\\n",
    "  .reset_index(drop=True).fillna(0)"
   ]
  },
  {
   "cell_type": "code",
   "execution_count": 182,
   "metadata": {
    "scrolled": true
   },
   "outputs": [
    {
     "data": {
      "text/html": [
       "<div>\n",
       "<style scoped>\n",
       "    .dataframe tbody tr th:only-of-type {\n",
       "        vertical-align: middle;\n",
       "    }\n",
       "\n",
       "    .dataframe tbody tr th {\n",
       "        vertical-align: top;\n",
       "    }\n",
       "\n",
       "    .dataframe thead th {\n",
       "        text-align: right;\n",
       "    }\n",
       "</style>\n",
       "<table border=\"1\" class=\"dataframe\">\n",
       "  <thead>\n",
       "    <tr style=\"text-align: right;\">\n",
       "      <th></th>\n",
       "      <th>0</th>\n",
       "      <th>1</th>\n",
       "      <th>2</th>\n",
       "      <th>3</th>\n",
       "      <th>4</th>\n",
       "      <th>5</th>\n",
       "      <th>6</th>\n",
       "      <th>7</th>\n",
       "      <th>8</th>\n",
       "      <th>9</th>\n",
       "      <th>10</th>\n",
       "      <th>11</th>\n",
       "      <th>12</th>\n",
       "      <th>13</th>\n",
       "    </tr>\n",
       "  </thead>\n",
       "  <tbody>\n",
       "    <tr>\n",
       "      <th>0</th>\n",
       "      <td>0.239226</td>\n",
       "      <td>0.000000</td>\n",
       "      <td>0.0</td>\n",
       "      <td>0.054473</td>\n",
       "      <td>0.703640</td>\n",
       "      <td>0.0</td>\n",
       "      <td>0.000000</td>\n",
       "      <td>0.000000</td>\n",
       "      <td>0.0</td>\n",
       "      <td>0.000000</td>\n",
       "      <td>0.000000</td>\n",
       "      <td>0.0</td>\n",
       "      <td>0.000000</td>\n",
       "      <td>0.000000</td>\n",
       "    </tr>\n",
       "    <tr>\n",
       "      <th>1</th>\n",
       "      <td>0.000000</td>\n",
       "      <td>0.343332</td>\n",
       "      <td>0.0</td>\n",
       "      <td>0.000000</td>\n",
       "      <td>0.000000</td>\n",
       "      <td>0.0</td>\n",
       "      <td>0.138466</td>\n",
       "      <td>0.000000</td>\n",
       "      <td>0.0</td>\n",
       "      <td>0.000000</td>\n",
       "      <td>0.307557</td>\n",
       "      <td>0.0</td>\n",
       "      <td>0.194749</td>\n",
       "      <td>0.000000</td>\n",
       "    </tr>\n",
       "    <tr>\n",
       "      <th>2</th>\n",
       "      <td>0.000000</td>\n",
       "      <td>0.000000</td>\n",
       "      <td>0.0</td>\n",
       "      <td>0.058674</td>\n",
       "      <td>0.050100</td>\n",
       "      <td>0.0</td>\n",
       "      <td>0.000000</td>\n",
       "      <td>0.878701</td>\n",
       "      <td>0.0</td>\n",
       "      <td>0.000000</td>\n",
       "      <td>0.000000</td>\n",
       "      <td>0.0</td>\n",
       "      <td>0.000000</td>\n",
       "      <td>0.000000</td>\n",
       "    </tr>\n",
       "    <tr>\n",
       "      <th>3</th>\n",
       "      <td>0.000000</td>\n",
       "      <td>0.012377</td>\n",
       "      <td>0.0</td>\n",
       "      <td>0.000000</td>\n",
       "      <td>0.345792</td>\n",
       "      <td>0.0</td>\n",
       "      <td>0.000000</td>\n",
       "      <td>0.000000</td>\n",
       "      <td>0.0</td>\n",
       "      <td>0.449137</td>\n",
       "      <td>0.103994</td>\n",
       "      <td>0.0</td>\n",
       "      <td>0.000000</td>\n",
       "      <td>0.071734</td>\n",
       "    </tr>\n",
       "    <tr>\n",
       "      <th>4</th>\n",
       "      <td>0.000000</td>\n",
       "      <td>0.754533</td>\n",
       "      <td>0.0</td>\n",
       "      <td>0.000000</td>\n",
       "      <td>0.000000</td>\n",
       "      <td>0.0</td>\n",
       "      <td>0.000000</td>\n",
       "      <td>0.000000</td>\n",
       "      <td>0.0</td>\n",
       "      <td>0.000000</td>\n",
       "      <td>0.202634</td>\n",
       "      <td>0.0</td>\n",
       "      <td>0.000000</td>\n",
       "      <td>0.000000</td>\n",
       "    </tr>\n",
       "  </tbody>\n",
       "</table>\n",
       "</div>"
      ],
      "text/plain": [
       "         0         1    2         3         4    5         6         7    8   \\\n",
       "0  0.239226  0.000000  0.0  0.054473  0.703640  0.0  0.000000  0.000000  0.0   \n",
       "1  0.000000  0.343332  0.0  0.000000  0.000000  0.0  0.138466  0.000000  0.0   \n",
       "2  0.000000  0.000000  0.0  0.058674  0.050100  0.0  0.000000  0.878701  0.0   \n",
       "3  0.000000  0.012377  0.0  0.000000  0.345792  0.0  0.000000  0.000000  0.0   \n",
       "4  0.000000  0.754533  0.0  0.000000  0.000000  0.0  0.000000  0.000000  0.0   \n",
       "\n",
       "         9         10   11        12        13  \n",
       "0  0.000000  0.000000  0.0  0.000000  0.000000  \n",
       "1  0.000000  0.307557  0.0  0.194749  0.000000  \n",
       "2  0.000000  0.000000  0.0  0.000000  0.000000  \n",
       "3  0.449137  0.103994  0.0  0.000000  0.071734  \n",
       "4  0.000000  0.202634  0.0  0.000000  0.000000  "
      ]
     },
     "execution_count": 182,
     "metadata": {},
     "output_type": "execute_result"
    }
   ],
   "source": [
    "document_topic.head()"
   ]
  },
  {
   "cell_type": "markdown",
   "metadata": {},
   "source": [
    "#### Looking at the distribution of topics in all documents"
   ]
  },
  {
   "cell_type": "code",
   "execution_count": 183,
   "metadata": {},
   "outputs": [
    {
     "data": {
      "text/plain": [
       "<AxesSubplot:>"
      ]
     },
     "execution_count": 183,
     "metadata": {},
     "output_type": "execute_result"
    },
    {
     "data": {
      "image/png": "[encoded data removed]",
      "text/plain": [
       "<Figure size 720x1440 with 2 Axes>"
      ]
     },
     "metadata": {},
     "output_type": "display_data"
    }
   ],
   "source": [
    "%matplotlib inline\n",
    "import seaborn as sns; sns.set(rc={'figure.figsize':(10,20)})\n",
    "sns.heatmap(document_topic.loc[document_topic.idxmax(axis=1).sort_values().index])"
   ]
  },
  {
   "cell_type": "code",
   "execution_count": 184,
   "metadata": {},
   "outputs": [
    {
     "data": {
      "text/plain": [
       "<AxesSubplot:>"
      ]
     },
     "execution_count": 184,
     "metadata": {},
     "output_type": "execute_result"
    },
    {
     "data": {
      "image/png": "[encoded data removed]",
      "text/plain": [
       "<Figure size 720x360 with 1 Axes>"
      ]
     },
     "metadata": {},
     "output_type": "display_data"
    }
   ],
   "source": [
    "sns.set(rc={'figure.figsize':(10,5)})\n",
    "document_topic.idxmax(axis=1).value_counts().plot.bar(color='lightblue')"
   ]
  },
  {
   "cell_type": "markdown",
   "metadata": {},
   "source": [
    "#### Visualizing topics"
   ]
  },
  {
   "cell_type": "code",
   "execution_count": 185,
   "metadata": {},
   "outputs": [
    {
     "name": "stderr",
     "output_type": "stream",
     "text": [
      "/opt/anaconda3/lib/python3.8/site-packages/pyLDAvis/_prepare.py:246: FutureWarning: In a future version of pandas all arguments of DataFrame.drop except for the argument 'labels' will be keyword-only\n",
      "  default_term_info = default_term_info.sort_values(\n"
     ]
    },
    {
     "data": {
      "text/html": [
       "\n",
       "<link rel=\"stylesheet\" type=\"text/css\" href=\"https://cdn.jsdelivr.net/gh/bmabey/pyLDAvis@3.3.1/pyLDAvis/js/ldavis.v1.0.0.css\">\n",
       "\n",
       "\n",
       "<div id=\"ldavis_el607261403638479456807570232974\"></div>\n",
       "<script type=\"text/javascript\">\n",
       "\n",
       "var ldavis_el607261403638479456807570232974_data = {\"mdsDat\": {\"x\": [0.23638480501953077, 0.01949109441694635, -0.14461397121371092, 0.23025633980314567, 0.5214434079663005, 0.19147849455625587, 0.11184050708170508, -0.07217267412405683, -0.32575007537701456, -0.21296194265810914, -0.013926801791403145, -0.1911810086205472, -0.23622474765557103, -0.11406342740347139], \"y\": [-0.3498777411419498, -0.3721933117729697, -0.32964720707505707, -0.03263238755524601, 0.00039056279329754176, 0.32516764779992796, -0.15831053293522823, 0.026933295225796232, -0.10749871799802847, 0.07463837075983339, 0.24192347421626295, 0.2973074952617159, 0.19262873815792753, 0.1911703142637179], \"topics\": [1, 2, 3, 4, 5, 6, 7, 8, 9, 10, 11, 12, 13, 14], \"cluster\": [1, 1, 1, 1, 1, 1, 1, 1, 1, 1, 1, 1, 1, 1], \"Freq\": [52.41433850851631, 20.207690060251196, 6.019718504381454, 5.748368696635698, 4.2769401604646875, 3.343131281138451, 2.1807800494502487, 1.3159695926076809, 1.1812352517223108, 0.9799944847096718, 0.948655404819338, 0.6231416490633938, 0.4920787185224828, 0.2679576377170762]}, \"tinfo\": {\"Term\": [\"nbsp\", \"council\", \"strong\", \"meeting\", \"center\", \"report\", \"community\", \"propose\", \"clerk\", \"park\", \"br\", \"plan\", \"information\", \"rsquo\", \"program\", \"staff\", \"town\", \"new\", \"area\", \"official_plan\", \"facility\", \"project\", \"receive\", \"resident\", \"development\", \"niagara_falls\", \"work\", \"notice\", \"mailto\", \"property\", \"nbsp\", \"strong\", \"br\", \"rsquo\", \"mailto\", \"li\", \"div\", \"rdquo\", \"ndash\", \"ldquo\", \"planning_appeal_tribunal\", \"defaulttext\", \"td\", \"em_planning\", \"ul_li\", \"em\", \"meeting_write_submission\", \"body_oral_submission\", \"stephen_huycke\", \"propose_zoning_pass\", \"amendment_zoning_amendment\", \"inquiries_refer\", \"amp\", \"urban\", \"presentation\", \"section_em\", \"plan_subdivision\", \"notice_collection_personal\", \"body_add_party_hearing\", \"body_entitle_appeal\", \"clerk\", \"http\", \"east_beaver_creek_road\", \"corporation\", \"appeal\", \"meeting\", \"notice\", \"decision\", \"person\", \"town\", \"council\", \"file\", \"official_plan\", \"information\", \"local\", \"application\", \"receive\", \"include\", \"available\", \"community\", \"staff\", \"plan\", \"media_contact\", \"creative\", \"survey\", \"focus\", \"vote\", \"connect\", \"achieve\", \"partner\", \"finalize\", \"contribution\", \"restoration\", \"recover\", \"quality_life\", \"north\", \"innovation\", \"asset\", \"great\", \"updates\", \"mill_pond\", \"anticipate\", \"associated\", \"sustainable\", \"tax_dollar\", \"success\", \"joe_dipaola\", \"work_hard\", \"pond\", \"club\", \"level_government\", \"locate_main\", \"award\", \"develop\", \"team\", \"market\", \"priority\", \"share\", \"look\", \"canadian\", \"data\", \"project\", \"work\", \"instal\", \"design\", \"improvement\", \"ask\", \"operation\", \"new\", \"fund\", \"trail\", \"year\", \"feature\", \"budget\", \"close\", \"park\", \"participate\", \"funding\", \"construction\", \"business\", \"community\", \"provide\", \"resident\", \"part\", \"include\", \"service\", \"help\", \"continue\", \"support\", \"area\", \"plan\", \"update\", \"opportunity\", \"place\", \"local\", \"council\", \"staff\", \"centreniagara_falls_history_museumniagara\", \"developmentcoronation_centregale_centremacbain_community\", \"falls_tourismresourcesemployment_opportunitiesweatheraccessibilityprivacy_policysite\", \"informationcontact_usaddresscity_niagara_queen\", \"mapterms_conditions\", \"niagara_fallssign_newslettersfacebooktwitterinstagramyoutubecity_sitesbusiness\", \"streetniagara_falls_oncanada_talk\", \"zone\", \"applicant\", \"category_media_releasesreturn_newssite\", \"please_refer\", \"pm_pm\", \"related\", \"obtain\", \"development_charges\", \"park_facility_details\", \"municipal_code_chapter\", \"penalty\", \"license\", \"indicate\", \"due_date\", \"refer\", \"exchange\", \"reference\", \"tenant\", \"ownership\", \"similar\", \"notices\", \"download\", \"pursuant\", \"description\", \"whether\", \"associate\", \"extension\", \"occur\", \"niagara_falls\", \"prior\", \"niagara\", \"type\", \"fee\", \"property\", \"inspection\", \"page\", \"basis\", \"site\", \"require\", \"must\", \"permit\", \"building\", \"within\", \"apply\", \"tax\", \"form\", \"please\", \"submit\", \"parking\", \"information\", \"application\", \"section\", \"request\", \"area\", \"include\", \"land\", \"park\", \"provide\", \"construction\", \"complete\", \"notice\", \"email\", \"view_full\", \"participant\", \"falls\", \"stand\", \"woods\", \"far\", \"sports_hall_fame\", \"third_party\", \"voter\", \"game\", \"camp\", \"property_tax_bill\", \"interested\", \"especially\", \"anyone\", \"someone\", \"define\", \"try\", \"nature\", \"along_yonge_street\", \"winter_maintenance\", \"general_inquiry\", \"elgin_barrow_arena\", \"grade\", \"buy\", \"respond_general_inquiry\", \"alternative\", \"proof\", \"distribute\", \"centres\", \"sport\", \"indoor\", \"procedure\", \"organization\", \"coach\", \"active\", \"recreation_culture\", \"conference\", \"book\", \"display\", \"course\", \"choose\", \"facility\", \"content\", \"involve\", \"program\", \"others\", \"yes\", \"directly\", \"outdoor\", \"register\", \"individual\", \"pool\", \"hour\", \"registration\", \"open\", \"hear\", \"offer\", \"centre\", \"community\", \"recreation\", \"improve\", \"environment\", \"available\", \"service\", \"day\", \"information\", \"website\", \"group\", \"staff\", \"visit\", \"include\", \"complete\", \"time\", \"resident\", \"receive\", \"apply\", \"niagara_falls_search_search\", \"projects_faq\", \"staff_shout_outs_archived\", \"share_twitter\", \"share_facebook\", \"share_linkedin_email_link\", \"help_us_understand\", \"site_find\", \"necessary_enable_core_functionality\", \"website_function_properly\", \"act_thing_look_allow\", \"comments_fetch_profile\", \"cookie_information\", \"cookie_policy_manage_cookies\", \"cookie_policy_page_strictly\", \"cooky_help\", \"cooky_social_medium_cooky\", \"cooky_strictly_necessary\", \"explicit_approval_collect_data\", \"facebook_twitter_google_run\", \"information_customize_fit\", \"language_analytics_cooky_analytical\", \"location_allow_site\", \"mainly_user_able_find\", \"manage_cooky_ok_manage\", \"manage_cooky_social_medium\", \"necessary_cooky_always\", \"option_turn_learn\", \"per_gdpr_law_company\", \"privacy_cookie_policy_manage\", \"website\", \"us\", \"park\", \"present\", \"information\", \"niagara_falls\", \"center\", \"zoning_amendment\", \"pm\", \"municipal_freedom_information\", \"summer_company_program\", \"left\", \"young_entrepreneur\", \"summer_company\", \"william_bell_young_entrepreneur\", \"commission\", \"consulting\", \"affordable_housing_strategy\", \"government_announce\", \"accessibility\", \"amend\", \"help_student_age\", \"dog_area\", \"highlight_progress\", \"sports_field\", \"garbage_limit\", \"sbec\", \"federation_canadian_municipalities\", \"along_comprehensive\", \"business_training_mentoring\", \"disabilities_act_aoda\", \"amendment\", \"three_item\", \"response_recent\", \"create_inclusive\", \"accept_donation\", \"province_ontario\", \"service_announcement\", \"diversity\", \"draft\", \"propose\", \"energy\", \"record\", \"commissioner\", \"default\", \"transit\", \"small_business_enterprise\", \"subject\", \"zoning\", \"pass\", \"committee_whole\", \"east_beaver_creek\", \"commercial\", \"adopt\", \"waste\", \"protection\", \"economic\", \"parking\", \"financial\", \"personal\", \"housing\", \"official_plan\", \"mayor\", \"receive\", \"incident\", \"fire_safety\", \"councillor\", \"planner\", \"urban_design\", \"areas\", \"indoor_outdoor\", \"posted_friday\", \"ward_councillor\", \"advice\", \"advisor_back\", \"report_problem_feedback_reports\", \"publications_plansaffordable_housing_strategyasset\", \"popular\", \"publish\", \"policy_areaofficial_planparks_recreation\", \"knowledge\", \"yardswarming_centreswater_serviceswindrow_clearing\", \"planssewer_backupssnow_clearingtransportation_roadstrees\", \"tax_billingsreport_itreports_publications\", \"clearing_programwinter_information\", \"roadstrees_yardswarming_centreswater_serviceswindrow\", \"time_decide\", \"method\", \"mayor_william_bell\", \"recognize_successful_young_entrepreneur\", \"took_part_year\", \"zach_sheng_award\", \"programwinter_information\", \"alertsnotice_claimplanning_developmentplanning_informationproperty\", \"format\", \"task_force\", \"boundary\", \"inform\", \"report\", \"background\", \"legal\", \"study\", \"respect\", \"recommendation\", \"parks\", \"heritage\", \"planning\", \"document\", \"software\", \"input\", \"consultation\", \"plan\", \"cultural\", \"development\", \"review\", \"involve\", \"policy\", \"staff\", \"council\", \"committee\", \"area\", \"meeting\", \"november\", \"view\", \"recreation_culture\", \"land\", \"official_plan\", \"update\", \"community\", \"information\", \"private_property\", \"bloomsrichmond\", \"centre_performing_artsschoolsstrategic_prioritiesthe\", \"hillfreedom_informationfollow_us\", \"assessment_mpac\", \"worknatural_heritage_systemparkingplanning_developmentplanning\", \"social_mediagarbage_recyclingget_activeheritage\", \"museumsintegrity_commissionerlibrarylottery_licencemunicipal_property\", \"wave_pooltransportation_roadstrees_yardsvolunteeringwarming\", \"centreszone\", \"mapsrichmond\", \"informationproperty_taxesreports_publications_plansrh\", \"committees_task_saving_timedavid\", \"dunlap_observatorydavid_hamilton_park\", \"centre_projectdesign_construction_guidelineselectionsemergency\", \"planting\", \"servicesemploymentenvironment_sustainabilityeventsfee_assistancefilming\", \"servicesabout_governmentabout\", \"concrete\", \"oak_ridges_moraine\", \"email_homefind_learn\", \"flow\", \"discover\", \"barrier\", \"aoda\", \"assistancefilming\", \"construction_guidelineselectionsemergency_servicesemploymentenvironment_sustainabilityeventsfee\", \"hamilton_park_ed_sackfield\", \"arena_fitness_centre_projectdesign\", \"lawn_watering_car_washing\", \"ed_sackfield_arena_fitness\", \"profile\", \"increase_text_size_print\", \"page_share_page_facebook\", \"size_default_text_size\", \"email_updates\", \"tree\", \"garden\", \"report_problem_feedback\", \"volunteer\", \"size_print_page_share\", \"page_facebook_linkedin_twitter\", \"section\", \"text_size_increase_text\", \"decrease_text_size_default\", \"community\", \"receive\", \"information\", \"water\", \"responsibility\", \"municipal_works\", \"permanent\", \"operate\", \"meter\", \"never\", \"emergency_services\", \"drain\", \"smoke_alarm\", \"weather_forecast\", \"basement\", \"device\", \"alarm\", \"leak\", \"fire_prevention\", \"smoke\", \"lawn\", \"treat\", \"symptom\", \"door\", \"electrical\", \"rain\", \"burn\", \"daily\", \"restore\", \"activate\", \"remember\", \"appliance\", \"feed\", \"dry\", \"cause\", \"storm\", \"near\", \"away\", \"fire\", \"avoid\", \"prevent\", \"parent\", \"check\", \"water\", \"case\", \"safety\", \"damage\", \"home\", \"keep\", \"sure\", \"call\", \"risk\", \"emergency\", \"happen\", \"sewer\", \"flood\", \"equipment\", \"every\", \"mean\", \"service\", \"area\", \"hour\", \"fire_emergency\", \"services\", \"consideration\", \"clearingtransportation_roadstrees_yardswarming_centreswater\", \"developmentplanning_informationproperty_tax_billingsreport\", \"itreports_publications_planssewer_backupssnow\", \"email_homeour_servicesnews_alerts\", \"news_alertscouncil_highlightsnewspublic_noticesservice\", \"youlibrarylottery_licencemarriage_weddingsnotice_claimplanning\", \"basketball_court\", \"back_search\", \"read_tweet\", \"tweet_subscribe\", \"serviceswindrow_clearing_programwinter_information\", \"eyer_homestead\", \"posted_monday\", \"servicesaccessibilityaccessing\", \"road_closure_arnold\", \"mapping\", \"news_subscribe\", \"november_tweet_subscribe\", \"amendments\", \"opa\", \"collection_personal_information\", \"october_tweet_subscribe\", \"please_advise_harris_avenue\", \"road_closure_harris\", \"service_alerts\", \"trail_amenities_basketball\", \"arnold_crescent_major_mackenzie\", \"chamber_placement_watermain\", \"closure_necessary_facilitate_installation\", \"report_problem_feedback\", \"size_print_page_share\", \"page_facebook_linkedin_twitter\", \"text_size_increase_text\", \"decrease_text_size_default\", \"section\", \"news\", \"search\", \"collection\", \"email_updates\", \"bin\", \"july\", \"june\", \"information\", \"receive\", \"april\", \"please\", \"october\", \"resident\", \"exciting\", \"witness\", \"category\", \"class\", \"working\", \"disability\", \"fun\", \"party\", \"membership\", \"marriage\", \"soccer_field\", \"night\", \"agent\", \"recreation_facility_screener\", \"technician_collection_development\", \"payment_options\", \"skip_main\", \"trails_facilities_directoryparks_trails\", \"party_packagescommunity_recreation_guidedavid\", \"dunlap_observatoryeducational_programs_field\", \"current_openings_working\", \"department_loading\", \"library_profile_current_openings\", \"library_profile_job_opportunities\", \"content_current_openings\", \"festivals_events\", \"museumslibrarymap_gallerymcconaghy_centreoutdoor_activitiesparks\", \"processing\", \"send_job_alert_every\", \"guest\", \"planting_stewardship_eventsvolunteering\", \"appear\", \"festival_event\", \"parent\", \"search\", \"content\", \"ceremony\", \"invite\", \"job\", \"profile\", \"centre_performing_artsschool_break\", \"camps_programssplash_padssports_hall\", \"famesummer_campsteen_activitiestennis_pickleballtree\", \"volunteer\", \"view\", \"date\", \"email\", \"email_updates\", \"apply\", \"receive\", \"skate\", \"size_print_page_share\", \"team\", \"page_facebook_linkedin_twitter\", \"parks_facilities\", \"status_open_map_amenities\", \"return_search_address\", \"grass\", \"property_assessment\", \"assessed_value\", \"billing\", \"facility_details_return_search\", \"directory_section\", \"lawyer\", \"monthly\", \"parkette_facility_details_return\", \"tower\", \"explain\", \"playground_amenities_playground\", \"trail_amenities\", \"facebook_linkedin_twitter_email\", \"homethings_doparks_trails_facilities\", \"planting_stewardship_eventsvolunteering_decrease\", \"print_page_share_page\", \"size_increase_text_size\", \"text_size_default_text\", \"trails_facilities_directoryadvertising_sponsorshiparts\", \"report_problem_feedback_parks\", \"status_open\", \"natural_areasrecreation_programsrichmond\", \"shelter_soccer_field_grass\", \"playground_tennis_outdoor\", \"map_amenities_dog_licence\", \"map_amenities_basketball_court\", \"famesummer_campsteen_activitiestennis_pickleballtree\", \"camps_programssplash_padssports_hall\", \"centre_performing_artsschool_break\", \"map\", \"address\", \"trail\", \"search\", \"court\", \"status_open_view\", \"search_clear\", \"bayview_avenue\", \"soccer_field_artificial_turf\", \"crescent\", \"advanced_search_amenities_amenities\", \"general_arena\", \"parking_soccer_field\", \"playground_pool_indoor\", \"view_map\", \"soccer_field_grass_splash\", \"changerooms\", \"group_picnic_area\", \"locations_family_changerooms_fitness\", \"washrooms_diving_board\", \"room_rentals_teaching_kitchen\", \"read_view\", \"parking_picnic_tables\", \"aerobics_studio_auditorium_diamond\", \"aerobics_studio_fitness_studio\", \"area_sauna_tennis_indoor\", \"basketball_court_bocce_court\", \"basketball_court_gymnasium_seating\", \"board_dog_licence\", \"centre_library_points\", \"clear_map\", \"community_gardens_diving\", \"community_gardens_leash\", \"diamond_group_picnic\", \"directory_section_parks_facilities\", \"comments\", \"fire_station\", \"map\", \"open_space\", \"park\", \"directory\", \"parks_trails_facilities\", \"avenue\", \"trail\", \"area\", \"page\", \"community\", \"natural_areasrecreation_programsrichmond\", \"centre_performing_artsschool_break\", \"camps_programssplash_padssports_hall\", \"find\", \"famesummer_campsteen_activitiestennis_pickleballtree\", \"report_problem_feedback_parks\", \"grantstax_assistance_programstow_truck\", \"browser_support\", \"video_tag\", \"facility_applications_licences\", \"tax_rebaterichmond\", \"email_homeregister_apply\", \"specify\", \"applications_licences_permitsaccessing_town\", \"burningparking_permitsparty_requestproclamationsprocurement_bid\", \"mayor_requestmarriage_weddingsmilestone_certificate\", \"metal_goods_collectionletter_greeting\", \"opportunitiesproperty_taxesregistered_charity\", \"pay_water_billlarge_appliance\", \"requestnews_updates_enewsletteropen_air\", \"soon_possible\", \"assistancegarbage_tags_binshealthy_yards\", \"licencecommunity_gardenscommunity_recreation_guideemploymentfee\", \"plant_kits_rain_barrelshow\", \"schools\", \"death_certificatesbook_facilitybuilding_inspectionsbusiness\", \"resident_minor\", \"permitevent_entertainer_applicationanimal_licencesbirth\", \"air_burningparking_permitsparty_requestproclamationsprocurement\", \"permitslottery_licencemarriage_weddingsproperty_taxessign\", \"bid_opportunitiesproperty_taxesregistered_charity\", \"charity_tax_rebaterichmond\", \"records_informationbuilding_development\", \"permit_faqsbuilding_permitscurb_cut\", \"permitdevelopment_chargesmunicipal_addressing\", \"permitsite_alteration_pool_enclosure\", \"centre_performing_artsrichmond\", \"licence\", \"fee\", \"town\", \"meeting\", \"resident\", \"day\", \"facility\", \"book\", \"event\", \"request\", \"permit\", \"clerk\", \"community\"], \"Freq\": [102663.0, 21311.0, 53499.0, 16393.0, 6922.0, 6281.0, 15489.0, 5418.0, 25203.0, 10750.0, 25831.0, 9712.0, 15309.0, 22564.0, 7817.0, 8357.0, 4602.0, 11020.0, 6031.0, 5663.0, 4643.0, 8470.0, 8181.0, 7614.0, 4812.0, 4077.0, 8360.0, 9535.0, 13429.0, 4207.0, 102661.55649661223, 53497.5376756342, 25829.695899573388, 22562.533356247088, 13427.151675390323, 10915.56975037674, 8030.08942703428, 7115.1184265257325, 6793.309907819881, 6155.972835273779, 4332.518821956422, 4312.749838863417, 4086.8226116618875, 3440.340951522686, 3198.1999676998066, 2722.1914168764447, 2515.5063018325204, 2342.168970603891, 1825.4931581510155, 1734.5539120125902, 1704.6535355121432, 1418.4578045439453, 1373.4204601387326, 1349.9778098274699, 1329.3037871208244, 1293.6279712701305, 1267.0912318102842, 1266.9603658076917, 1251.219370135983, 1251.219370135983, 25087.210699443523, 12538.973534940877, 4433.082831709711, 5499.567804561272, 4738.83150664259, 14926.043172134103, 8775.060479991338, 3134.2750317473806, 7768.905736371681, 4351.060510409493, 16817.877377305318, 3173.633432943615, 4943.374868287272, 10850.83897645123, 6334.138180083504, 4319.718002584918, 5728.9596741101495, 5787.6678062134415, 4146.075450955143, 5344.746710051672, 4529.450712271146, 4385.755833277516, 1249.0545991100266, 997.6643766552634, 733.6671311440138, 1330.0633005434097, 509.1155190020048, 464.5068373343728, 347.4167550946172, 645.083414294168, 328.9584884896942, 318.07527593350335, 295.5657204837538, 280.5610049328005, 214.74054164694294, 214.46080538301698, 209.67281847370535, 207.43170256778882, 1986.0284207352556, 200.22881248791887, 179.22983672659655, 155.48542975437832, 152.31106445449328, 291.09700996626873, 139.51854855568655, 134.71896230743778, 129.83362207882033, 128.69316850703567, 122.8826240545868, 121.44721310466724, 120.09688007039897, 679.9077783134084, 1459.0598482633457, 1873.3946480544544, 3190.2302594985335, 698.4485634461239, 556.0533015694895, 1755.327169394684, 1344.6491457115958, 1108.5260098665422, 1379.6776426432218, 7600.334078761486, 7463.685869202269, 599.1019349275152, 3588.4115166224756, 1471.6811652595716, 1120.859052867268, 936.3471611358827, 8942.705311330405, 1159.4973490671225, 1863.5588722230011, 4938.405050505805, 1181.0836705387885, 2214.670108520735, 2010.2106761926652, 6848.25218094808, 1160.1214147496885, 1455.9885828328643, 2987.645728477031, 3725.6744428550237, 7099.70498767954, 3672.6836403951606, 3688.0320865645754, 3084.559258026116, 4795.070058671982, 3946.008183805838, 2767.8599476377376, 2324.610130309252, 2637.23713589816, 2946.4037718375193, 3277.5262082746726, 1929.7070530515853, 1695.8945132492622, 1852.4779010789027, 2522.5971121942675, 3046.5015275732962, 1915.9959969954473, 1169.3369908753434, 1169.3369908753434, 1169.3369908753434, 1169.3369908753434, 1169.3369908753434, 1169.3369908753434, 1169.3369908753434, 462.04814988792106, 455.8624131271363, 268.0552217261463, 260.97448744369433, 216.2903695683663, 157.9473143969866, 141.95318966218497, 104.51143960655742, 96.71441960022618, 80.05355220867625, 78.29621185825332, 117.3182591644796, 74.22725874341671, 94.9149417491528, 66.99076589137485, 617.3388856183371, 62.42041507147511, 55.89590960752311, 54.831004108359465, 53.49408357870993, 51.46702985016491, 48.32251239072866, 295.22537626954033, 212.89909195900606, 226.3070916060934, 274.1058745096991, 443.9453318152301, 371.6710078401128, 3146.2019007021786, 257.9953437065978, 405.6996030806621, 398.6124011550678, 608.3120812457607, 2570.04565223463, 189.74108575010982, 546.6184071540275, 258.72261982051424, 1076.5350120292148, 899.6528437382821, 867.4797946003885, 1263.4327745482165, 1148.0110769315158, 978.051910686543, 810.9205545357464, 640.0159615658155, 669.267891622704, 1192.3807660774237, 489.4977020117579, 491.0456092594669, 1521.9783052358594, 947.2009306664215, 617.492866161476, 768.3659024108911, 781.209813096656, 871.1441172296674, 625.6178371048646, 791.1771646911794, 717.1763712779689, 668.2738539998221, 654.8358408059107, 659.2798711899536, 633.0829703485964, 803.3363096886367, 758.9626190355488, 507.1184861611009, 300.16716621923376, 278.8834384871839, 202.43089658680236, 156.96584909273588, 113.53912416266527, 112.05156266563536, 109.85935405058446, 106.30095204161383, 103.54073982484688, 99.30337317313308, 96.5555241504986, 93.17422901854023, 87.5831420620981, 83.79131195840064, 73.65119046829474, 349.5063112581316, 71.34990001772486, 70.62807630198917, 65.98682332960308, 65.60481162041583, 63.741947507547884, 59.61190437040978, 59.00506385485895, 58.38860752164954, 56.82976259462831, 54.80583078860263, 49.63135600065982, 505.62975977644606, 313.3378472658894, 530.7248239851579, 2154.1068552025044, 358.97697952284693, 250.92958619382233, 1043.2362563114045, 170.8121649618484, 117.25892904472347, 220.48823726199709, 140.9665901131372, 207.815974265727, 2483.5743519354432, 334.1235745487777, 655.3048519624205, 3225.778677808695, 403.8059654051864, 299.34049162774886, 454.0545579939742, 470.10517093462266, 451.4977395523216, 622.5153753058986, 445.7264906362283, 471.23599109127207, 355.2311405013222, 1080.5269906247095, 303.2902738996827, 524.6049879420585, 1231.7812748078707, 2397.102589594065, 679.1933123818274, 626.9034850099813, 625.7606203548704, 1032.8617231657943, 1240.175235242966, 807.4750455249381, 1317.9435726632305, 648.8504953598614, 546.2164227399129, 791.2416990802589, 689.8084717485261, 762.6505213819922, 621.0350449037479, 538.7267228079247, 586.563118852645, 516.522382187995, 507.14692700235855, 1481.8751483671158, 1481.8751483671158, 1481.8751483671158, 978.0849875298762, 973.6532010171364, 973.6532010171364, 743.4159653628766, 742.7617156182133, 741.8407815895077, 741.8407815895077, 741.3198412809196, 741.3198412809196, 741.3198412809196, 741.3198412809196, 741.3198412809196, 741.3198412809196, 741.3198412809196, 741.3198412809196, 741.3198412809196, 741.3198412809196, 741.3198412809196, 741.3198412809196, 741.3198412809196, 741.3198412809196, 741.3198412809196, 741.3198412809196, 741.3198412809196, 741.3198412809196, 741.3198412809196, 741.3198412809196, 1499.242659835376, 842.7988040758252, 910.3951263000079, 774.8669188452316, 794.0004859879731, 767.7697285536937, 6920.113283538725, 1300.8573799378687, 951.9885711714575, 1027.9830914467263, 320.9945235270736, 250.83599725583838, 145.89533786612185, 130.9219535127817, 107.95286367184927, 103.30888575957826, 82.36275345562098, 81.20765332382777, 78.08095587914437, 564.0096036736516, 1127.1961143783444, 65.97696293994574, 61.67580621479402, 57.73031073278281, 56.18974048712585, 49.34018416146233, 48.28773097826492, 45.25348960645512, 44.44008899436869, 44.44008899436869, 44.01866800189896, 1684.952093077006, 42.27050300281965, 40.772281294343706, 40.39885871935501, 39.22702305411653, 622.684403106636, 108.40941746070959, 84.64427610279759, 1558.9988258120645, 4746.57723314281, 230.31629669792008, 1402.1034394350063, 101.51190426080252, 649.213377707835, 564.9365930839646, 271.71933535849723, 1270.3411748791389, 838.2295351488324, 795.4640828188012, 181.42027685364204, 147.06910688972093, 288.1503632641766, 303.0699842769241, 227.3454822628722, 358.088595333849, 307.5106112372651, 462.5889347536668, 290.3281748167507, 255.7972057209285, 191.3446750766877, 385.30808245497514, 224.96596231406616, 270.69540320566057, 1057.6678053069515, 125.13424619633146, 97.23046892966399, 86.62286860766436, 77.2002016797022, 51.051990771350454, 84.96583129381231, 27.369663794835375, 27.264176472742545, 24.626534816144208, 24.197070671315984, 23.850745228310313, 23.797438734741466, 22.428509135426815, 15.675372495588483, 14.368651524239118, 14.161768880948012, 12.131672621557302, 11.778617160778794, 11.778617160778794, 11.645612539751363, 11.645612539751363, 11.464708786500212, 10.8383262185928, 10.816316340118426, 10.816316340118426, 10.816316340118426, 10.816316340118426, 10.762266699163483, 10.734680609587253, 50.807371249712844, 367.403629368061, 199.7894192687188, 257.00235410317293, 3394.0649527935448, 90.313607435898, 68.04864492410006, 696.8659762939894, 669.3325761801195, 251.2708345781644, 400.2865900115693, 407.85165946772355, 669.3312420585848, 178.60847219512166, 39.44437880740518, 172.64328128331928, 246.04603108853505, 1080.3957663590902, 338.18896929622554, 641.1914837072167, 305.7109478915218, 244.37681157741972, 329.00167476001394, 819.080580894336, 1396.7153151637626, 290.21472603010534, 563.5044527412612, 910.0563295243999, 311.5763798655708, 255.25335412428555, 226.39992413447564, 269.11369283643376, 333.46117610781073, 252.37408638124296, 297.4139793614587, 252.90346580619195, 204.47194717976006, 176.3114584924392, 174.10766136557223, 173.61486272587123, 173.56772633974995, 161.93941938960435, 161.66042511786515, 160.7537239245415, 158.12400869216702, 157.57790487798175, 155.16164179889898, 153.8491792424677, 149.93848944515923, 147.3891797903059, 146.4415009359477, 134.60043619857404, 121.55128520640228, 94.24092197312793, 69.54858547682247, 64.32104050298408, 57.63616707894646, 92.88111170177335, 29.791172166452302, 29.291487729952973, 28.01916255098639, 25.51659178284105, 25.51659178284105, 25.51659178284105, 23.83041185081418, 22.547651054339536, 175.22063959619604, 174.92031117873157, 44.25625632182287, 44.25625632182287, 44.25625632182287, 182.20348663104733, 303.31769355854146, 136.0274993453446, 172.40247945209924, 159.58351584168204, 149.91167081385836, 149.9109663845184, 215.04305663973238, 149.9105437269144, 149.90996005688984, 253.5506865100155, 189.41857395601542, 167.4782567204203, 137.14600231464917, 882.2728982296135, 505.9537325574105, 343.2756335377135, 283.3910491682201, 117.86775839688819, 75.46633125377751, 73.92898520916505, 54.19059671639503, 51.37462658053948, 50.930426405345194, 50.18132328430197, 48.63671474229028, 47.70300507976917, 47.391760998131325, 47.15554465703835, 44.72770713250012, 44.28347082547799, 37.03606298084933, 33.81889631966693, 31.280626379762573, 28.83148010974574, 27.610752756164842, 24.671981828619884, 192.38066555957016, 23.645203352257116, 21.065246315962852, 20.585519521028274, 20.518980501790548, 17.8158884543992, 17.5586377438954, 55.00479584180095, 69.67710461892682, 83.34073470720699, 84.9110420117819, 651.4847500310574, 60.75510398157127, 73.06928707953033, 125.05280722311433, 159.11223086258542, 579.5665145915643, 209.25901663593467, 381.33003595488174, 106.46116616638818, 458.77680237475937, 361.3147376498949, 169.52233437966294, 394.0583394813442, 105.88750113550414, 219.8092574473552, 122.30137756476816, 127.61845605557725, 60.191573928401084, 97.47201904343906, 104.77690810970957, 79.65141312726529, 107.46068092039367, 94.21186228182468, 81.54641006991929, 79.3837124146735, 79.72614278023033, 252.4510247344031, 240.83923335907346, 240.83923335907346, 240.83923335907346, 229.3848472227406, 226.7620011174039, 226.7620011174039, 133.87490937685357, 125.06415786866151, 106.11835700430356, 66.47369976532455, 246.2247947080365, 29.75536434372732, 28.702121030155748, 269.20975159599647, 26.353493826111745, 24.79876112316206, 23.294647049368912, 22.52863981953801, 22.162006042221766, 21.7254732925463, 21.44333129617985, 18.521873123823248, 18.39152893596039, 18.39152893596039, 17.074974325617173, 16.941299028025973, 16.548913786583714, 16.548913786583714, 16.548913786583714, 325.43639578243346, 325.86385697232004, 325.8633473762311, 325.86304761382587, 325.8624780652559, 682.0016185380591, 248.90726355577743, 61.67031073062769, 54.85526490568855, 57.522651957415334, 36.80513537306745, 83.53522412652116, 71.8384201330626, 113.71435134146029, 88.30660228336737, 64.04813479294305, 56.706683702204415, 51.03054391868215, 52.61106742957354, 359.0128294358692, 240.50350092332596, 207.11878401145066, 200.97305197038426, 175.6519877072172, 105.51544178620082, 93.48511465888032, 56.61447294184925, 47.05258174538759, 45.209410566375546, 44.76234674034166, 43.21733539162837, 39.148761859323535, 36.54740702259618, 34.44268538746826, 33.91329127557263, 32.987668607550255, 32.957802206378986, 32.133403932027576, 31.986781447870865, 31.30278137489625, 31.083658328848422, 31.083658328848422, 31.083658328848422, 30.864535282800592, 30.724231388738648, 30.701971235230253, 28.66624446892421, 27.404748112675193, 27.1577209830458, 84.23778913829643, 56.97655862279683, 117.2483091336751, 91.42706063578417, 105.43399653821687, 123.68106911468385, 45.88232590265118, 48.00431303080501, 112.68834008294928, 75.73726148076224, 80.33498972947118, 78.88395562000326, 71.91398490157981, 89.8323239417154, 79.43508031356237, 67.53888720559016, 85.94216171307967, 51.071038194259884, 56.84720525887043, 59.53033904638811, 49.98438215893124, 49.801422340922954, 51.92557128290944, 49.80121559027117, 215.68808332935637, 113.08241623168819, 112.35975594188074, 101.97505123898631, 68.0769447269176, 63.0151490809984, 62.979900962493744, 61.52774233366237, 56.66639921620295, 40.16546214782832, 32.073567260192156, 31.408158358754882, 24.86379739964872, 21.29890552691114, 21.140510575025928, 20.627423389427605, 213.8687714921073, 213.8687714921073, 213.8687714921073, 213.8687714921073, 213.8687714921073, 213.8687714921073, 213.8687714921073, 219.60118201073138, 19.263301666013778, 228.2136549643619, 16.30169847234543, 12.35625248254278, 12.192332291586844, 9.251725125517028, 229.3902378271742, 230.22323135151686, 230.40379397236023, 310.47009767631744, 219.2427252760559, 101.68304032889228, 34.33243938449594, 24.156802675554943, 118.43304355789476, 71.52169780041804, 52.14730617001198, 49.424151589399884, 46.78766520878428, 44.61399123065079, 44.61399123065079, 32.14515710939517, 26.24676370816674, 105.21606779948644, 25.055930147230292, 24.727238590457404, 23.731066051317512, 23.697111097224585, 23.697111097224585, 23.483473532679582, 23.312171005650228, 23.275883024290984, 22.372263934574224, 22.372263934574224, 22.372263934574224, 22.372263934574224, 22.372263934574224, 22.372263934574224, 22.372263934574224, 22.372263934574224, 22.372263934574224, 22.372263934574224, 22.372263934574224, 22.372263934574224, 43.18800733600557, 35.95219476551908, 68.8758115776875, 64.30628416672302, 152.56932655067573, 30.54719712017113, 24.848514615886668, 52.591898382133586, 57.833499452527235, 62.2085013077945, 42.3010957318734, 56.88665538828114, 25.029990270681324, 24.11661762181248, 24.10491861895606, 24.207863447082314, 24.098928007007707, 23.948385659701376, 27.590388473292162, 25.569658019949955, 21.030378394201726, 15.349798122786405, 15.206964699730914, 11.864507689510498, 10.844201333640276, 9.889648022162614, 9.617090188532588, 9.617090188532588, 9.617090188532588, 9.617090188532588, 9.617090188532588, 9.617090188532588, 8.53597625159498, 8.02627950703699, 8.02627950703699, 8.02627950703699, 7.8882312065131375, 7.8324812760993066, 7.137460798199274, 6.289997207320724, 5.976383421940554, 5.886618191106717, 5.676466736041267, 5.116182727258702, 5.036937491747605, 4.939565550232654, 4.939565550232654, 4.939565550232654, 27.041897965304308, 21.132463740321494, 17.957148432181434, 28.790116689398015, 38.432194428176636, 23.849644931932897, 19.762489460445774, 20.612428856612347, 10.047039159820832, 14.998731699207909, 13.714610949528879, 11.40679568420827, 8.759624508217122, 8.314347366883737], \"Total\": [102663.0, 21311.0, 53499.0, 16393.0, 6922.0, 6281.0, 15489.0, 5418.0, 25203.0, 10750.0, 25831.0, 9712.0, 15309.0, 22564.0, 7817.0, 8357.0, 4602.0, 11020.0, 6031.0, 5663.0, 4643.0, 8470.0, 8181.0, 7614.0, 4812.0, 4077.0, 8360.0, 9535.0, 13429.0, 4207.0, 102663.69791524076, 53499.71484996105, 25831.836621097635, 22564.67407774987, 13429.29239682146, 10917.710471904365, 8032.230148626819, 7117.259147994597, 6795.450629327852, 6158.113556742644, 4334.659547371593, 4314.89056031084, 4088.9633333373836, 3442.481672963427, 3200.3406892077764, 2724.3321383238676, 2517.647023302535, 2344.309692073906, 1827.633879591757, 1736.6946334533318, 1706.7942572387562, 1420.5985260139605, 1375.5611834346298, 1352.1186340653142, 1331.4446863167116, 1295.768692710872, 1269.2319691983628, 1269.1010872484333, 1253.3600916059982, 1253.3600916059982, 25203.804133152054, 13064.648947527168, 4532.8468921267, 5663.936956192844, 4944.9533564002995, 16393.924607520883, 9535.398396650126, 3252.1783433282153, 8460.508255894285, 4602.826690359992, 21311.558079847353, 3388.042842936261, 5663.857073300355, 15309.91299598217, 9161.94462864724, 5361.070485576268, 8181.143087939957, 12452.231202005052, 5901.779831734101, 15489.886217899324, 8357.919723974157, 9712.147000208231, 1251.374358318586, 999.984211621775, 735.986898081606, 1334.9697052980046, 511.435282120879, 466.85772657257905, 349.73651436459875, 649.485121448742, 331.27826891228347, 320.3955271066713, 297.88548452983645, 282.8807645266421, 217.0603039934745, 216.7805719386178, 211.99257773858207, 209.7514624922409, 2008.7262119068223, 202.5485839456675, 181.54960813971257, 157.8051904293313, 154.63086090900921, 295.6946887951705, 141.83830969256425, 137.03876632926008, 132.15338395636056, 131.02858072075648, 125.20239558188183, 123.76697288418643, 122.41664045767929, 693.2269992513664, 1492.8755209579049, 1924.0125848842904, 3296.988712193704, 714.9073494938765, 568.7606847244792, 1826.7048429479673, 1410.9699960903624, 1161.8263111208544, 1454.947383996211, 8470.171166535552, 8360.89417666374, 622.7555674494653, 3965.6334346421377, 1582.8417486084688, 1209.6966268177325, 1009.2641332564679, 11020.336369707804, 1269.6252779225397, 2133.062191176643, 6160.3311721183845, 1332.5960127524563, 2727.259020381677, 2538.763218207579, 10750.252145359966, 1361.2392438087302, 1789.9018861322218, 4300.956947118365, 6484.373553802434, 15489.886217899324, 6743.774318397124, 7614.068122298439, 6087.095574033988, 12452.231202005052, 9256.328506791891, 5215.435540373754, 3938.089444981583, 4968.573128152042, 6031.3405551083515, 9712.147000208231, 3296.875274555676, 2462.057955858696, 3109.415920288, 9161.94462864724, 21311.558079847353, 8357.919723974157, 1171.748524173297, 1171.748524173297, 1171.748524173297, 1171.748524173297, 1171.748524173297, 1171.748524173297, 1171.748524173297, 464.4596837490141, 458.29216464887963, 270.46675031581884, 263.3860433411602, 218.70191994150846, 160.35885004918694, 144.36472141459979, 106.92297458008532, 99.12595873137111, 82.4650819971773, 80.70774475787735, 120.95695788868939, 76.6387915576698, 98.18532025946242, 69.40232026557837, 639.9782535239809, 64.83194745492271, 58.30744101547606, 57.242536530230794, 55.90561657002454, 53.87856502973999, 50.734051046445664, 310.6270079892948, 226.7782273713252, 245.65802356634202, 299.7379451369239, 497.78971611601526, 421.85906876113506, 4077.1656365958256, 288.8598788614162, 472.1444704325406, 469.51910746174605, 783.2684392676099, 4207.7627299043515, 218.92258204804438, 793.7462570842574, 320.53786740014453, 2433.7997985710244, 1966.8116346251668, 1911.924800710889, 3432.9138042637633, 3054.567528911979, 2411.122992432937, 1802.417932907586, 1324.7260865312837, 1476.4125825435885, 4862.033007435719, 907.030595799761, 1014.8937617221384, 15309.91299598217, 5361.070485576268, 1840.224136046305, 3670.4115708944632, 6031.3405551083515, 12452.231202005052, 2614.258156076711, 10750.252145359966, 6743.774318397124, 4300.956947118365, 5525.174720285477, 9535.398396650126, 6595.25801943578, 805.6876131156528, 761.3139226113975, 509.4697972954107, 302.51848455352626, 281.234874629072, 204.78220850668845, 159.31715047702446, 115.89042868530328, 114.40286471737116, 112.21065433075579, 108.65225076996668, 105.89204426580233, 101.6546800983192, 98.9068294698786, 95.52554255712612, 89.9344449437309, 86.14262583426887, 76.00249266647197, 360.80173587653064, 73.7012247168854, 72.97937813172517, 68.33812577066021, 67.95611243476596, 66.09325539429629, 61.96321123977391, 61.35636567839876, 60.739921146210655, 59.18107128807954, 57.15713664141745, 51.98265800245094, 548.0495936804823, 343.0248434487086, 594.9707875130782, 2833.282732100657, 422.871390413281, 292.8053776042315, 1410.7933163607263, 194.17545048391617, 129.56777272457654, 264.1626776036397, 160.6249235838754, 252.02268447967697, 4643.631462957981, 459.9724552326876, 1053.8098607013983, 7817.135548458196, 598.8300194937577, 411.7728032819897, 706.1891654803783, 754.1089398909683, 716.2014753975541, 1120.1162640632474, 767.7582286914453, 836.0954059882133, 581.1657162166276, 3474.5809412910944, 466.32045702590307, 1155.7549234648616, 4894.637558099542, 15489.886217899324, 1799.4347687135346, 1566.9143575397602, 1578.2883757968325, 5901.779831734101, 9256.328506791891, 3442.162434726483, 15309.91299598217, 3358.4265802840932, 1905.1175881313204, 8357.919723974157, 5141.923173066482, 12452.231202005052, 5525.174720285477, 2721.7132648662587, 7614.068122298439, 8181.143087939957, 1802.417932907586, 1484.390935138014, 1484.390935138014, 1484.390935138014, 980.6007764404926, 976.1689898460851, 976.1689898460851, 745.931753990278, 745.2775024548455, 744.3565683604053, 744.3565683604053, 743.8356280518171, 743.8356280518171, 743.8356280518171, 743.8356280518171, 743.8356280518171, 743.8356280518171, 743.8356280518171, 743.8356280518171, 743.8356280518171, 743.8356280518171, 743.8356280518171, 743.8356280518171, 743.8356280518171, 743.8356280518171, 743.8356280518171, 743.8356280518171, 743.8356280518171, 743.8356280518171, 743.8356280518171, 743.8356280518171, 3358.4265802840932, 2936.2863779673216, 10750.252145359966, 1755.933506463863, 15309.91299598217, 4077.1656365958256, 6922.363567116719, 1303.1076637661947, 954.2388697735366, 1033.0115945655773, 323.2448071615098, 253.08628165354344, 148.14562123692536, 133.17223713499772, 110.20314763740058, 105.55918900583357, 84.61311724307973, 83.45793759416495, 80.33123957385001, 580.728548204143, 1161.7299479358355, 68.22724710107931, 63.92609224229164, 59.980746279720385, 58.440024575196766, 51.59046790681747, 50.538014665601125, 47.50377393030886, 46.69037235678689, 46.69037235678689, 46.268951519367576, 1774.5928877814724, 44.520787312818975, 43.022564746198206, 42.64914320992164, 41.477306332291334, 669.9268605225835, 114.93038954609759, 89.8497479664144, 1713.79544912875, 5418.249137541701, 252.2821293710869, 1672.638655325944, 110.00495844972681, 763.8793200490994, 663.1461353352598, 307.35013509396623, 1603.7380573995367, 1031.953250292967, 987.2781125243788, 206.57559803398703, 164.66151470294565, 374.7290264537279, 416.96648776118894, 303.9104561998822, 540.4131941912732, 462.83404226736246, 1014.8937617221384, 526.2834571730513, 593.7767381326466, 362.0077270109432, 5663.857073300355, 763.4177588422725, 8181.143087939957, 1060.091833341137, 127.55818627426483, 99.65440958777874, 89.04680929397793, 79.62413707845926, 53.47592645324733, 89.70643848957504, 29.79359255129048, 29.688106686422103, 27.05048503966853, 26.62100065537783, 26.27466992727501, 26.221363419069327, 24.85243969373963, 18.09930415807758, 16.792576266155006, 16.585704006535927, 14.555597968594787, 14.2025423545838, 14.2025423545838, 14.069538163894235, 14.069538163894235, 13.888633057084416, 13.262261050807677, 13.240248176695376, 13.240248176695376, 13.240248176695376, 13.240248176695376, 13.186191369470414, 13.158605845355064, 64.4909673820607, 522.7181883413989, 287.8397694655914, 382.2388721423798, 6281.9521855819075, 129.18359057265982, 110.69990329468925, 1827.7238234632773, 2040.5849410736193, 648.6467821878258, 1305.6901297098507, 1351.3701706143036, 2724.335455066369, 488.95279058891236, 68.3555511314988, 566.4538205809262, 947.9364906298063, 9712.147000208231, 1696.8916746707825, 4812.075612747118, 1498.8279879174966, 1053.8098607013983, 1808.4500056344439, 8357.919723974157, 21311.558079847353, 1557.588798084385, 6031.3405551083515, 16393.924607520883, 1988.6263326552757, 1828.1985819132512, 1410.7933163607263, 2614.258156076711, 5663.857073300355, 3296.875274555676, 15489.886217899324, 15309.91299598217, 206.79831089830648, 178.63776646319184, 176.4339693444677, 175.9411707047667, 175.89404856555856, 164.26572739064213, 163.98673309743904, 163.0800319041154, 160.45031670134762, 159.90421288716234, 157.4879497836511, 156.17548724350547, 152.26479740793454, 149.7154878118342, 148.76780888990174, 136.9267726395434, 123.87759322657377, 96.5672300629988, 71.87493920077044, 66.64740325455742, 59.96247510003231, 97.15963274896993, 32.117589529655255, 31.617819415756692, 30.34547331220899, 27.84289993861747, 27.84289993861747, 27.84289993861747, 26.15672002805448, 24.873982971595257, 233.86005494599794, 252.80039466902895, 55.58889423651451, 55.58889423651451, 55.58889423651451, 504.2903492087981, 1147.8801083405544, 399.58247803543054, 685.7053192437119, 695.5906907147091, 688.5333562405183, 688.5329185863058, 1840.224136046305, 688.5328181086088, 688.5324820396919, 15489.886217899324, 8181.143087939957, 15309.91299598217, 1899.8796694716525, 884.7008814572642, 508.38170777922693, 345.703802359772, 285.81902582414585, 120.29572001343466, 77.8942952387568, 76.35695920960288, 56.61855792837108, 53.80258596473737, 53.35844588101922, 52.60928594206111, 51.0646792224467, 50.130976132427016, 49.819720832427116, 49.58350984425352, 47.15567776161372, 46.71143707117509, 39.46403586804008, 36.24685864056119, 33.70859195463111, 31.259440915627863, 30.038715673250042, 27.099941584941643, 211.51610183118945, 26.073176175904134, 23.493231010861166, 23.013480252797475, 22.946940078880107, 20.244015279179404, 19.986597770428062, 64.69231294448635, 83.13807384582823, 108.05299379924335, 111.85515585957523, 1358.0296553246299, 81.7152295372886, 102.98852236302928, 218.7244522351295, 307.5451824036059, 1899.8796694716525, 490.491821677266, 1174.2595379600907, 190.09633754960598, 1915.0991425446396, 1467.90428908435, 425.5121319014433, 2341.154337979648, 220.20330439271672, 1003.1662513171948, 312.83631706741596, 635.185674212266, 86.031502809701, 423.0813339677469, 962.4703192199574, 347.90381896089997, 9256.328506791891, 6031.3405551083515, 836.0954059882133, 671.2778629764463, 2404.415612375509, 254.7954488899153, 243.18360094706043, 243.18360094706043, 243.18360094706043, 231.72921479948903, 229.10636869415234, 229.10636869415234, 136.21929237951426, 127.4085254595787, 108.46272454072468, 68.81806735089421, 254.97465719506596, 32.09976888761276, 31.04648860264847, 291.5222572038692, 28.69788678382904, 27.14313982160692, 25.63901458367315, 24.873007413627448, 24.50637702822333, 24.06990012002528, 23.78769917225666, 20.86624071181021, 20.735926934543528, 20.735926934543528, 19.419341898058544, 19.28567487592355, 18.893300061800947, 18.893300061800947, 18.893300061800947, 685.7053192437119, 688.5333562405183, 688.5329185863058, 688.5328181086088, 688.5324820396919, 1840.224136046305, 746.3132185520583, 296.8026483735344, 412.72012009297725, 504.2903492087981, 129.21220695565506, 2289.6727862804746, 1925.5059125010746, 15309.91299598217, 8181.143087939957, 2055.516859987061, 4862.033007435719, 2661.276747956697, 7614.068122298439, 361.3804070334537, 242.87307036274436, 209.48634104231934, 203.340570968158, 178.0194908684488, 107.88296038558508, 95.85263185814254, 58.981981296280196, 49.42010017761613, 47.576911679991056, 47.129869735480085, 45.58484201826308, 41.516272521921984, 38.91490752098284, 36.810185885854914, 36.28086222863459, 35.35516928011345, 35.325303941618046, 34.50090500352031, 34.35428255683594, 33.670281894746786, 33.45115884869896, 33.45115884869896, 33.45115884869896, 33.232035802651126, 33.09174000647635, 33.06947280058589, 31.033748054229523, 29.77224863252573, 29.525236533579854, 93.53498498166398, 64.67532270465288, 287.43774515616434, 218.7244522351295, 296.8026483735344, 459.9724552326876, 76.38976449626948, 86.64842267552751, 611.7901099086262, 252.80039466902895, 336.9428773775096, 335.2995816606275, 327.49062680591305, 695.5906907147091, 1828.1985819132512, 1271.342458906763, 6595.25801943578, 504.2903492087981, 1802.417932907586, 8181.143087939957, 408.5117579444736, 688.5333562405183, 3296.988712193704, 688.5329185863058, 218.09006334175766, 115.48439622939047, 114.76173593958302, 104.37706243647332, 70.47897000951852, 65.41715678612982, 65.38193556856537, 63.929722346063656, 59.068379228604236, 42.56755937170655, 34.475565132527066, 33.81013835645716, 27.266233889147852, 23.701019115374603, 23.54249057272821, 23.029403387129886, 239.10177006156815, 239.10177006156815, 239.10177006156815, 239.10177006156815, 239.10177006156815, 239.10177006156815, 239.10177006156815, 245.82053381964022, 21.66528167841507, 258.86095575270804, 18.70367847004771, 14.758232480245063, 14.594312325452016, 11.65370512321931, 327.49062680591305, 335.2995816606275, 336.9428773775096, 787.8825140704499, 2592.4649796134922, 2133.062191176643, 296.8026483735344, 529.6571688187335, 120.85302067678002, 73.94169778450117, 54.567362603871395, 51.84412887581139, 49.20770122951916, 47.033968349536046, 47.033968349536046, 34.56513524989214, 28.666740969507053, 114.96261750844518, 27.475907294036592, 27.147217208041074, 26.151043188816796, 26.11708823472387, 26.11708823472387, 25.903450716713937, 25.732148124535485, 25.695860161790268, 24.79224105345948, 24.79224105345948, 24.79224105345948, 24.79224105345948, 24.79224105345948, 24.79224105345948, 24.79224105345948, 24.79224105345948, 24.79224105345948, 24.79224105345948, 24.79224105345948, 24.79224105345948, 92.81543487477641, 90.40064038868103, 787.8825140704499, 654.6092816327402, 10750.252145359966, 90.00470040834429, 38.55683979436111, 1198.852425162555, 2133.062191176643, 6031.3405551083515, 793.7462570842574, 15489.886217899324, 258.86095575270804, 336.9428773775096, 335.2995816606275, 1802.5686504609562, 327.49062680591305, 245.82053381964022, 30.051885625007465, 28.031154668056672, 23.491874808869053, 17.811294862254133, 17.66846160017392, 14.32600500115534, 13.305831332046877, 12.35114471182893, 12.078587006703877, 12.078587006703877, 12.078587006703877, 12.078587006703877, 12.078587006703877, 12.078587006703877, 10.997482728637124, 10.487776048231527, 10.487776048231527, 10.487776048231527, 10.349733203867796, 10.29397792831865, 9.5989572128666, 8.75149370880064, 8.437880436151634, 8.34811470382517, 8.137963804046183, 7.577680071931928, 7.498434457915611, 7.401062110130145, 7.401062110130145, 7.401062110130145, 51.98133170074952, 147.39449498493062, 783.2684392676099, 4602.826690359992, 16393.924607520883, 7614.068122298439, 3442.162434726483, 4643.631462957981, 129.56777272457654, 2795.7351432721293, 3670.4115708944632, 3432.9138042637633, 25203.804133152054, 15489.886217899324], \"Category\": [\"Default\", \"Default\", \"Default\", \"Default\", \"Default\", \"Default\", \"Default\", \"Default\", \"Default\", \"Default\", \"Default\", \"Default\", \"Default\", \"Default\", \"Default\", \"Default\", \"Default\", \"Default\", \"Default\", \"Default\", \"Default\", \"Default\", \"Default\", \"Default\", \"Default\", \"Default\", \"Default\", \"Default\", \"Default\", \"Default\", \"Topic1\", \"Topic1\", \"Topic1\", \"Topic1\", \"Topic1\", \"Topic1\", \"Topic1\", \"Topic1\", \"Topic1\", \"Topic1\", \"Topic1\", \"Topic1\", \"Topic1\", \"Topic1\", \"Topic1\", \"Topic1\", \"Topic1\", \"Topic1\", \"Topic1\", \"Topic1\", \"Topic1\", \"Topic1\", \"Topic1\", \"Topic1\", \"Topic1\", \"Topic1\", \"Topic1\", \"Topic1\", \"Topic1\", \"Topic1\", \"Topic1\", \"Topic1\", \"Topic1\", \"Topic1\", \"Topic1\", \"Topic1\", \"Topic1\", \"Topic1\", \"Topic1\", \"Topic1\", \"Topic1\", \"Topic1\", \"Topic1\", \"Topic1\", \"Topic1\", \"Topic1\", \"Topic1\", \"Topic1\", \"Topic1\", \"Topic1\", \"Topic1\", \"Topic1\", \"Topic2\", \"Topic2\", \"Topic2\", \"Topic2\", \"Topic2\", \"Topic2\", \"Topic2\", \"Topic2\", \"Topic2\", \"Topic2\", \"Topic2\", \"Topic2\", \"Topic2\", \"Topic2\", \"Topic2\", \"Topic2\", \"Topic2\", \"Topic2\", \"Topic2\", \"Topic2\", \"Topic2\", \"Topic2\", \"Topic2\", \"Topic2\", \"Topic2\", \"Topic2\", \"Topic2\", \"Topic2\", \"Topic2\", \"Topic2\", \"Topic2\", \"Topic2\", \"Topic2\", \"Topic2\", \"Topic2\", \"Topic2\", \"Topic2\", \"Topic2\", \"Topic2\", \"Topic2\", \"Topic2\", \"Topic2\", \"Topic2\", \"Topic2\", \"Topic2\", \"Topic2\", \"Topic2\", \"Topic2\", \"Topic2\", \"Topic2\", \"Topic2\", \"Topic2\", \"Topic2\", \"Topic2\", \"Topic2\", \"Topic2\", \"Topic2\", \"Topic2\", \"Topic2\", \"Topic2\", \"Topic2\", \"Topic2\", \"Topic2\", \"Topic2\", \"Topic2\", \"Topic2\", \"Topic2\", \"Topic2\", \"Topic2\", \"Topic2\", \"Topic2\", \"Topic2\", \"Topic2\", \"Topic2\", \"Topic2\", \"Topic3\", \"Topic3\", \"Topic3\", \"Topic3\", \"Topic3\", \"Topic3\", \"Topic3\", \"Topic3\", \"Topic3\", \"Topic3\", \"Topic3\", \"Topic3\", \"Topic3\", \"Topic3\", \"Topic3\", \"Topic3\", \"Topic3\", \"Topic3\", \"Topic3\", \"Topic3\", \"Topic3\", \"Topic3\", \"Topic3\", \"Topic3\", \"Topic3\", \"Topic3\", \"Topic3\", \"Topic3\", \"Topic3\", \"Topic3\", \"Topic3\", \"Topic3\", \"Topic3\", \"Topic3\", \"Topic3\", \"Topic3\", \"Topic3\", \"Topic3\", \"Topic3\", \"Topic3\", \"Topic3\", \"Topic3\", \"Topic3\", \"Topic3\", \"Topic3\", \"Topic3\", \"Topic3\", \"Topic3\", \"Topic3\", \"Topic3\", \"Topic3\", \"Topic3\", \"Topic3\", \"Topic3\", \"Topic3\", \"Topic3\", \"Topic3\", \"Topic3\", \"Topic3\", \"Topic3\", \"Topic3\", \"Topic3\", \"Topic3\", \"Topic3\", \"Topic3\", \"Topic3\", \"Topic3\", \"Topic3\", \"Topic3\", \"Topic4\", \"Topic4\", \"Topic4\", \"Topic4\", \"Topic4\", \"Topic4\", \"Topic4\", \"Topic4\", \"Topic4\", \"Topic4\", \"Topic4\", \"Topic4\", \"Topic4\", \"Topic4\", \"Topic4\", \"Topic4\", \"Topic4\", \"Topic4\", \"Topic4\", \"Topic4\", \"Topic4\", \"Topic4\", \"Topic4\", \"Topic4\", \"Topic4\", \"Topic4\", \"Topic4\", \"Topic4\", \"Topic4\", \"Topic4\", \"Topic4\", \"Topic4\", \"Topic4\", \"Topic4\", \"Topic4\", \"Topic4\", \"Topic4\", \"Topic4\", \"Topic4\", \"Topic4\", \"Topic4\", \"Topic4\", \"Topic4\", \"Topic4\", \"Topic4\", \"Topic4\", \"Topic4\", \"Topic4\", \"Topic4\", \"Topic4\", \"Topic4\", \"Topic4\", \"Topic4\", \"Topic4\", \"Topic4\", \"Topic4\", \"Topic4\", \"Topic4\", \"Topic4\", \"Topic4\", \"Topic4\", \"Topic4\", \"Topic4\", \"Topic4\", \"Topic4\", \"Topic4\", \"Topic4\", \"Topic4\", \"Topic4\", \"Topic4\", \"Topic4\", \"Topic4\", \"Topic4\", \"Topic4\", \"Topic4\", \"Topic4\", \"Topic4\", \"Topic5\", \"Topic5\", \"Topic5\", \"Topic5\", \"Topic5\", \"Topic5\", \"Topic5\", \"Topic5\", \"Topic5\", \"Topic5\", \"Topic5\", \"Topic5\", \"Topic5\", \"Topic5\", \"Topic5\", \"Topic5\", \"Topic5\", \"Topic5\", \"Topic5\", \"Topic5\", \"Topic5\", \"Topic5\", \"Topic5\", \"Topic5\", \"Topic5\", \"Topic5\", \"Topic5\", \"Topic5\", \"Topic5\", \"Topic5\", \"Topic5\", \"Topic5\", \"Topic5\", \"Topic5\", \"Topic5\", \"Topic5\", \"Topic6\", \"Topic6\", \"Topic6\", \"Topic6\", \"Topic6\", \"Topic6\", \"Topic6\", \"Topic6\", \"Topic6\", \"Topic6\", \"Topic6\", \"Topic6\", \"Topic6\", \"Topic6\", \"Topic6\", \"Topic6\", \"Topic6\", \"Topic6\", \"Topic6\", \"Topic6\", \"Topic6\", \"Topic6\", \"Topic6\", \"Topic6\", \"Topic6\", \"Topic6\", \"Topic6\", \"Topic6\", \"Topic6\", \"Topic6\", \"Topic6\", \"Topic6\", \"Topic6\", \"Topic6\", \"Topic6\", \"Topic6\", \"Topic6\", \"Topic6\", \"Topic6\", \"Topic6\", \"Topic6\", \"Topic6\", \"Topic6\", \"Topic6\", \"Topic6\", \"Topic6\", \"Topic6\", \"Topic6\", \"Topic6\", \"Topic6\", \"Topic6\", \"Topic6\", \"Topic6\", \"Topic6\", \"Topic6\", \"Topic6\", \"Topic6\", \"Topic6\", \"Topic7\", \"Topic7\", \"Topic7\", \"Topic7\", \"Topic7\", \"Topic7\", \"Topic7\", \"Topic7\", \"Topic7\", \"Topic7\", \"Topic7\", \"Topic7\", \"Topic7\", \"Topic7\", \"Topic7\", \"Topic7\", \"Topic7\", \"Topic7\", \"Topic7\", \"Topic7\", \"Topic7\", \"Topic7\", \"Topic7\", \"Topic7\", \"Topic7\", \"Topic7\", \"Topic7\", \"Topic7\", \"Topic7\", \"Topic7\", \"Topic7\", \"Topic7\", \"Topic7\", \"Topic7\", \"Topic7\", \"Topic7\", \"Topic7\", \"Topic7\", \"Topic7\", \"Topic7\", \"Topic7\", \"Topic7\", \"Topic7\", \"Topic7\", \"Topic7\", \"Topic7\", \"Topic7\", \"Topic7\", \"Topic7\", \"Topic7\", \"Topic7\", \"Topic7\", \"Topic7\", \"Topic7\", \"Topic7\", \"Topic7\", \"Topic7\", \"Topic7\", \"Topic7\", \"Topic7\", \"Topic7\", \"Topic7\", \"Topic7\", \"Topic7\", \"Topic7\", \"Topic7\", \"Topic8\", \"Topic8\", \"Topic8\", \"Topic8\", \"Topic8\", \"Topic8\", \"Topic8\", \"Topic8\", \"Topic8\", \"Topic8\", \"Topic8\", \"Topic8\", \"Topic8\", \"Topic8\", \"Topic8\", \"Topic8\", \"Topic8\", \"Topic8\", \"Topic8\", \"Topic8\", \"Topic8\", \"Topic8\", \"Topic8\", \"Topic8\", \"Topic8\", \"Topic8\", \"Topic8\", \"Topic8\", \"Topic8\", \"Topic8\", \"Topic8\", \"Topic8\", \"Topic8\", \"Topic8\", \"Topic8\", \"Topic8\", \"Topic8\", \"Topic8\", \"Topic8\", \"Topic8\", \"Topic8\", \"Topic8\", \"Topic8\", \"Topic8\", \"Topic8\", \"Topic8\", \"Topic8\", \"Topic8\", \"Topic8\", \"Topic9\", \"Topic9\", \"Topic9\", \"Topic9\", \"Topic9\", \"Topic9\", \"Topic9\", \"Topic9\", \"Topic9\", \"Topic9\", \"Topic9\", \"Topic9\", \"Topic9\", \"Topic9\", \"Topic9\", \"Topic9\", \"Topic9\", \"Topic9\", \"Topic9\", \"Topic9\", \"Topic9\", \"Topic9\", \"Topic9\", \"Topic9\", \"Topic9\", \"Topic9\", \"Topic9\", \"Topic9\", \"Topic9\", \"Topic9\", \"Topic9\", \"Topic9\", \"Topic9\", \"Topic9\", \"Topic9\", \"Topic9\", \"Topic9\", \"Topic9\", \"Topic9\", \"Topic9\", \"Topic9\", \"Topic9\", \"Topic9\", \"Topic9\", \"Topic9\", \"Topic9\", \"Topic9\", \"Topic9\", \"Topic9\", \"Topic9\", \"Topic9\", \"Topic9\", \"Topic9\", \"Topic9\", \"Topic9\", \"Topic9\", \"Topic9\", \"Topic9\", \"Topic9\", \"Topic9\", \"Topic10\", \"Topic10\", \"Topic10\", \"Topic10\", \"Topic10\", \"Topic10\", \"Topic10\", \"Topic10\", \"Topic10\", \"Topic10\", \"Topic10\", \"Topic10\", \"Topic10\", \"Topic10\", \"Topic10\", \"Topic10\", \"Topic10\", \"Topic10\", \"Topic10\", \"Topic10\", \"Topic10\", \"Topic10\", \"Topic10\", \"Topic10\", \"Topic10\", \"Topic10\", \"Topic10\", \"Topic10\", \"Topic10\", \"Topic10\", \"Topic10\", \"Topic10\", \"Topic10\", \"Topic10\", \"Topic10\", \"Topic10\", \"Topic10\", \"Topic10\", \"Topic10\", \"Topic10\", \"Topic10\", \"Topic10\", \"Topic10\", \"Topic10\", \"Topic10\", \"Topic10\", \"Topic10\", \"Topic10\", \"Topic10\", \"Topic11\", \"Topic11\", \"Topic11\", \"Topic11\", \"Topic11\", \"Topic11\", \"Topic11\", \"Topic11\", \"Topic11\", \"Topic11\", \"Topic11\", \"Topic11\", \"Topic11\", \"Topic11\", \"Topic11\", \"Topic11\", \"Topic11\", \"Topic11\", \"Topic11\", \"Topic11\", \"Topic11\", \"Topic11\", \"Topic11\", \"Topic11\", \"Topic11\", \"Topic11\", \"Topic11\", \"Topic11\", \"Topic11\", \"Topic11\", \"Topic11\", \"Topic11\", \"Topic11\", \"Topic11\", \"Topic11\", \"Topic11\", \"Topic11\", \"Topic11\", \"Topic11\", \"Topic11\", \"Topic11\", \"Topic11\", \"Topic11\", \"Topic11\", \"Topic11\", \"Topic11\", \"Topic11\", \"Topic11\", \"Topic11\", \"Topic11\", \"Topic11\", \"Topic11\", \"Topic11\", \"Topic11\", \"Topic12\", \"Topic12\", \"Topic12\", \"Topic12\", \"Topic12\", \"Topic12\", \"Topic12\", \"Topic12\", \"Topic12\", \"Topic12\", \"Topic12\", \"Topic12\", \"Topic12\", \"Topic12\", \"Topic12\", \"Topic12\", \"Topic12\", \"Topic12\", \"Topic12\", \"Topic12\", \"Topic12\", \"Topic12\", \"Topic12\", \"Topic12\", \"Topic12\", \"Topic12\", \"Topic12\", \"Topic12\", \"Topic12\", \"Topic12\", \"Topic12\", \"Topic12\", \"Topic12\", \"Topic12\", \"Topic12\", \"Topic12\", \"Topic12\", \"Topic12\", \"Topic13\", \"Topic13\", \"Topic13\", \"Topic13\", \"Topic13\", \"Topic13\", \"Topic13\", \"Topic13\", \"Topic13\", \"Topic13\", \"Topic13\", \"Topic13\", \"Topic13\", \"Topic13\", \"Topic13\", \"Topic13\", \"Topic13\", \"Topic13\", \"Topic13\", \"Topic13\", \"Topic13\", \"Topic13\", \"Topic13\", \"Topic13\", \"Topic13\", \"Topic13\", \"Topic13\", \"Topic13\", \"Topic13\", \"Topic13\", \"Topic13\", \"Topic13\", \"Topic13\", \"Topic13\", \"Topic13\", \"Topic13\", \"Topic13\", \"Topic13\", \"Topic13\", \"Topic13\", \"Topic13\", \"Topic13\", \"Topic13\", \"Topic13\", \"Topic13\", \"Topic13\", \"Topic13\", \"Topic13\", \"Topic14\", \"Topic14\", \"Topic14\", \"Topic14\", \"Topic14\", \"Topic14\", \"Topic14\", \"Topic14\", \"Topic14\", \"Topic14\", \"Topic14\", \"Topic14\", \"Topic14\", \"Topic14\", \"Topic14\", \"Topic14\", \"Topic14\", \"Topic14\", \"Topic14\", \"Topic14\", \"Topic14\", \"Topic14\", \"Topic14\", \"Topic14\", \"Topic14\", \"Topic14\", \"Topic14\", \"Topic14\", \"Topic14\", \"Topic14\", \"Topic14\", \"Topic14\", \"Topic14\", \"Topic14\", \"Topic14\", \"Topic14\", \"Topic14\", \"Topic14\", \"Topic14\", \"Topic14\", \"Topic14\", \"Topic14\", \"Topic14\", \"Topic14\"], \"logprob\": [30.0, 29.0, 28.0, 27.0, 26.0, 25.0, 24.0, 23.0, 22.0, 21.0, 20.0, 19.0, 18.0, 17.0, 16.0, 15.0, 14.0, 13.0, 12.0, 11.0, 10.0, 9.0, 8.0, 7.0, 6.0, 5.0, 4.0, 3.0, 2.0, 1.0, -2.1264, -2.7782, -3.5063, -3.6415, -4.1605, -4.3676, -4.6746, -4.7956, -4.8419, -4.9404, -5.2916, -5.2962, -5.35, -5.5222, -5.5952, -5.7564, -5.8353, -5.9067, -6.1559, -6.207, -6.2244, -6.4082, -6.4405, -6.4577, -6.4731, -6.5003, -6.5211, -6.5212, -6.5337, -6.5337, -3.5354, -4.229, -5.2687, -5.0531, -5.202, -4.0547, -4.5859, -5.6154, -4.7077, -5.2874, -3.9354, -5.6029, -5.1597, -4.3736, -4.9118, -5.2946, -5.0123, -5.0021, -5.3356, -5.0817, -5.2472, -5.2794, -5.5823, -5.807, -6.1144, -5.5195, -6.4798, -6.5715, -6.8619, -6.2431, -6.9165, -6.9501, -7.0235, -7.0756, -7.343, -7.3443, -7.3669, -7.3776, -5.1185, -7.413, -7.5238, -7.6659, -7.6865, -7.0388, -7.7742, -7.8092, -7.8462, -7.855, -7.9012, -7.913, -7.9241, -6.1905, -5.4269, -5.1769, -4.6446, -6.1636, -6.3916, -5.242, -5.5085, -5.7016, -5.4828, -3.7765, -3.7946, -6.317, -4.527, -5.4183, -5.6906, -5.8704, -3.6138, -5.6567, -5.1822, -4.2076, -5.6382, -5.0096, -5.1064, -3.8807, -5.6562, -5.429, -4.7102, -4.4894, -3.8446, -4.5038, -4.4996, -4.6783, -4.2371, -4.432, -4.7866, -4.9611, -4.8349, -4.7241, -4.6176, -5.1473, -5.2765, -5.1882, -4.8794, -4.6907, -5.1544, -4.4372, -4.4372, -4.4372, -4.4372, -4.4372, -4.4372, -4.4372, -5.3657, -5.3792, -5.9102, -5.937, -6.1248, -6.4392, -6.5459, -6.8521, -6.9296, -7.1187, -7.1409, -6.7365, -7.1943, -6.9484, -7.2969, -5.076, -7.3675, -7.4779, -7.4972, -7.5218, -7.5605, -7.6235, -5.8137, -6.1406, -6.0795, -5.8879, -5.4057, -5.5834, -3.4475, -5.9485, -5.4958, -5.5134, -5.0907, -3.6497, -6.2558, -5.1977, -5.9457, -4.5199, -4.6994, -4.7358, -4.3598, -4.4556, -4.6158, -4.8032, -5.0399, -4.9952, -4.4177, -5.308, -5.3049, -4.1736, -4.6479, -5.0757, -4.8571, -4.8406, -4.7316, -5.0627, -4.8279, -4.9261, -4.9967, -5.017, -5.0103, -5.0508, -4.7665, -4.8233, -5.2265, -5.7509, -5.8245, -6.1449, -6.3993, -6.7231, -6.7363, -6.7561, -6.789, -6.8153, -6.8571, -6.8852, -6.9208, -6.9827, -7.027, -7.1559, -5.5988, -7.1877, -7.1979, -7.2658, -7.2716, -7.3004, -7.3674, -7.3777, -7.3882, -7.4152, -7.4515, -7.5507, -5.2295, -5.708, -5.181, -3.7802, -5.572, -5.9301, -4.5052, -6.3147, -6.6909, -6.0594, -6.5068, -6.1186, -3.6378, -5.6438, -4.9702, -3.3764, -5.4544, -5.7537, -5.3371, -5.3023, -5.3427, -5.0215, -5.3556, -5.2999, -5.5825, -4.4701, -5.7406, -5.1926, -4.3391, -3.6733, -4.9344, -5.0145, -5.0163, -4.5152, -4.3323, -4.7614, -4.2715, -4.9801, -5.1523, -4.7817, -4.9189, -4.8185, -5.0239, -5.1661, -5.081, -5.2082, -5.2265, -3.8585, -3.8585, -3.8585, -4.274, -4.2786, -4.2786, -4.5484, -4.5492, -4.5505, -4.5505, -4.5512, -4.5512, -4.5512, -4.5512, -4.5512, -4.5512, -4.5512, -4.5512, -4.5512, -4.5512, -4.5512, -4.5512, -4.5512, -4.5512, -4.5512, -4.5512, -4.5512, -4.5512, -4.5512, -4.5512, -3.8469, -4.4229, -4.3457, -4.5069, -4.4825, -4.5161, -2.0711, -3.7425, -4.0547, -3.9779, -5.1419, -5.3885, -5.9304, -6.0387, -6.2316, -6.2756, -6.5021, -6.5163, -6.5555, -4.5782, -3.8858, -6.724, -6.7914, -6.8575, -6.8845, -7.0145, -7.0361, -7.101, -7.1191, -7.1191, -7.1287, -3.4838, -7.1692, -7.2053, -7.2145, -7.2439, -4.4792, -6.2274, -6.4748, -3.5615, -2.4481, -5.4738, -3.6676, -6.2931, -4.4375, -4.5766, -5.3085, -3.7662, -4.182, -4.2344, -5.7125, -5.9224, -5.2498, -5.1993, -5.4868, -5.0325, -5.1848, -4.7764, -5.2423, -5.3689, -5.6592, -4.9592, -5.4973, -5.3123, -3.5222, -5.6567, -5.909, -6.0245, -6.1397, -6.5532, -6.0438, -7.1766, -7.1805, -7.2822, -7.2998, -7.3142, -7.3165, -7.3757, -7.734, -7.821, -7.8355, -7.9902, -8.0198, -8.0198, -8.0311, -8.0311, -8.0468, -8.103, -8.105, -8.105, -8.105, -8.105, -8.11, -8.1126, -6.558, -4.5796, -5.1888, -4.937, -2.3563, -5.9828, -6.2658, -3.9395, -3.9798, -4.9595, -4.4939, -4.4752, -3.9798, -5.3009, -6.8112, -5.3348, -4.9805, -3.501, -4.6624, -4.0227, -4.7634, -4.9873, -4.69, -3.7779, -3.2442, -4.8154, -4.1519, -3.6725, -4.7444, -4.9438, -5.0638, -4.8909, -4.6765, -4.9551, -4.7909, -4.953, -4.6605, -4.8087, -4.8213, -4.8241, -4.8244, -4.8937, -4.8954, -4.9011, -4.9176, -4.921, -4.9365, -4.945, -4.9707, -4.9879, -4.9943, -5.0786, -5.1806, -5.4351, -5.7389, -5.8171, -5.9268, -5.4496, -6.5867, -6.6036, -6.6481, -6.7416, -6.7416, -6.7416, -6.81, -6.8653, -4.8149, -4.8166, -6.1909, -6.1909, -6.1909, -4.7758, -4.2662, -5.0681, -4.8311, -4.9084, -4.9709, -4.9709, -4.6101, -4.9709, -4.9709, -4.4454, -4.737, -4.8601, -5.0599, -3.0904, -3.6465, -4.0344, -4.2261, -5.1034, -5.5492, -5.5698, -5.8804, -5.9338, -5.9425, -5.9573, -5.9886, -6.0079, -6.0145, -6.0195, -6.0723, -6.0823, -6.261, -6.3519, -6.4299, -6.5115, -6.5547, -6.6673, -4.6135, -6.7098, -6.8253, -6.8483, -6.8516, -6.9928, -7.0074, -5.8655, -5.6291, -5.45, -5.4313, -3.3937, -5.7661, -5.5815, -5.0442, -4.8033, -3.5107, -4.5294, -3.9293, -5.2052, -3.7444, -3.9832, -4.7399, -3.8964, -5.2106, -4.4802, -5.0664, -5.0239, -5.7754, -5.2934, -5.2211, -5.4953, -5.1958, -5.3274, -5.4718, -5.4986, -5.4943, -4.1549, -4.202, -4.202, -4.202, -4.2508, -4.2623, -4.2623, -4.7893, -4.8573, -5.0216, -5.4894, -4.1799, -6.2932, -6.3292, -4.0907, -6.4146, -6.4754, -6.5379, -6.5714, -6.5878, -6.6077, -6.6207, -6.7672, -6.7743, -6.7743, -6.8485, -6.8564, -6.8798, -6.8798, -6.8798, -3.901, -3.8997, -3.8997, -3.8997, -3.8997, -3.1611, -4.1691, -5.5644, -5.6815, -5.634, -6.0805, -5.2609, -5.4117, -4.9525, -5.2053, -5.5265, -5.6483, -5.7537, -5.7232, -3.7703, -4.1709, -4.3204, -4.3505, -4.4852, -4.9948, -5.1159, -5.6174, -5.8024, -5.8424, -5.8523, -5.8874, -5.9863, -6.0551, -6.1144, -6.1299, -6.1575, -6.1584, -6.1838, -6.1883, -6.21, -6.217, -6.217, -6.217, -6.2241, -6.2286, -6.2293, -6.2979, -6.3429, -6.352, -5.22, -5.611, -4.8894, -5.1381, -4.9956, -4.836, -5.8276, -5.7824, -4.929, -5.3264, -5.2675, -5.2857, -5.3782, -5.1557, -5.2787, -5.441, -5.2, -5.7204, -5.6133, -5.5672, -5.742, -5.7456, -5.7039, -5.7456, -3.8596, -4.5053, -4.5117, -4.6087, -5.0128, -5.09, -5.0906, -5.1139, -5.1962, -5.5404, -5.7654, -5.7863, -6.02, -6.1747, -6.1822, -6.2068, -3.868, -3.868, -3.868, -3.868, -3.868, -3.868, -3.868, -3.8416, -6.2752, -3.8031, -6.4421, -6.7192, -6.7326, -7.0086, -3.798, -3.7943, -3.7936, -3.4953, -3.8432, -4.6115, -5.6973, -6.0488, -4.2229, -4.7273, -5.0432, -5.0968, -5.1516, -5.1992, -5.1992, -5.527, -5.7297, -4.3412, -5.7761, -5.7893, -5.8305, -5.8319, -5.8319, -5.841, -5.8483, -5.8498, -5.8894, -5.8894, -5.8894, -5.8894, -5.8894, -5.8894, -5.8894, -5.8894, -5.8894, -5.8894, -5.8894, -5.8894, -5.2317, -5.4151, -4.7649, -4.8336, -3.9696, -5.578, -5.7845, -5.0347, -4.9397, -4.8668, -5.2524, -4.9562, -5.7772, -5.8144, -5.8148, -5.8106, -5.8151, -5.8214, -5.072, -5.148, -5.3435, -5.6583, -5.6677, -5.9159, -6.0058, -6.098, -6.1259, -6.1259, -6.1259, -6.1259, -6.1259, -6.1259, -6.2452, -6.3067, -6.3067, -6.3067, -6.3241, -6.3312, -6.4241, -6.5505, -6.6016, -6.6168, -6.6531, -6.757, -6.7726, -6.7922, -6.7922, -6.7922, -5.0921, -5.3386, -5.5015, -5.0294, -4.7405, -5.2177, -5.4057, -5.3636, -6.0822, -5.6815, -5.771, -5.9552, -6.2193, -6.2715], \"loglift\": [30.0, 29.0, 28.0, 27.0, 26.0, 25.0, 24.0, 23.0, 22.0, 21.0, 20.0, 19.0, 18.0, 17.0, 16.0, 15.0, 14.0, 13.0, 12.0, 11.0, 10.0, 9.0, 8.0, 7.0, 6.0, 5.0, 4.0, 3.0, 2.0, 1.0, 0.646, 0.6459, 0.6459, 0.6459, 0.6458, 0.6458, 0.6457, 0.6457, 0.6457, 0.6456, 0.6455, 0.6455, 0.6455, 0.6454, 0.6453, 0.6452, 0.6451, 0.6451, 0.6448, 0.6448, 0.6447, 0.6445, 0.6444, 0.6444, 0.6444, 0.6443, 0.6443, 0.6443, 0.6443, 0.6443, 0.6414, 0.6049, 0.6237, 0.6165, 0.6034, 0.5522, 0.5629, 0.6091, 0.5607, 0.5897, 0.4092, 0.5806, 0.5099, 0.3017, 0.2769, 0.43, 0.2897, -0.1202, 0.2929, -0.4181, 0.0334, -0.149, 1.5973, 1.5968, 1.596, 1.5954, 1.5946, 1.5941, 1.5925, 1.5923, 1.5921, 1.5918, 1.5913, 1.5909, 1.5884, 1.5883, 1.5881, 1.588, 1.5877, 1.5876, 1.5862, 1.5843, 1.584, 1.5834, 1.5826, 1.582, 1.5814, 1.5811, 1.5804, 1.5802, 1.58, 1.5797, 1.5762, 1.5724, 1.5662, 1.5758, 1.5765, 1.5592, 1.551, 1.5521, 1.546, 1.4907, 1.4856, 1.5604, 1.4992, 1.5263, 1.5228, 1.5241, 1.3902, 1.5084, 1.464, 1.378, 1.4784, 1.3909, 1.3657, 1.1482, 1.4392, 1.3926, 1.2348, 1.045, 0.819, 0.9914, 0.8742, 0.9193, 0.6448, 0.7465, 0.9656, 1.072, 0.9657, 0.8827, 0.5128, 1.0635, 1.2263, 1.0812, 0.3093, -0.3461, 0.1261, 2.8081, 2.8081, 2.8081, 2.8081, 2.8081, 2.8081, 2.8081, 2.8049, 2.8048, 2.8012, 2.8009, 2.799, 2.795, 2.7933, 2.7873, 2.7855, 2.7805, 2.7798, 2.7796, 2.7782, 2.7763, 2.7748, 2.7741, 2.7722, 2.7679, 2.7671, 2.766, 2.7643, 2.7614, 2.7593, 2.747, 2.7281, 2.7207, 2.6957, 2.6835, 2.5509, 2.6971, 2.6585, 2.6464, 2.5573, 2.3171, 2.6671, 2.4371, 2.5959, 1.9944, 2.028, 2.0199, 1.8106, 1.8315, 1.9078, 2.0114, 2.0827, 2.0189, 1.4046, 2.1933, 2.0841, 0.5016, 1.0767, 1.7182, 1.2463, 0.7662, 0.1503, 1.3801, 0.201, 0.5691, 0.9482, 0.6774, 0.1385, 0.4666, 2.8533, 2.8532, 2.8516, 2.8485, 2.8479, 2.8447, 2.8414, 2.8358, 2.8355, 2.8351, 2.8344, 2.8338, 2.8329, 2.8322, 2.8313, 2.8298, 2.8286, 2.8248, 2.8244, 2.8238, 2.8235, 2.8212, 2.821, 2.82, 2.8176, 2.8172, 2.8168, 2.8157, 2.8142, 2.81, 2.7757, 2.7657, 2.742, 2.5822, 2.6924, 2.7019, 2.5544, 2.7281, 2.7564, 2.6755, 2.7257, 2.6634, 2.2305, 2.5366, 2.3812, 1.9711, 2.4622, 2.5374, 2.4146, 2.3837, 2.3949, 2.2688, 2.3125, 2.2829, 2.364, 1.6882, 2.4261, 2.0664, 1.4766, 0.9903, 1.8819, 1.9402, 1.9311, 1.1133, 0.8462, 1.4063, 0.4038, 1.2122, 1.607, 0.4989, 0.8475, 0.0634, 0.6706, 1.2364, 0.2928, 0.0938, 1.5882, 3.1502, 3.1502, 3.1502, 3.1494, 3.1494, 3.1494, 3.1486, 3.1486, 3.1485, 3.1485, 3.1485, 3.1485, 3.1485, 3.1485, 3.1485, 3.1485, 3.1485, 3.1485, 3.1485, 3.1485, 3.1485, 3.1485, 3.1485, 3.1485, 3.1485, 3.1485, 3.1485, 3.1485, 3.1485, 3.1485, 2.3454, 1.9038, 0.6831, 2.3339, 0.1928, 1.4823, 3.3979, 3.3965, 3.3959, 3.3934, 3.3913, 3.3893, 3.383, 3.3812, 3.3776, 3.3767, 3.3713, 3.3709, 3.3698, 3.3691, 3.3681, 3.3647, 3.3624, 3.36, 3.359, 3.3537, 3.3527, 3.3497, 3.3489, 3.3489, 3.3484, 3.3464, 3.3464, 3.3445, 3.3441, 3.3425, 3.3251, 3.3399, 3.3386, 3.3036, 3.2659, 3.3072, 3.2218, 3.3179, 3.2356, 3.238, 3.275, 3.1652, 3.1903, 3.1822, 3.2684, 3.2853, 3.1355, 3.0792, 3.108, 2.9867, 2.9894, 2.6126, 2.8034, 2.5561, 2.7607, 0.7104, 2.1764, -0.0103, 3.8232, 3.8063, 3.8009, 3.7979, 3.7946, 3.7791, 3.7712, 3.7406, 3.7403, 3.7316, 3.73, 3.7287, 3.7285, 3.7229, 3.6817, 3.6696, 3.6675, 3.6433, 3.6384, 3.6384, 3.6364, 3.6364, 3.6337, 3.6237, 3.6233, 3.6233, 3.6233, 3.6233, 3.6224, 3.6219, 3.587, 3.4729, 3.4603, 3.4285, 3.2098, 3.4675, 3.3389, 2.8613, 2.7108, 2.8771, 2.6432, 2.6275, 2.4218, 2.8184, 3.2757, 2.6373, 2.4767, 1.6294, 2.2125, 1.8099, 2.2357, 2.364, 2.1213, 1.5027, 1.1004, 2.1452, 1.4549, 0.9343, 1.9719, 1.8567, 1.9959, 1.5519, 0.9932, 1.2557, -0.1273, -0.2778, 4.3193, 4.3175, 4.3173, 4.3173, 4.3173, 4.3163, 4.3163, 4.3162, 4.316, 4.3159, 4.3157, 4.3156, 4.3152, 4.3149, 4.3148, 4.3135, 4.3116, 4.3062, 4.2977, 4.2951, 4.291, 4.2856, 4.2554, 4.2542, 4.2508, 4.2433, 4.2433, 4.2433, 4.2375, 4.2324, 4.0419, 3.9623, 4.1026, 4.1026, 4.1026, 3.3126, 2.9997, 3.253, 2.95, 2.8584, 2.8061, 2.8061, 2.1838, 2.8061, 2.8061, 0.2182, 0.565, -0.1848, 1.7021, 4.4359, 4.4338, 4.4316, 4.4301, 4.4182, 4.4069, 4.4063, 4.3948, 4.3924, 4.392, 4.3914, 4.3899, 4.389, 4.3886, 4.3884, 4.3857, 4.3852, 4.3751, 4.3693, 4.3639, 4.3578, 4.3543, 4.3447, 4.3438, 4.3409, 4.3295, 4.3271, 4.3268, 4.3108, 4.3091, 4.2764, 4.262, 4.1789, 4.163, 3.7041, 4.1422, 4.0954, 3.8795, 3.7796, 3.2513, 3.5868, 3.3139, 3.8589, 3.0096, 3.0368, 3.5183, 2.6567, 3.7064, 2.9205, 3.4994, 2.8337, 4.0814, 2.9706, 2.2209, 2.9643, -0.0173, 0.2794, 2.111, 2.3037, 1.0321, 4.6161, 4.6157, 4.6157, 4.6157, 4.6152, 4.6151, 4.6151, 4.608, 4.6068, 4.6035, 4.5907, 4.5905, 4.5495, 4.5469, 4.5458, 4.5402, 4.535, 4.5295, 4.5264, 4.5248, 4.5229, 4.5216, 4.5062, 4.5054, 4.5054, 4.4967, 4.4958, 4.4929, 4.4929, 4.4929, 3.8801, 3.8773, 3.8773, 3.8773, 3.8773, 3.6328, 3.5273, 3.0541, 2.6073, 2.4544, 3.3696, 1.3145, 1.3369, -0.2772, 0.0966, 1.1567, 0.1741, 0.6712, -0.3494, 4.6513, 4.6481, 4.6465, 4.6462, 4.6445, 4.6357, 4.6329, 4.6169, 4.6088, 4.6068, 4.6063, 4.6045, 4.5992, 4.5951, 4.5914, 4.5904, 4.5886, 4.5885, 4.5868, 4.5865, 4.585, 4.5845, 4.5845, 4.5845, 4.584, 4.5836, 4.5836, 4.5785, 4.575, 4.5743, 4.5532, 4.5311, 3.7612, 3.7856, 3.6229, 3.3444, 4.1481, 4.0673, 2.9661, 3.4525, 3.2242, 3.2108, 3.1419, 2.6111, 1.5217, 1.7228, 0.3174, 2.3679, 1.2014, -0.2652, 2.5571, 2.0314, 0.5069, 2.0314, 5.0671, 5.0571, 5.057, 5.0549, 5.0435, 5.0407, 5.0407, 5.0399, 5.0366, 5.0201, 5.0059, 5.0045, 4.9859, 4.9713, 4.9705, 4.968, 4.9666, 4.9666, 4.9666, 4.9666, 4.9666, 4.9666, 4.9666, 4.9654, 4.9606, 4.9521, 4.9407, 4.9005, 4.8983, 4.8473, 4.7221, 4.7022, 4.6981, 4.1469, 2.608, 2.0347, 2.9212, 1.9905, 5.2941, 5.281, 5.2689, 5.2665, 5.2639, 5.2615, 5.2615, 5.2417, 5.2261, 5.2257, 5.2221, 5.2209, 5.2172, 5.2171, 5.2171, 5.2162, 5.2155, 5.2154, 5.2116, 5.2116, 5.2116, 5.2116, 5.2116, 5.2116, 5.2116, 5.2116, 5.2116, 5.2116, 5.2116, 5.2116, 4.5492, 4.3922, 2.8772, 2.9939, 1.0592, 4.2337, 4.875, 2.1877, 1.7065, 0.7401, 2.3823, -0.2926, 2.9781, 2.6773, 2.6817, 1.004, 2.705, 2.9856, 5.8366, 5.8302, 5.8114, 5.7734, 5.7721, 5.7336, 5.7175, 5.6998, 5.6942, 5.6942, 5.6942, 5.6942, 5.6942, 5.6942, 5.6687, 5.6546, 5.6546, 5.6546, 5.6505, 5.6488, 5.6258, 5.5918, 5.5772, 5.5727, 5.5619, 5.5293, 5.5242, 5.5178, 5.5178, 5.5178, 5.2686, 3.9798, 2.1466, 0.8477, -0.1337, 0.1561, 0.762, 0.5047, 3.3652, 0.6942, 0.3325, 0.2151, -2.0425, -1.6079]}, \"token.table\": {\"Topic\": [6, 6, 7, 2, 5, 9, 1, 4, 1, 2, 3, 4, 5, 8, 11, 12, 2, 3, 6, 13, 7, 7, 13, 13, 6, 11, 14, 9, 7, 6, 4, 4, 3, 6, 3, 6, 1, 10, 1, 2, 4, 8, 1, 3, 6, 11, 8, 11, 9, 3, 1, 3, 6, 7, 14, 14, 1, 3, 4, 11, 1, 2, 3, 4, 5, 10, 1, 2, 3, 5, 7, 8, 9, 13, 14, 13, 7, 8, 10, 2, 3, 4, 9, 12, 8, 2, 8, 14, 3, 6, 2, 1, 2, 3, 4, 6, 8, 1, 4, 5, 10, 13, 1, 9, 2, 6, 1, 9, 10, 2, 7, 8, 9, 1, 3, 10, 13, 13, 13, 14, 12, 1, 10, 8, 13, 1, 1, 1, 4, 14, 2, 7, 1, 14, 1, 2, 5, 1, 2, 3, 5, 9, 9, 14, 1, 2, 3, 4, 6, 7, 14, 6, 4, 1, 2, 3, 4, 7, 8, 9, 11, 4, 11, 12, 13, 2, 4, 3, 4, 7, 9, 11, 3, 1, 9, 6, 1, 2, 3, 4, 7, 8, 13, 13, 4, 8, 14, 11, 12, 13, 8, 8, 3, 4, 8, 1, 11, 10, 13, 14, 3, 4, 9, 3, 4, 9, 11, 13, 7, 10, 1, 6, 14, 1, 2, 4, 5, 9, 10, 2, 1, 4, 1, 3, 4, 7, 10, 10, 3, 13, 5, 4, 6, 6, 2, 6, 1, 7, 2, 6, 8, 1, 2, 4, 6, 7, 8, 10, 13, 14, 13, 13, 1, 2, 3, 4, 5, 6, 7, 8, 8, 1, 4, 2, 10, 1, 2, 3, 5, 6, 7, 8, 1, 2, 6, 7, 6, 4, 11, 11, 1, 2, 4, 6, 7, 2, 5, 5, 5, 5, 5, 5, 1, 2, 3, 1, 2, 7, 10, 7, 1, 4, 1, 2, 11, 12, 14, 6, 2, 13, 1, 2, 7, 11, 9, 11, 1, 2, 9, 2, 4, 1, 2, 3, 4, 6, 7, 8, 11, 1, 2, 3, 4, 6, 8, 9, 10, 14, 14, 1, 3, 6, 7, 3, 4, 7, 8, 9, 10, 11, 14, 2, 6, 1, 4, 11, 3, 13, 2, 3, 7, 2, 4, 7, 11, 1, 2, 3, 4, 7, 8, 10, 11, 3, 3, 10, 9, 13, 2, 3, 4, 1, 3, 13, 12, 13, 6, 11, 8, 4, 7, 4, 1, 3, 6, 1, 3, 7, 6, 9, 3, 2, 6, 9, 9, 3, 14, 8, 11, 3, 4, 6, 1, 3, 6, 10, 1, 6, 8, 2, 8, 9, 4, 1, 1, 1, 2, 3, 4, 5, 6, 8, 10, 11, 8, 10, 14, 3, 4, 7, 8, 9, 10, 11, 14, 1, 2, 4, 9, 10, 11, 9, 4, 6, 1, 2, 4, 7, 8, 11, 1, 2, 4, 9, 11, 14, 4, 1, 2, 3, 4, 7, 8, 9, 11, 14, 1, 2, 3, 4, 7, 9, 11, 3, 4, 11, 12, 5, 2, 3, 6, 10, 10, 12, 13, 5, 1, 2, 4, 7, 13, 14, 14, 12, 4, 3, 11, 12, 13, 4, 1, 2, 4, 7, 14, 6, 2, 3, 4, 14, 9, 1, 11, 11, 1, 3, 5, 7, 2, 4, 6, 1, 2, 3, 4, 8, 9, 13, 1, 2, 3, 4, 7, 8, 9, 1, 7, 9, 9, 7, 1, 3, 13, 1, 9, 8, 11, 1, 2, 1, 3, 4, 7, 8, 10, 7, 11, 11, 1, 2, 3, 1, 2, 4, 6, 1, 2, 8, 13, 4, 6, 4, 14, 12, 2, 4, 11, 1, 2, 4, 7, 14, 13, 11, 8, 4, 9, 4, 6, 1, 2, 4, 6, 7, 8, 9, 10, 6, 5, 1, 4, 7, 14, 6, 8, 1, 2, 3, 4, 9, 10, 11, 12, 13, 1, 2, 4, 8, 9, 11, 2, 3, 6, 8, 1, 2, 1, 2, 4, 8, 1, 2, 7, 1, 2, 3, 4, 6, 7, 8, 9, 3, 8, 3, 1, 3, 4, 7, 11, 2, 4, 14, 7, 14, 2, 7, 1, 2, 3, 4, 5, 6, 7, 8, 9, 10, 13, 14, 5, 3, 8, 2, 1, 7, 1, 3, 6, 2, 8, 4, 5, 11, 1, 2, 4, 7, 10, 1, 2, 4, 8, 11, 2, 1, 2, 5, 6, 7, 10, 11, 1, 2, 3, 5, 6, 7, 8, 10, 11, 1, 2, 4, 8, 9, 7, 1, 2, 3, 7, 8, 5, 9, 8, 12, 1, 9, 6, 1, 7, 2, 1, 11, 11, 3, 4, 14, 14, 3, 14, 1, 2, 3, 4, 6, 7, 8, 9, 2, 3, 5, 13, 2, 3, 4, 9, 1, 5, 5, 5, 1, 3, 7, 12, 13, 12, 12, 10, 8, 3, 2, 5, 11, 2, 6, 14, 7, 1, 2, 3, 9, 2, 1, 2, 4, 6, 7, 10, 14, 1, 11, 14, 9, 7, 2, 12, 3, 6, 14, 9, 8, 11, 1, 2, 3, 4, 6, 8, 9, 11, 14, 11, 12, 13, 2, 4, 1, 1, 7, 9, 5, 5, 9, 1, 2, 3, 4, 5, 7, 8, 11, 2, 10, 10, 10, 3, 5, 3, 4, 5, 5, 3, 11, 2, 1, 3, 6, 10, 1, 3, 1, 2, 3, 5, 7, 10, 10, 8, 3, 3, 4, 9, 1, 2, 4, 7, 10, 11, 10, 1, 2, 3, 4, 7, 11, 13, 1, 6, 7, 10, 1, 2, 3, 4, 7, 9, 13, 1, 3, 13, 9, 2, 3, 9, 14, 1, 2, 4, 7, 8, 11, 5, 1, 4, 6, 7, 1, 3, 4, 9, 1, 2, 3, 4, 8, 14, 3, 3, 4, 5, 8, 11, 13, 3, 4, 7, 8, 9, 10, 11, 14, 3, 8, 9, 11, 1, 2, 3, 4, 5, 7, 13, 3, 12, 2, 3, 6, 13, 13, 1, 3, 4, 5, 7, 12, 1, 13, 1, 2, 3, 5, 6, 7, 9, 4, 2, 4, 2, 6, 11, 11, 2, 3, 4, 6, 7, 14, 11, 3, 5, 9, 1, 2, 3, 6, 14, 14, 14, 14, 14, 14, 1, 3, 4, 8, 11, 1, 3, 4, 6, 10, 11, 14, 1, 2, 3, 4, 9, 10, 1, 2, 3, 5, 6, 7, 8, 9, 1, 7, 1, 3, 7, 1, 7, 14, 8, 7, 11, 12, 13, 12, 13, 12, 1, 2, 3, 4, 5, 6, 8, 10, 13, 10, 3, 6, 3, 1, 3, 4, 6, 7, 14, 7, 2, 1, 2, 4, 13, 7, 7, 10, 1, 2, 5, 6, 7, 11, 1, 2, 9, 12, 13, 3, 4, 2, 6, 11, 5, 8, 4, 7, 11, 8, 11, 1, 2, 3, 4, 7, 8, 7, 1, 2, 3, 5, 5, 4, 1, 2, 3, 7, 8, 9, 12, 4, 2, 3, 6, 1, 2, 3, 6, 1, 2, 3, 4, 7, 8, 11, 14, 3, 6, 7, 7, 3, 10, 2, 9, 1, 10, 13, 1, 2, 3, 4, 6, 7, 8, 10, 11, 7, 1, 5, 7, 2, 3, 6, 14, 2, 1, 4, 7, 8, 1, 4, 5, 7, 11, 3, 3, 1, 3, 4, 7, 8, 1, 4, 3, 9, 1, 2, 3, 7, 9, 3, 4, 7, 8, 9, 10, 11, 14, 12, 13, 7, 1, 2, 3, 4, 6, 9, 14, 14, 1, 2, 3, 4, 7, 11, 1, 2, 4, 6, 7, 10, 11, 14, 14, 1, 3, 7, 4, 6, 9, 2, 9, 12, 1, 2, 3, 4, 5, 7, 8, 9, 1, 4, 9, 10, 10, 7, 13, 1, 1, 2, 3, 4, 7, 9, 6, 14, 4, 7, 8, 10, 11, 12, 13, 3, 4, 7, 8, 10, 11, 1, 11, 1, 2, 3, 4, 6, 7, 8, 9, 10, 11, 10, 6, 10, 1, 2, 3, 4, 6, 7, 9, 8, 9, 10, 8, 8, 10, 2, 3, 9, 2, 7, 11, 5, 5, 5, 12, 3, 1, 2, 3, 4, 5, 7, 8, 10, 5, 3, 8, 12, 13, 3, 4, 7, 8, 9, 10, 11, 14, 1, 10, 11, 11, 4, 6, 9, 9, 11, 13, 13, 8, 1, 7, 4, 14, 14, 4, 6, 6, 4, 1, 2, 3, 4, 6, 7, 11, 5, 4, 12, 12, 13, 1, 1, 9, 3, 1, 1, 5, 7, 2, 3, 4, 6, 1, 2, 3, 4, 6, 8, 14, 2, 6, 6, 1, 2, 4, 5, 6, 7, 8, 2, 3, 4, 9, 2, 2, 6, 9, 1, 7, 1, 2, 3, 7, 2, 14, 1, 2, 4, 5, 11, 11, 3, 12, 13, 3, 4, 7, 8, 9, 10, 11, 14, 4, 6, 1, 2, 3, 4, 5, 7, 8, 9, 10, 11, 7, 7, 12, 1, 2, 14, 1, 2, 5, 12, 13, 12, 10, 12, 13, 11, 3, 6, 9, 1, 2, 3, 8, 9, 4, 10, 1, 3, 9, 1, 1, 2, 3, 4, 5, 7, 8, 11, 2, 1, 7, 1, 2, 3, 4, 5, 6, 7, 8, 10, 14, 1, 2, 3, 4, 5, 7, 8, 11, 4, 11, 13, 1, 2, 3, 4, 6, 8, 13, 1, 4, 8, 11, 2, 4, 7, 13, 4, 6, 8, 10, 1, 2, 3, 8, 9, 8, 9, 1, 3, 4, 5, 7, 10, 5, 3, 8, 11, 6, 4, 1, 2, 3, 4, 7, 11, 4, 1, 2, 3, 4, 5, 7, 8, 9, 11, 2, 11, 8, 7, 1, 2, 3, 4, 6, 7, 3, 4, 10, 6, 7, 3, 3, 6, 6], \"Freq\": [0.9402732107903864, 0.9711938594100898, 0.025829623920481114, 0.9921754971179648, 0.9961878297504464, 0.8938744947551693, 0.13660951286921286, 0.8572246932543107, 0.46750872606992583, 0.21523916596288664, 0.15660770856797845, 0.04898812558653513, 0.011957731442382592, 0.0034715994510143007, 0.011186264897712747, 0.08447558664134798, 0.10552406798025532, 0.16308265051494003, 0.7266771045003946, 0.9567553319247809, 0.9241978457442974, 0.9015438717233812, 0.887374398811363, 0.887374398811363, 0.9705487858312857, 0.9393906926351997, 0.7110790494604937, 0.9574918284695317, 0.8359548214511613, 0.9423784343327085, 0.9633489846707183, 0.9548909334337917, 0.027545127899007576, 0.970104973193173, 0.04958883843494617, 0.9495135541236852, 0.9989487559902744, 0.8977255175117561, 0.9981380810497757, 0.982223712529991, 0.9735615994474379, 0.922707637871467, 0.9583507989749322, 0.035187389538222875, 0.0044489802864419725, 0.0016178110132516266, 0.09277108716410544, 0.8813253280590017, 0.9151546972194331, 0.9949984642424865, 0.8058092150854529, 0.17664382562174163, 0.005222837505183491, 0.011005264743065213, 0.0011191794653964623, 0.8096415541486456, 0.23634917974478564, 0.4499511379648384, 0.28128881251316035, 0.031624186022189624, 0.5283342701488891, 0.3707096812646901, 0.03697366899752815, 0.022378799656398617, 0.009729912894086356, 0.031135721261076336, 0.25317754586195274, 0.488448624826007, 0.1294902837709136, 0.0014922055748248686, 0.09351154935569177, 0.0071294266352743725, 0.015585258225948627, 0.010279638404349095, 0.0004974018582749562, 0.887374398811363, 0.9537001672067903, 0.9175462356999928, 0.8997898696570813, 0.9266786193733045, 0.029759527473183733, 0.02810622039134019, 0.014879763736591866, 0.9630501094073486, 0.9892318780481499, 0.9868822726690514, 0.9338107760800659, 0.7627927945075618, 0.9141318423159054, 0.08006994239263404, 0.9829861846882084, 0.7024999437808228, 0.07268993629570018, 0.045410030133444405, 0.1750319445068958, 0.0003388808218913762, 0.003897129451750826, 0.5772186680159322, 0.3378230643734863, 0.018350882509177036, 0.02085327557861027, 0.044208944226653765, 0.23251479690612445, 0.7464948742775575, 0.9773085428206575, 0.02143514281717686, 0.22350333167820535, 0.7599113277058982, 0.9810960416432822, 0.2864140858446662, 0.6966829115140529, 0.9172043023798122, 0.9504025592566542, 0.18718537215791356, 0.8080168564816601, 0.9837079437079207, 0.887374398811363, 0.887374398811363, 0.9529505828876317, 0.7372851667166188, 0.9635689040428077, 0.6965286184678164, 0.2863506542589912, 0.9852339932623634, 0.887374398811363, 0.9981169883884096, 0.9981169883884096, 0.9990147666574452, 0.9030023248814195, 0.07717968588730081, 0.29877733768224307, 0.6948310178656815, 0.9999289008704811, 0.9275393863681504, 0.17820089561276245, 0.8121707485231868, 0.009166712737282019, 0.0566364954654061, 0.540174667733642, 0.3758306173080127, 0.021934365295850914, 0.004910678797578563, 0.9225112135994973, 0.8279114100390869, 0.32894465167714, 0.5746121763474091, 0.02020241414425942, 0.0387084423680085, 0.03454458601766496, 0.00215903662610406, 0.0006168676074583028, 0.9423784343327085, 0.9683165026393317, 0.10379495108797583, 0.5480202561558559, 0.07218661207353051, 0.08628222271510748, 0.003844257447702808, 0.015804169507222656, 0.16829304826610073, 0.0017085588656456927, 0.9755895459949384, 0.23561019554137, 0.6859537338546216, 0.0715777809239605, 0.9545316622500217, 0.043896406469568175, 0.07543448914902658, 0.4444518549861566, 0.04893047944801724, 0.42610292519315013, 0.9881312498468955, 0.9908796541055843, 0.12366229673786662, 0.850178290072833, 0.9996585606789063, 0.43455720158079647, 0.2743819096017911, 0.00020430521936097625, 0.25170403025272275, 0.03125869856222937, 0.004086104387219525, 0.0036774939484975726, 0.887374398811363, 0.269327459338602, 0.173139081003387, 0.519417243010161, 0.23742896903669605, 0.6826082859805012, 0.07122869071100882, 0.9862046444145025, 0.981395108857521, 0.9976543395476123, 0.9618592415501828, 0.9880915402241086, 0.37963201210570857, 0.6021749157538825, 0.8997898696570813, 0.920904702990881, 0.6598325546258185, 0.3023945921479328, 0.1723324019767789, 0.5169972059303367, 0.08332583252716456, 0.82532253169763, 0.08729372931417241, 0.9884894049573386, 0.887374398811363, 0.8529064607674786, 0.991020772212614, 0.9953656149470541, 0.004205714321536562, 0.00035708895182857606, 0.14140743706435988, 0.7917240905274746, 0.031117514005806216, 0.012998455217615255, 0.022451877194062712, 0.8997898696570813, 0.9776436894293634, 0.1466166815858744, 0.8489578820859501, 0.23502609947425854, 0.09449502968552663, 0.5136652895726063, 0.01938359583292854, 0.13326222135138371, 0.8828092136162575, 0.5063812938377209, 0.46328501351110635, 0.9961878297504464, 0.2268305735597878, 0.7685553551202222, 0.9757558860584639, 0.054542995920879786, 0.9272309306549563, 0.8121527334786768, 0.18618521162752275, 0.11133938480098654, 0.8761925499555897, 0.9851259289967931, 0.3450638645636783, 0.45836359932686926, 0.15474613346288812, 0.0007101407876895158, 0.019173801267616926, 0.01639779637028518, 0.0012911650685263922, 0.003679820445300218, 0.0005164660274105569, 0.887374398811363, 0.887374398811363, 0.40776991028504367, 0.29718517207636114, 0.1185482872777202, 0.11239463572437289, 0.025519554971234423, 0.001990887267259423, 0.0211758009335775, 0.015565118634937307, 0.9739138673142649, 0.10814961390672535, 0.8806468560976207, 0.9960207864905278, 0.9890286545458546, 0.06928690606858076, 0.6947291118554338, 0.15531427266379846, 0.0706819444458005, 0.005347647112675696, 0.0041851151316592405, 0.9338107760800659, 0.22891828951096274, 0.4578365790219255, 0.05169122666376578, 0.25951105631196697, 0.969116877758177, 0.7261304371607175, 0.26958135990397897, 0.9328348159015566, 0.3976547566728322, 0.5903878092364846, 0.0025393024053182132, 0.0073639769754228175, 0.001777511683722749, 0.9925232192586954, 0.9961878297504464, 0.9961878297504464, 0.9961878297504464, 0.9961878297504464, 0.9961878297504464, 0.9961878297504464, 0.971056006191312, 0.00670911422459452, 0.022069454686166185, 0.7891492464787662, 0.14297406076946131, 0.06555128417950032, 0.0022992218502473267, 0.9733638521490546, 0.11206231012213201, 0.8778214292900341, 0.23222568718237202, 0.6929010341132563, 0.024544178320088098, 0.04531232920631649, 0.0037760274338597077, 0.9378851950933129, 0.9980157570502468, 0.9551350464590533, 0.12434500277746754, 0.6753524795401792, 0.19918772956769681, 0.9206932123973871, 0.90773231133597, 0.08037213173287235, 0.25776404023151345, 0.1683356997430292, 0.5576120053987842, 0.9484879076586551, 0.050173635694986826, 0.03460908561005343, 0.5828484644783998, 0.1801245591977781, 0.05584647905258622, 0.0165179726775255, 0.0715778816026105, 0.004719420765007286, 0.05348676867008258, 0.6350659044867827, 0.005810301047454554, 0.0923837866545274, 0.23444564726479125, 0.010749056937790925, 0.008424936518809103, 0.0040672107332181875, 0.0031956655761000044, 0.005810301047454554, 0.7771534051954847, 0.963661788852799, 0.020601576213509103, 0.0079946415156901, 0.007072182879264319, 0.02904728610733438, 0.09730840845957017, 0.08133240110053626, 0.21785464580500785, 0.021785464580500784, 0.47347076354955037, 0.07261821526833595, 0.005809457221466876, 0.14792912575868236, 0.8496106426317244, 0.9995618520830565, 0.9751269964954272, 0.9267242471393694, 0.9392436058300923, 0.0529151327228221, 0.9047734893136395, 0.069093627667764, 0.025468818957825417, 0.9734863559183226, 0.011954183761944162, 0.011434436641859634, 0.002078988480338115, 0.6038974101533335, 0.12177697259114022, 0.12447850952575595, 0.005610884402663457, 0.1332065519298991, 0.003948400135207618, 0.005610884402663457, 0.0012468632005918792, 0.982015328439586, 0.9976543395476123, 0.991020772212614, 0.959567371148018, 0.887374398811363, 0.09770753131430929, 0.25630526330275333, 0.6428872350245857, 0.3999791103872444, 0.23332114772589255, 0.3444264561667938, 0.9649833082333397, 0.887374398811363, 0.9509616828378351, 0.9825462670021736, 0.9340676071689622, 0.8328201470235582, 0.15520739103620856, 0.9622595397850224, 0.9997223500092063, 0.03338907529402745, 0.9460237999974443, 0.18815722452302988, 0.44176044018450494, 0.36608851293067773, 0.9698700143441993, 0.9196468378662436, 0.9461101372736288, 0.08927553173150349, 0.9096768233295028, 0.9537508897403594, 0.900603504746195, 0.9675580804641166, 0.010184821899622281, 0.9818623453623776, 0.9314704781582617, 0.048584516026299415, 0.048584516026299415, 0.8927404819832517, 0.9779725866540675, 0.005735909599144091, 0.01169243110594757, 0.004191626245528374, 0.3003236307317791, 0.6654653112617839, 0.030248423239171995, 0.23945944942556052, 0.7483107794548767, 0.9277197272425216, 0.9712150627120745, 0.9991439596181901, 0.9992791035075312, 0.6262074945103238, 0.13949416342602855, 0.09597804940073486, 0.05746553036789654, 0.044729106750737414, 0.0021227372695265213, 0.01485916088668565, 0.0060649636272186325, 0.01303967179852006, 0.9672716128418913, 0.9882223965508597, 0.8376375688150496, 0.10906415339157643, 0.1586387685695657, 0.11501310721293515, 0.360903198495762, 0.02974476910679357, 0.11501310721293515, 0.10113221496309814, 0.009914923035597857, 0.4605418088909757, 0.29008152897678335, 0.001993687484376518, 0.21930562328141698, 0.008971593679694332, 0.01894003110157692, 0.969132358936231, 0.07927632468402704, 0.9116777338663109, 0.34531078626543465, 0.20782006953222487, 0.3966322058755268, 0.0006335977729641002, 0.04561903965341522, 0.002534391091856401, 0.021272505491074453, 0.6027209889137761, 0.0874536336855283, 0.22927033695935797, 0.049635846145840386, 0.002363611721230495, 0.9807209524347426, 0.5243701298128667, 0.26611962931839894, 0.002146126042890314, 0.13234443931156936, 0.028615013905204188, 0.019315134386012827, 0.00464993975959568, 0.016095945321677355, 0.005365315107225785, 0.39481736985715504, 0.05402764008571595, 0.04987166777143011, 0.2950740343142948, 0.08311944628571685, 0.10909427325000336, 0.012467916942857527, 0.9640952588662922, 0.03125106187573071, 0.9934130157940927, 0.8860378491647863, 0.9961878297504464, 0.040177607838203684, 0.8919428940081218, 0.04821312940584442, 0.016071043135281474, 0.9345861680511022, 0.8950163771054288, 0.09619334894123767, 0.9961878297504464, 0.30536445695816217, 0.13954595776367354, 0.5349261714274153, 0.014643711617175618, 0.0008613948010103305, 0.004522322705304235, 0.8421622412072995, 0.9698149424829705, 0.9951522203896641, 0.9976543395476123, 0.21985362055162183, 0.6992566542544638, 0.07328454018387394, 0.9864138172599228, 0.061534027728801524, 0.8862400822892025, 0.042773653421240086, 0.007504149723024577, 0.0007504149723024577, 0.9472931575082422, 0.16469449493027016, 0.7762345187411183, 0.033194239288271504, 0.02298062719957258, 0.8891516703463798, 0.5844743873450786, 0.4070446626153226, 0.9367896639443264, 0.9368240447777928, 0.05342317331593588, 0.006493424380942483, 0.0029515565367920376, 0.9931227939587951, 0.4446273140655772, 0.5510338507650315, 0.10706943114241207, 0.6041378783113303, 0.12038376454872238, 0.10318608389890489, 0.014423861190169501, 0.03661441686735335, 0.01331433340631031, 0.4086803243389631, 0.07142701164122418, 0.02282718928740154, 0.008099970392303773, 0.002945443779019554, 0.005154526613284219, 0.4793709750354324, 0.8744515980271446, 0.004469088235232425, 0.11768599019445386, 0.9478957852647267, 0.9799449463105062, 0.30973231914744104, 0.2654848449835209, 0.3982272674752813, 0.2789675783426363, 0.6974189458565908, 0.9571876443819306, 0.02058468052434259, 0.002247242007136268, 0.9962772898304122, 0.13546348924731907, 0.45312537153228233, 0.31630724739249005, 0.03860709443548594, 0.04199368166666891, 0.012191714032258718, 0.7908084196948572, 0.17056652189496918, 0.9702393997656287, 0.07167469140887091, 0.9128677729986966, 0.014177411487468972, 0.18548502718068807, 0.8134524083586803, 0.9802990692466725, 0.9497878578752887, 0.38289967255879936, 0.27278473404515774, 0.34035526449671055, 0.9567553319247809, 0.9657859248509849, 0.9709796638740168, 0.968328759389919, 0.9317219008946312, 0.9772261991189868, 0.9886862571055669, 0.00448045131618837, 0.0059739350882511595, 0.053540002273586226, 0.6466792431476297, 0.2865964827586086, 0.009448235695338746, 0.002624509915371874, 0.9177454156116929, 0.914471928761423, 0.9338107760800659, 0.6009532453340005, 0.38998029750397906, 0.6497677625649801, 0.3452561378645604, 0.3685214753631609, 0.5307322808559987, 0.06365719553619636, 0.006135633304693626, 0.00594389476392195, 0.013805174935560658, 0.010929096823985521, 0.0003834770815433516, 0.9673554599413982, 0.9960696753093096, 0.5720120340147888, 0.1243182687121404, 0.3019157954437695, 0.0007399896947151214, 0.9669769650667037, 0.9889669331118409, 0.016187151521988324, 0.6422643990982465, 0.05482744870350884, 0.03237430304397665, 0.23967427576105296, 0.008876825028187147, 0.005743827959415212, 0.8950163771054288, 0.09619334894123767, 0.13634807604911908, 0.10046700340461406, 0.5633328405187288, 0.08611457434681205, 0.09807493189498039, 0.014352429057802008, 0.23756398989074698, 0.21270264211148276, 0.5276130473154962, 0.016574231852842812, 0.9597655513256894, 0.04010823422080399, 0.21762516780777355, 0.372068835284258, 0.4001495020981643, 0.008934757622606539, 0.06886348562376857, 0.9299729434696086, 0.9980267432732274, 0.4648162972647038, 0.38507155241607716, 0.06994730389038649, 0.061274159435550965, 8.030689310032892e-05, 0.007709461737631576, 0.010038361637541115, 0.001043989610304276, 0.16190284271004973, 0.7915250088046877, 0.9655684607750613, 0.27586422045073733, 0.1178449097071111, 0.5561922632388653, 0.040174401036515144, 0.008927644674781144, 0.07579625935719636, 0.912470353030864, 0.0058304814890151055, 0.9475351093096626, 0.022294943748462647, 0.32178830821315274, 0.6723544326079696, 0.7087564771169936, 0.014761677617587371, 0.09941271386711495, 0.08608801371672635, 0.05186182313435563, 0.0007184887335993853, 0.01652524087278586, 0.010907965319190667, 0.0022861005159980443, 0.0074461559663936295, 0.001045074521599106, 6.531715759994412e-05, 0.9961878297504464, 0.9976543395476123, 0.9860702387941745, 0.9906007193278284, 0.6920246377683265, 0.305408832484491, 0.9981708230957752, 0.8678867123826582, 0.12333126965437775, 0.9618541066653845, 0.035326862014421465, 0.9738853135364587, 0.4154720754099501, 0.5539627672132669, 0.11861722371510368, 0.026570258112183224, 0.6215542522671432, 0.23154082069188237, 0.991020772212614, 0.24027848377927385, 0.5361315828544342, 0.004903642526107629, 0.031056402665348322, 0.18470386848338738, 0.9837054194762682, 0.6428866206647951, 0.24544991903098837, 0.03537623388169049, 0.00043674362816901845, 0.027078104946479144, 0.036686464766197545, 0.011792077960563498, 0.5421951671100971, 0.30225822534298513, 0.021293105221756686, 0.011425568655576757, 0.010906224625777814, 0.05764718730768273, 0.006751472387386266, 0.03739277014552393, 0.009867536566179927, 0.33789668964684005, 0.34675285288355157, 0.06539935928648517, 0.002724973303603549, 0.24592884065022028, 0.8441004370078605, 0.6154709687947079, 0.030218897784202562, 0.23945607611279499, 0.10289725954367708, 0.011475530804127554, 0.9961878297504464, 0.9419534649074568, 0.9246609208611566, 0.9396827206068775, 0.999656785032759, 0.9434015127882494, 0.9917566387244987, 0.37037069391881705, 0.6142733460116966, 0.9802588892437809, 0.9998433305308134, 0.9267242471393694, 0.9267242471393694, 0.7462965289934759, 0.10176770849911033, 0.14247479189875448, 0.7627927945075618, 0.9672862317492246, 0.008267403690164312, 0.6913379480809212, 0.27537821960975123, 0.00665797518675974, 0.007967740797269854, 0.008513476468315732, 0.0043658853683670425, 0.0028378254894385778, 0.0029469726236477536, 0.9809196709510009, 0.01586781820656031, 0.9961878297504464, 0.918938580913124, 0.9532449334336253, 0.011339716680251305, 0.012757181265282717, 0.021261968775471193, 0.9998292987632019, 0.9961878297504464, 0.9961878297504464, 0.9961878297504464, 0.3198446411738324, 0.07107658692751831, 0.12565325188971987, 0.39345967763447637, 0.08757650889283505, 0.772286573655278, 0.8222381248530897, 0.9210430393943997, 0.9842022847648413, 0.9976543395476123, 0.9763502927954983, 0.01958295716208736, 0.9458369282705081, 0.7021057524426038, 0.29472722817086916, 0.8279114100390869, 0.830800137067029, 0.10635123267835797, 0.1379691667178698, 0.5202587328319673, 0.22994861119644966, 0.998102599511647, 0.9104592315346225, 0.0178724745303259, 0.012199641317628601, 0.001341960544939146, 0.05550836799521013, 0.000182994619764429, 0.002317931850349434, 0.9993458084920996, 0.9510300430610567, 0.8279114100390869, 0.9809160291556651, 0.8294211641483332, 0.9859564106701321, 0.9281936315471326, 0.9701075662877329, 0.9951485592301751, 0.002904130036663935, 0.9953151190477899, 0.9872453305298691, 0.93742044776265, 0.28505305218979266, 0.07583980287618337, 0.45346971788724816, 0.13441951268399396, 0.015167960575236674, 0.0057533643561242555, 0.007845496849260348, 0.018829192438224836, 0.0026151656164201164, 0.015452311022992715, 0.8807817283105848, 0.09657694389370447, 0.024944447615074323, 0.9700618516973347, 0.9999834613863008, 0.9996393720649995, 0.2036037987144976, 0.768141604241059, 0.9961878297504464, 0.996834086699072, 0.9628432964200346, 0.15326210955254013, 0.8114997310410695, 0.009527839847848855, 0.014609354433368244, 0.003992618602908091, 0.00226853329710687, 0.000907413318842748, 0.003992618602908091, 0.6632603948250607, 0.3336400773968487, 0.9908061539006615, 0.8970703583376537, 0.8599062901828664, 0.13555173047217597, 0.7716144695624164, 0.03948821665592786, 0.18836615150156893, 0.9983892820405889, 0.9976543395476123, 0.9432960189435889, 0.9871733342441539, 0.9202552043428767, 0.06911090366518013, 0.004929002234087203, 0.0054533641738837135, 0.9983444287696667, 0.9465730939910691, 0.4666537824433339, 0.3042301060110097, 0.028160142043994286, 0.020114387174281635, 0.15689221995939676, 0.02313154525042388, 0.9246971874980722, 0.9602774733106142, 0.9836198110492067, 0.881811077553565, 0.0023704598858966803, 0.11141161463714397, 0.6087303777195742, 0.2254556954516941, 0.11122480975616911, 0.030812278378398197, 0.019163734113394, 0.004509113909033882, 0.910561718443422, 0.2180393047727835, 0.26649248361117983, 0.038070354801597116, 0.4542485516099656, 0.006921882691199476, 0.008652353363999344, 0.00778711802759941, 0.8727268248525366, 0.06797487913579336, 0.05879385649927062, 0.9140046236293603, 0.20952166960585691, 0.3968823933880174, 0.056409680278499935, 0.31111665500540014, 0.011799984139890293, 0.010073157192589275, 0.0043170673682525465, 0.7852012099766909, 0.11304453217563253, 0.0977682440437903, 0.990137025287182, 0.9274083653205077, 0.06341253779969284, 0.006935746321841405, 0.8279114100390869, 0.16855817671248108, 0.6888546209743804, 0.0836698419343882, 0.010966435593342141, 0.027619171123972802, 0.020308214061744708, 0.9961878297504464, 0.19094458659933697, 0.7602488715988389, 0.0035294747985090014, 0.04482432994106432, 0.2621779050634862, 0.04675784294125868, 0.6746488767238753, 0.015029306659690291, 0.24532264532860193, 0.06895555436263405, 0.029173503768806716, 0.6232521259699617, 0.029173503768806716, 0.001326068353127578, 0.9608239490043131, 0.6891371078829983, 0.14362272449481134, 0.035275756893462434, 0.026456817670096826, 0.05039393841923205, 0.05291363534019365, 0.029047267690648627, 0.09730834676367289, 0.08133234953381616, 0.2178545076798647, 0.02178545076798647, 0.4734704633575726, 0.07261816922662157, 0.005809453538129725, 0.16190284271004973, 0.7915250088046877, 0.5714953162421209, 0.41604859022426405, 0.16055437367066575, 0.6370083145403934, 0.0735796695095577, 0.025394753193564164, 0.08464917731188056, 0.004465011550516776, 0.014232224317272224, 0.9785529566767429, 0.9168847424748716, 0.058134163619140714, 0.48379448028810323, 0.456205385689189, 0.895085817527953, 0.925788363582343, 0.35689938171130553, 0.04825034559616362, 0.25733517651287263, 0.02986926155952986, 0.30635140061056265, 0.9904165127483024, 0.31122882642874133, 0.648393388393211, 0.39263388769434415, 0.5068098508523229, 0.06751988612651692, 0.0003285639227567733, 0.012978274948892548, 0.017413887906108986, 0.002135665497919027, 0.9969606196042489, 0.8521646766180019, 0.14619031952326067, 0.9930943430409345, 0.0030793623040028975, 0.9663968342073108, 0.9275119014047565, 0.08204375137304573, 0.0344381178602908, 0.03646388949913144, 0.8052442264391525, 0.03950254695739239, 0.8279114100390869, 0.9371331856927473, 0.9664500009757357, 0.9961878297504464, 0.992178846916592, 0.6099774475546693, 0.009030229643837033, 0.36790903355374754, 0.009030229643837033, 0.003204275034909915, 0.675578710946945, 0.675578710946945, 0.6855972476979908, 0.675578710946945, 0.71872515087158, 0.9182663458294573, 0.03581345125322764, 0.04455997070121063, 0.0005909810437826344, 0.0005909810437826344, 0.11620529328413293, 0.025262020279159334, 0.3216697248879622, 0.43113847943098593, 0.05389230992887324, 0.037050963076100354, 0.01347307748221831, 0.2711120099757898, 0.5956102520464565, 0.061426327289888324, 0.03987887216725734, 0.02251226654603237, 0.009004906618412948, 0.4515994249166495, 0.3375154844680294, 0.025843925137728915, 0.06785317396718468, 0.0005148192258511736, 0.1112009527838535, 0.0009266746065321126, 0.004427445342320094, 0.9982414804759665, 0.9770142320628175, 0.7121002651829228, 0.04147800513694344, 0.24556447289039968, 0.9996171447022639, 0.8449191490090547, 0.7627927945075618, 0.985928444800086, 0.0748383078414161, 0.8980596940969932, 0.8950163771054288, 0.09619334894123767, 0.8920041800643875, 0.9069743933451075, 0.8131055000023104, 0.545656517745283, 0.08494389062525513, 0.24516493371744338, 0.06931256934796848, 0.011929166237929292, 0.012340516797857888, 0.017276723517001043, 0.011723490957964995, 0.001439726959750087, 0.8680586142505254, 0.9909408892328073, 0.9976537638064692, 0.9876456505629622, 0.7464956154684467, 0.030412784333899677, 0.026542066327766994, 0.009953274872912622, 0.18192374628823627, 0.0038707180061326864, 0.8337017368929049, 0.9824093175562166, 0.13676180348983077, 0.27352360697966155, 0.5809120414901383, 0.006512466832849085, 0.885224962664001, 0.9062351226532606, 0.9340830897548301, 0.2238125752218442, 0.29443028343433447, 0.44136067632806425, 0.0028474882343746083, 0.021640910581247022, 0.014806938818747962, 0.9981638844318238, 0.271874956136388, 0.7088168499270115, 0.8950163771054288, 0.09619334894123767, 0.8931666142662147, 0.10039469695240398, 0.9775640527427439, 0.010549252367727453, 0.008791043639772877, 0.9961878297504464, 0.9864684054422351, 0.8924807925772792, 0.10420679687342996, 0.9344665668266793, 0.6922457547153489, 0.30063244204780865, 0.42739440544291935, 0.14110027812138282, 0.004989039752251977, 0.4126831343785866, 0.004349419271194031, 0.009338459023446008, 0.8342060032184854, 0.06257252534564532, 0.8972664011828385, 0.028570851195558803, 0.01133389138336217, 0.9983892820405889, 0.9631457957652946, 0.16659684611445158, 0.19083775667604083, 0.6107758837576899, 0.024240910561589248, 0.0049907757038566095, 0.002138903873081404, 0.9648268127473525, 0.9821323284584718, 0.1153509157911419, 0.008305265936962217, 0.8761132756168809, 0.9990242190994959, 0.2720140840010116, 0.061064386204308735, 0.6624560685194705, 0.23888699768691343, 0.5446504919329814, 0.10632028388672683, 0.06865591553633825, 0.03217782650407214, 0.0047451172724899005, 0.0037071228691327347, 0.0008897094885918563, 0.06717151177502761, 0.9299522630187156, 0.9152842137318514, 0.8840118857751403, 0.9496920499912443, 0.041850836101309075, 0.9905081493227043, 0.9321303981359779, 0.9996825817428282, 0.9772942773551664, 0.8938235505519109, 0.7002688913295347, 0.07749528313892914, 0.06918348620920173, 0.06319410312748638, 0.03312495541111955, 0.01552350308934385, 0.02310190617233061, 0.010756443085529597, 0.007333938467406543, 0.830800137067029, 0.5889183612559508, 0.0200417243359355, 0.38695944679383154, 0.11598440546753691, 0.044241474250503766, 0.8381965797190039, 0.6668058550170862, 0.9933513877135149, 0.6063015003205623, 0.37734071376504286, 0.01222606141801317, 0.002778650322275721, 0.08718498916431645, 0.7393003552713989, 0.012049957851978698, 0.16019355732630502, 0.9507924432314192, 0.9653855914847583, 0.9563186427973377, 0.270873499516757, 0.06422773699881866, 0.6297110736188526, 0.019547572130075245, 0.01396255152148232, 0.38543223343977284, 0.6108412628174972, 0.9852901785684831, 0.9125086588086685, 0.41993315486460325, 0.0041388407985139064, 0.025947348082991026, 0.540277910390623, 0.009391984888935402, 0.05395903890727956, 0.10645972541165967, 0.02479199084929061, 0.250836613298705, 0.020416933640592265, 0.47396453094232044, 0.061250800921776795, 0.00583340961159779, 0.8949618511585168, 0.09763220194456547, 0.9134272691694697, 0.6724041574984898, 0.0359632693637766, 0.20924083993470022, 0.05448980206632818, 0.021251022805867992, 0.002452041092984768, 0.003814286144642973, 0.8279114100390869, 0.31167194112964713, 0.09406086314679399, 0.4575933882817005, 0.12507552613033146, 0.004575933882817005, 0.006609682275180119, 0.41357654665288435, 0.4843665621009328, 0.0770941355621604, 0.009324844335457222, 0.004071410907030617, 0.006960799292665249, 0.001444694192817316, 0.003152060057055962, 0.7292458800229972, 0.5880666743373301, 0.08281938996917398, 0.32784717094306154, 0.9615954163460443, 0.9529882804958313, 0.9969471247131398, 0.993670438380667, 0.9204862437197012, 0.9759350456232472, 0.37629401408738944, 0.03736252622144292, 0.2481939241852994, 0.02468595482488193, 0.09674225539480756, 0.20415951828145595, 0.00600469171416047, 0.00600469171416047, 0.2951817647753241, 0.21343912222215744, 0.4813733394797593, 0.9059900541056817, 0.8680586142505254, 0.8529064607674786, 0.8879125893894702, 0.9999258097970259, 0.2307837332714179, 0.27591855933556975, 0.015328808851976097, 0.13455287770067909, 0.017032009835528997, 0.3244597873668274, 0.9497800876747018, 0.7729667849805367, 0.272908616024407, 0.006738484346281656, 0.037061663904549104, 0.20889301473473132, 0.35377042817978693, 0.11455423388678815, 0.9737401514614915, 0.3352852448319777, 0.06955674447081547, 0.09564052364737127, 0.11683359422832286, 0.3706070291335637, 0.010868241323564917, 0.9986350243520918, 0.9068848085093213, 0.3507870315554912, 0.42630293394455443, 0.059634875706384705, 0.13396240194912507, 0.0010803419512026215, 0.005077607170652321, 0.005941880731614418, 0.01155965887786805, 0.002808889073126816, 0.0027008548780065537, 0.8754158657508152, 0.9396992425287319, 0.034803675649212294, 0.6371610598911467, 0.13807928974142344, 0.037015231286104476, 0.1305930631891776, 0.005822620651746772, 0.017883763430365084, 0.033272118009981554, 0.9734151009475576, 0.06860539634890887, 0.9227425808928243, 0.9848431570418096, 0.02745370883916795, 0.9648017677764736, 0.19836719421649518, 0.5982502682719696, 0.20151587983897923, 0.960746344312391, 0.03284602886538089, 0.004926904329807133, 0.9977780590567346, 0.9977780590567346, 0.9973477724034309, 0.8554466986599769, 0.9480263925470688, 0.011504643897349263, 0.48976912591572574, 0.44251790990875556, 0.0016435205567641804, 0.04766209614616123, 0.0016435205567641804, 0.0004108801391910451, 0.0045196815311014955, 0.9969440880110513, 0.16190284271004973, 0.7915250088046877, 0.8950163771054288, 0.09619334894123767, 0.029047249227259812, 0.09730828491132038, 0.08133229783632748, 0.2178543692044486, 0.02178543692044486, 0.4734701624043349, 0.07261812306814953, 0.005809449845451962, 0.8567684851009192, 0.014687459744587185, 0.12239549787155989, 0.9333854333590142, 0.1106230195396048, 0.8849841563168384, 0.9542859340817595, 0.9479098278552224, 0.954808495176538, 0.9451407722053874, 0.9098880605637374, 0.987884793727438, 0.394993523613888, 0.570546200775616, 0.9784904999976236, 0.8183690960990794, 0.8267052035679033, 0.9232741084650862, 0.07298609553083685, 0.9582473725339198, 0.98545573737613, 0.5418812515043491, 0.22924364713674825, 0.032783277304524544, 0.0946407749922588, 0.0022732929517735997, 0.09799089092118832, 0.0010768229771559155, 0.9983892820405889, 0.9916749399388167, 0.8769791356522972, 0.9784871696046656, 0.9763926407399416, 0.9985588581930067, 0.13231001743435228, 0.8419728382186054, 0.9976543395476123, 0.9999679465588581, 0.6012943453992687, 0.015866729769407457, 0.3813486430785171, 0.06297786570194114, 0.10039045918824281, 0.04364802573401862, 0.791899895460052, 0.14111982615882748, 0.24034470392675306, 0.5391218358723956, 0.018742476911719274, 0.04299744703276775, 0.013229983702390077, 0.0033074959255975193, 0.9851227037146439, 0.9836885135991543, 0.9930553960596552, 0.3530188556673944, 0.5307358736573085, 0.03421505442614427, 0.07225414434697525, 0.000805060104144571, 0.003421505442614427, 0.005232890676939711, 0.41596933842769157, 0.09870458877945223, 0.08225382398287687, 0.3995185736311162, 0.9973003621575534, 0.9841231886365651, 0.010145599882851186, 0.9380123209340161, 0.29270073896887683, 0.702099158180247, 0.08756527193009317, 0.4280130102100244, 0.4831187416832727, 0.8449191490090547, 0.9870393993234352, 0.848970348377832, 0.9995198456974714, 0.9675495667309951, 0.0006066141484206867, 0.015468660784727509, 0.015771967858937853, 0.9236573840031929, 0.9604263027961798, 0.8950163771054288, 0.09619334894123767, 0.029047271929520738, 0.09730836096389447, 0.08133236140265807, 0.21785453947140554, 0.021785453947140553, 0.47347053245118803, 0.07261817982380184, 0.0058094543859041475, 0.983687792799208, 0.9433795432433164, 0.13006513381467283, 0.46441335915747584, 0.143292096575487, 0.19803702577996796, 0.00992022207061064, 0.008083143909386447, 0.0191056128767316, 0.020207859773466116, 0.0003674156322448385, 0.006613481380407093, 0.7920145888215427, 0.830800137067029, 0.9168849684792798, 0.9452886873000432, 0.048013973774605735, 0.006300476196667721, 0.044536910547177226, 0.873861065894088, 0.006563334185899802, 0.04781857764012713, 0.027190955913013466, 0.9118777263563836, 0.8814832827666813, 0.8950163771054288, 0.09619334894123767, 0.9341745524550599, 0.14476447178790583, 0.8519992350017375, 0.9375624967431276, 0.015681080166135033, 0.6856116717082372, 0.027877475850906722, 0.26396484946327303, 0.005227026722045011, 0.9736522764423047, 0.9590504723632348, 0.09584274481026603, 0.8498056706510255, 0.05111613056547522, 0.9992686124900172, 0.22415164010097288, 0.5854027948509847, 0.018502368127414542, 0.016682463065701637, 0.0636966771599517, 0.07643601259194203, 0.014255922983417761, 0.0009099525308564529, 0.9874174190901718, 0.9984331004603167, 0.9670434471914777, 0.41515024186566807, 0.08173589667576729, 0.037462285976393346, 0.10182930460856009, 0.2870973370736326, 0.03439718985105207, 0.013963215682110246, 0.026223600183475342, 0.0023839636530432126, 0.8939260987408175, 0.3539002854508835, 0.007110824900867829, 0.2565366829620778, 0.1203370367839171, 0.03883604368935507, 0.13948156536317663, 0.03938303022019105, 0.04321193593604296, 0.9966641995335394, 0.0695878379718722, 0.9133403733808225, 0.7154910480325126, 0.09159996836730455, 0.04784202169502531, 0.13419103646165634, 0.00019447976298790775, 0.006223352415613048, 0.0042785547857339705, 0.5117952335362845, 0.12651118132357594, 0.230020329679229, 0.1293864354445663, 0.9952383376626265, 0.9789964637397205, 0.9094550988106118, 0.918938580913124, 0.08884195804780758, 0.7469305361797156, 0.06251841492253127, 0.09542284382912666, 0.041055231683010444, 0.47529325909946707, 0.10579617395237308, 0.07210983000733887, 0.3052824920018725, 0.9847285019330408, 0.9557999517774903, 0.2992472742741888, 0.04049515353362157, 0.19324525473029705, 0.4463399643154318, 0.014292407129513495, 0.005955169637297289, 0.996834086699072, 0.9199780927935651, 0.036636295730717194, 0.03256559620508195, 0.9800083057096558, 0.9728775692202739, 0.34755589102255563, 0.19534465951267743, 0.4056201210263239, 0.02281094750148038, 0.02820262600183029, 0.9922878631214781, 0.9920533517330677, 0.044612453180078254, 0.8927274813300378, 0.008731123544626575, 0.027389414955061447, 0.004186155124136029, 0.009687959001571952, 0.0019136709138907562, 0.009209541273099264, 0.001315648753299895, 0.9845180287415329, 0.9886557878657166, 0.9862069378279136, 0.8244250786461157, 0.14203781834980622, 0.801580282298678, 0.031816471310356594, 0.01964180116608749, 0.0017856182878261354, 0.0029219208346245853, 0.267137603851583, 0.7261285777420303, 0.9908061539006615, 0.9855168096160336, 0.830800137067029, 0.9947042039706007, 0.18605493993598263, 0.8120522899289242, 0.9983825866236538], \"Term\": [\"accept_donation\", \"accessibility\", \"accessibility\", \"achieve\", \"act_thing_look_allow\", \"activate\", \"active\", \"active\", \"address\", \"address\", \"address\", \"address\", \"address\", \"address\", \"address\", \"address\", \"adopt\", \"adopt\", \"adopt\", \"advanced_search_amenities_amenities\", \"advice\", \"advisor_back\", \"aerobics_studio_auditorium_diamond\", \"aerobics_studio_fitness_studio\", \"affordable_housing_strategy\", \"agent\", \"air_burningparking_permitsparty_requestproclamationsprocurement\", \"alarm\", \"alertsnotice_claimplanning_developmentplanning_informationproperty\", \"along_comprehensive\", \"along_yonge_street\", \"alternative\", \"amend\", \"amend\", \"amendment\", \"amendment\", \"amendment_zoning_amendment\", \"amendments\", \"amp\", \"anticipate\", \"anyone\", \"aoda\", \"appeal\", \"appeal\", \"appeal\", \"appeal\", \"appear\", \"appear\", \"appliance\", \"applicant\", \"application\", \"application\", \"application\", \"application\", \"application\", \"applications_licences_permitsaccessing_town\", \"apply\", \"apply\", \"apply\", \"apply\", \"april\", \"april\", \"april\", \"april\", \"april\", \"april\", \"area\", \"area\", \"area\", \"area\", \"area\", \"area\", \"area\", \"area\", \"area\", \"area_sauna_tennis_indoor\", \"areas\", \"arena_fitness_centre_projectdesign\", \"arnold_crescent_major_mackenzie\", \"ask\", \"ask\", \"ask\", \"ask\", \"assessed_value\", \"assessment_mpac\", \"asset\", \"assistancefilming\", \"assistancegarbage_tags_binshealthy_yards\", \"associate\", \"associate\", \"associated\", \"available\", \"available\", \"available\", \"available\", \"available\", \"available\", \"avenue\", \"avenue\", \"avenue\", \"avenue\", \"avenue\", \"avoid\", \"avoid\", \"award\", \"award\", \"away\", \"away\", \"back_search\", \"background\", \"background\", \"barrier\", \"basement\", \"basis\", \"basis\", \"basketball_court\", \"basketball_court_bocce_court\", \"basketball_court_gymnasium_seating\", \"bayview_avenue\", \"bid_opportunitiesproperty_taxesregistered_charity\", \"billing\", \"bin\", \"bin\", \"bloomsrichmond\", \"board_dog_licence\", \"body_add_party_hearing\", \"body_entitle_appeal\", \"body_oral_submission\", \"book\", \"book\", \"boundary\", \"boundary\", \"br\", \"browser_support\", \"budget\", \"budget\", \"budget\", \"building\", \"building\", \"building\", \"building\", \"building\", \"burn\", \"burningparking_permitsparty_requestproclamationsprocurement_bid\", \"business\", \"business\", \"business\", \"business\", \"business\", \"business\", \"business\", \"business_training_mentoring\", \"buy\", \"call\", \"call\", \"call\", \"call\", \"call\", \"call\", \"call\", \"call\", \"camp\", \"camps_programssplash_padssports_hall\", \"camps_programssplash_padssports_hall\", \"camps_programssplash_padssports_hall\", \"canadian\", \"canadian\", \"case\", \"case\", \"case\", \"case\", \"category\", \"category_media_releasesreturn_newssite\", \"cause\", \"cause\", \"center\", \"centre\", \"centre\", \"centre\", \"centre\", \"centre\", \"centre\", \"centre\", \"centre_library_points\", \"centre_performing_artsrichmond\", \"centre_performing_artsrichmond\", \"centre_performing_artsrichmond\", \"centre_performing_artsschool_break\", \"centre_performing_artsschool_break\", \"centre_performing_artsschool_break\", \"centre_performing_artsschoolsstrategic_prioritiesthe\", \"centre_projectdesign_construction_guidelineselectionsemergency\", \"centreniagara_falls_history_museumniagara\", \"centres\", \"centreszone\", \"ceremony\", \"ceremony\", \"chamber_placement_watermain\", \"changerooms\", \"charity_tax_rebaterichmond\", \"check\", \"check\", \"check\", \"choose\", \"choose\", \"choose\", \"class\", \"clear_map\", \"clearing_programwinter_information\", \"clearingtransportation_roadstrees_yardswarming_centreswater\", \"clerk\", \"clerk\", \"clerk\", \"close\", \"close\", \"close\", \"close\", \"close\", \"closure_necessary_facilitate_installation\", \"club\", \"coach\", \"coach\", \"collection\", \"collection\", \"collection\", \"collection\", \"collection\", \"collection_personal_information\", \"comments\", \"comments\", \"comments_fetch_profile\", \"commercial\", \"commercial\", \"commission\", \"commissioner\", \"commissioner\", \"committee\", \"committee\", \"committee_whole\", \"committee_whole\", \"committees_task_saving_timedavid\", \"community\", \"community\", \"community\", \"community\", \"community\", \"community\", \"community\", \"community\", \"community\", \"community_gardens_diving\", \"community_gardens_leash\", \"complete\", \"complete\", \"complete\", \"complete\", \"complete\", \"complete\", \"complete\", \"complete\", \"concrete\", \"conference\", \"conference\", \"connect\", \"consideration\", \"construction\", \"construction\", \"construction\", \"construction\", \"construction\", \"construction\", \"construction_guidelineselectionsemergency_servicesemploymentenvironment_sustainabilityeventsfee\", \"consultation\", \"consultation\", \"consultation\", \"consultation\", \"consulting\", \"content\", \"content\", \"content_current_openings\", \"continue\", \"continue\", \"continue\", \"continue\", \"continue\", \"contribution\", \"cookie_information\", \"cookie_policy_manage_cookies\", \"cookie_policy_page_strictly\", \"cooky_help\", \"cooky_social_medium_cooky\", \"cooky_strictly_necessary\", \"corporation\", \"corporation\", \"corporation\", \"council\", \"council\", \"council\", \"council\", \"councillor\", \"course\", \"course\", \"court\", \"court\", \"court\", \"court\", \"court\", \"create_inclusive\", \"creative\", \"crescent\", \"cultural\", \"cultural\", \"cultural\", \"current_openings_working\", \"daily\", \"daily\", \"damage\", \"damage\", \"damage\", \"data\", \"data\", \"date\", \"date\", \"date\", \"date\", \"date\", \"date\", \"date\", \"date\", \"day\", \"day\", \"day\", \"day\", \"day\", \"day\", \"day\", \"day\", \"day\", \"death_certificatesbook_facilitybuilding_inspectionsbusiness\", \"decision\", \"decision\", \"decision\", \"decision\", \"decrease_text_size_default\", \"decrease_text_size_default\", \"decrease_text_size_default\", \"decrease_text_size_default\", \"decrease_text_size_default\", \"decrease_text_size_default\", \"decrease_text_size_default\", \"decrease_text_size_default\", \"default\", \"default\", \"defaulttext\", \"define\", \"department_loading\", \"description\", \"description\", \"design\", \"design\", \"design\", \"develop\", \"develop\", \"develop\", \"develop\", \"development\", \"development\", \"development\", \"development\", \"development\", \"development\", \"development\", \"development\", \"development_charges\", \"developmentcoronation_centregale_centremacbain_community\", \"developmentplanning_informationproperty_tax_billingsreport\", \"device\", \"diamond_group_picnic\", \"directly\", \"directly\", \"directly\", \"directory\", \"directory\", \"directory\", \"directory_section\", \"directory_section_parks_facilities\", \"disabilities_act_aoda\", \"disability\", \"discover\", \"display\", \"display\", \"distribute\", \"div\", \"diversity\", \"diversity\", \"document\", \"document\", \"document\", \"dog_area\", \"door\", \"download\", \"draft\", \"draft\", \"drain\", \"dry\", \"due_date\", \"due_date\", \"dunlap_observatorydavid_hamilton_park\", \"dunlap_observatoryeducational_programs_field\", \"east_beaver_creek\", \"east_beaver_creek\", \"east_beaver_creek\", \"east_beaver_creek_road\", \"east_beaver_creek_road\", \"east_beaver_creek_road\", \"east_beaver_creek_road\", \"economic\", \"economic\", \"economic\", \"ed_sackfield_arena_fitness\", \"ed_sackfield_arena_fitness\", \"electrical\", \"elgin_barrow_arena\", \"em\", \"em_planning\", \"email\", \"email\", \"email\", \"email\", \"email\", \"email\", \"email\", \"email\", \"email\", \"email_homefind_learn\", \"email_homeour_servicesnews_alerts\", \"email_homeregister_apply\", \"email_updates\", \"email_updates\", \"email_updates\", \"email_updates\", \"email_updates\", \"email_updates\", \"email_updates\", \"email_updates\", \"emergency\", \"emergency\", \"emergency\", \"emergency\", \"emergency\", \"emergency\", \"emergency_services\", \"energy\", \"energy\", \"environment\", \"environment\", \"environment\", \"environment\", \"environment\", \"environment\", \"equipment\", \"equipment\", \"equipment\", \"equipment\", \"equipment\", \"equipment\", \"especially\", \"event\", \"event\", \"event\", \"event\", \"event\", \"event\", \"event\", \"event\", \"event\", \"every\", \"every\", \"every\", \"every\", \"every\", \"every\", \"every\", \"exchange\", \"exchange\", \"exciting\", \"explain\", \"explicit_approval_collect_data\", \"extension\", \"extension\", \"extension\", \"extension\", \"eyer_homestead\", \"facebook_linkedin_twitter_email\", \"facebook_linkedin_twitter_email\", \"facebook_twitter_google_run\", \"facility\", \"facility\", \"facility\", \"facility\", \"facility\", \"facility\", \"facility_applications_licences\", \"facility_details_return_search\", \"falls\", \"falls_tourismresourcesemployment_opportunitiesweatheraccessibilityprivacy_policysite\", \"famesummer_campsteen_activitiestennis_pickleballtree\", \"famesummer_campsteen_activitiestennis_pickleballtree\", \"famesummer_campsteen_activitiestennis_pickleballtree\", \"far\", \"feature\", \"feature\", \"feature\", \"feature\", \"feature\", \"federation_canadian_municipalities\", \"fee\", \"fee\", \"fee\", \"fee\", \"feed\", \"festival_event\", \"festival_event\", \"festivals_events\", \"file\", \"file\", \"file\", \"file\", \"finalize\", \"financial\", \"financial\", \"find\", \"find\", \"find\", \"find\", \"find\", \"find\", \"find\", \"fire\", \"fire\", \"fire\", \"fire\", \"fire\", \"fire\", \"fire\", \"fire_emergency\", \"fire_emergency\", \"fire_emergency\", \"fire_prevention\", \"fire_safety\", \"fire_station\", \"fire_station\", \"fire_station\", \"flood\", \"flood\", \"flow\", \"flow\", \"focus\", \"focus\", \"form\", \"form\", \"form\", \"form\", \"form\", \"form\", \"format\", \"format\", \"fun\", \"fund\", \"fund\", \"fund\", \"funding\", \"funding\", \"game\", \"garbage_limit\", \"garden\", \"garden\", \"garden\", \"general_arena\", \"general_inquiry\", \"government_announce\", \"grade\", \"grantstax_assistance_programstow_truck\", \"grass\", \"great\", \"great\", \"great\", \"group\", \"group\", \"group\", \"group\", \"group\", \"group_picnic_area\", \"guest\", \"hamilton_park_ed_sackfield\", \"happen\", \"happen\", \"hear\", \"hear\", \"help\", \"help\", \"help\", \"help\", \"help\", \"help\", \"help\", \"help\", \"help_student_age\", \"help_us_understand\", \"heritage\", \"heritage\", \"heritage\", \"heritage\", \"highlight_progress\", \"hillfreedom_informationfollow_us\", \"home\", \"home\", \"home\", \"home\", \"home\", \"home\", \"home\", \"homethings_doparks_trails_facilities\", \"homethings_doparks_trails_facilities\", \"hour\", \"hour\", \"hour\", \"hour\", \"hour\", \"hour\", \"housing\", \"housing\", \"housing\", \"housing\", \"http\", \"http\", \"improve\", \"improve\", \"improve\", \"improve\", \"improvement\", \"improvement\", \"incident\", \"include\", \"include\", \"include\", \"include\", \"include\", \"include\", \"include\", \"include\", \"increase_text_size_print\", \"increase_text_size_print\", \"indicate\", \"individual\", \"individual\", \"individual\", \"individual\", \"individual\", \"indoor\", \"indoor\", \"indoor\", \"indoor_outdoor\", \"indoor_outdoor\", \"inform\", \"inform\", \"information\", \"information\", \"information\", \"information\", \"information\", \"information\", \"information\", \"information\", \"information\", \"information\", \"information\", \"information\", \"information_customize_fit\", \"informationcontact_usaddresscity_niagara_queen\", \"informationproperty_taxesreports_publications_plansrh\", \"innovation\", \"input\", \"input\", \"inquiries_refer\", \"inspection\", \"inspection\", \"instal\", \"instal\", \"interested\", \"invite\", \"invite\", \"involve\", \"involve\", \"involve\", \"involve\", \"itreports_publications_planssewer_backupssnow\", \"job\", \"job\", \"job\", \"job\", \"job\", \"joe_dipaola\", \"july\", \"july\", \"july\", \"july\", \"july\", \"july\", \"july\", \"june\", \"june\", \"june\", \"june\", \"june\", \"june\", \"june\", \"june\", \"june\", \"keep\", \"keep\", \"keep\", \"keep\", \"keep\", \"knowledge\", \"land\", \"land\", \"land\", \"land\", \"land\", \"language_analytics_cooky_analytical\", \"lawn\", \"lawn_watering_car_washing\", \"lawyer\", \"ldquo\", \"leak\", \"left\", \"legal\", \"legal\", \"level_government\", \"li\", \"library_profile_current_openings\", \"library_profile_job_opportunities\", \"licence\", \"licence\", \"licence\", \"licencecommunity_gardenscommunity_recreation_guideemploymentfee\", \"license\", \"license\", \"local\", \"local\", \"local\", \"local\", \"local\", \"local\", \"local\", \"local\", \"locate_main\", \"locate_main\", \"location_allow_site\", \"locations_family_changerooms_fitness\", \"look\", \"look\", \"look\", \"look\", \"mailto\", \"mainly_user_able_find\", \"manage_cooky_ok_manage\", \"manage_cooky_social_medium\", \"map\", \"map\", \"map\", \"map\", \"map\", \"map_amenities_basketball_court\", \"map_amenities_dog_licence\", \"mapping\", \"mapsrichmond\", \"mapterms_conditions\", \"market\", \"market\", \"marriage\", \"mayor\", \"mayor\", \"mayor_requestmarriage_weddingsmilestone_certificate\", \"mayor_william_bell\", \"mean\", \"mean\", \"mean\", \"mean\", \"media_contact\", \"meeting\", \"meeting\", \"meeting\", \"meeting\", \"meeting\", \"meeting\", \"meeting\", \"meeting_write_submission\", \"membership\", \"metal_goods_collectionletter_greeting\", \"meter\", \"method\", \"mill_pond\", \"monthly\", \"municipal_code_chapter\", \"municipal_freedom_information\", \"municipal_freedom_information\", \"municipal_works\", \"museumsintegrity_commissionerlibrarylottery_licencemunicipal_property\", \"museumslibrarymap_gallerymcconaghy_centreoutdoor_activitiesparks\", \"must\", \"must\", \"must\", \"must\", \"must\", \"must\", \"must\", \"must\", \"must\", \"natural_areasrecreation_programsrichmond\", \"natural_areasrecreation_programsrichmond\", \"natural_areasrecreation_programsrichmond\", \"nature\", \"nature\", \"nbsp\", \"ndash\", \"near\", \"near\", \"necessary_cooky_always\", \"necessary_enable_core_functionality\", \"never\", \"new\", \"new\", \"new\", \"new\", \"new\", \"new\", \"new\", \"new\", \"news\", \"news\", \"news_alertscouncil_highlightsnewspublic_noticesservice\", \"news_subscribe\", \"niagara\", \"niagara\", \"niagara_falls\", \"niagara_falls\", \"niagara_falls\", \"niagara_falls_search_search\", \"niagara_fallssign_newslettersfacebooktwitterinstagramyoutubecity_sitesbusiness\", \"night\", \"north\", \"notice\", \"notice\", \"notice\", \"notice\", \"notice_collection_personal\", \"notices\", \"november\", \"november\", \"november\", \"november\", \"november\", \"november\", \"november_tweet_subscribe\", \"oak_ridges_moraine\", \"obtain\", \"occur\", \"occur\", \"occur\", \"october\", \"october\", \"october\", \"october\", \"october\", \"october\", \"october_tweet_subscribe\", \"offer\", \"offer\", \"offer\", \"offer\", \"offer\", \"offer\", \"offer\", \"official_plan\", \"official_plan\", \"official_plan\", \"opa\", \"open\", \"open\", \"open\", \"open\", \"open\", \"open\", \"open\", \"open_space\", \"open_space\", \"open_space\", \"operate\", \"operation\", \"operation\", \"operation\", \"opportunitiesproperty_taxesregistered_charity\", \"opportunity\", \"opportunity\", \"opportunity\", \"opportunity\", \"opportunity\", \"opportunity\", \"option_turn_learn\", \"organization\", \"organization\", \"organization\", \"organization\", \"others\", \"others\", \"others\", \"others\", \"outdoor\", \"outdoor\", \"outdoor\", \"outdoor\", \"outdoor\", \"outdoor\", \"ownership\", \"page\", \"page\", \"page\", \"page\", \"page\", \"page\", \"page_facebook_linkedin_twitter\", \"page_facebook_linkedin_twitter\", \"page_facebook_linkedin_twitter\", \"page_facebook_linkedin_twitter\", \"page_facebook_linkedin_twitter\", \"page_facebook_linkedin_twitter\", \"page_facebook_linkedin_twitter\", \"page_facebook_linkedin_twitter\", \"page_share_page_facebook\", \"page_share_page_facebook\", \"parent\", \"parent\", \"park\", \"park\", \"park\", \"park\", \"park\", \"park\", \"park\", \"park_facility_details\", \"parkette_facility_details_return\", \"parking\", \"parking\", \"parking\", \"parking_picnic_tables\", \"parking_soccer_field\", \"parks\", \"parks\", \"parks\", \"parks\", \"parks\", \"parks_facilities\", \"parks_trails_facilities\", \"parks_trails_facilities\", \"part\", \"part\", \"part\", \"part\", \"part\", \"part\", \"part\", \"participant\", \"participate\", \"participate\", \"partner\", \"partner\", \"party\", \"party_packagescommunity_recreation_guidedavid\", \"pass\", \"pass\", \"pass\", \"pass\", \"pass\", \"pay_water_billlarge_appliance\", \"payment_options\", \"penalty\", \"per_gdpr_law_company\", \"permanent\", \"permit\", \"permit\", \"permit\", \"permit\", \"permit\", \"permit_faqsbuilding_permitscurb_cut\", \"permitdevelopment_chargesmunicipal_addressing\", \"permitevent_entertainer_applicationanimal_licencesbirth\", \"permitsite_alteration_pool_enclosure\", \"permitslottery_licencemarriage_weddingsproperty_taxessign\", \"person\", \"person\", \"person\", \"person\", \"person\", \"personal\", \"personal\", \"personal\", \"personal\", \"personal\", \"personal\", \"personal\", \"place\", \"place\", \"place\", \"place\", \"place\", \"place\", \"plan\", \"plan\", \"plan\", \"plan\", \"plan\", \"plan\", \"plan\", \"plan\", \"plan_subdivision\", \"planner\", \"planning\", \"planning\", \"planning\", \"planning_appeal_tribunal\", \"planssewer_backupssnow_clearingtransportation_roadstrees\", \"plant_kits_rain_barrelshow\", \"planting\", \"planting_stewardship_eventsvolunteering\", \"planting_stewardship_eventsvolunteering\", \"planting_stewardship_eventsvolunteering_decrease\", \"planting_stewardship_eventsvolunteering_decrease\", \"playground_amenities_playground\", \"playground_pool_indoor\", \"playground_tennis_outdoor\", \"please\", \"please\", \"please\", \"please\", \"please\", \"please\", \"please\", \"please\", \"please\", \"please_advise_harris_avenue\", \"please_refer\", \"pm\", \"pm_pm\", \"policy\", \"policy\", \"policy\", \"policy\", \"policy\", \"policy\", \"policy_areaofficial_planparks_recreation\", \"pond\", \"pool\", \"pool\", \"pool\", \"pool\", \"popular\", \"posted_friday\", \"posted_monday\", \"present\", \"present\", \"present\", \"present\", \"present\", \"present\", \"presentation\", \"prevent\", \"prevent\", \"print_page_share_page\", \"print_page_share_page\", \"prior\", \"prior\", \"priority\", \"priority\", \"priority\", \"privacy_cookie_policy_manage\", \"private_property\", \"procedure\", \"procedure\", \"processing\", \"profile\", \"profile\", \"program\", \"program\", \"program\", \"program\", \"program\", \"program\", \"programwinter_information\", \"project\", \"project\", \"project\", \"project\", \"projects_faq\", \"proof\", \"property\", \"property\", \"property\", \"property\", \"property\", \"property\", \"property_assessment\", \"property_tax_bill\", \"propose\", \"propose\", \"propose\", \"propose_zoning_pass\", \"protection\", \"protection\", \"protection\", \"provide\", \"provide\", \"provide\", \"provide\", \"provide\", \"provide\", \"provide\", \"provide\", \"province_ontario\", \"province_ontario\", \"publications_plansaffordable_housing_strategyasset\", \"publish\", \"pursuant\", \"pursuant\", \"quality_life\", \"rain\", \"rdquo\", \"read_tweet\", \"read_view\", \"receive\", \"receive\", \"receive\", \"receive\", \"receive\", \"receive\", \"receive\", \"receive\", \"receive\", \"recognize_successful_young_entrepreneur\", \"recommendation\", \"recommendation\", \"recommendation\", \"record\", \"record\", \"record\", \"records_informationbuilding_development\", \"recover\", \"recreation\", \"recreation\", \"recreation\", \"recreation\", \"recreation_culture\", \"recreation_culture\", \"recreation_culture\", \"recreation_culture\", \"recreation_facility_screener\", \"refer\", \"reference\", \"register\", \"register\", \"register\", \"register\", \"register\", \"registration\", \"registration\", \"related\", \"remember\", \"report\", \"report\", \"report\", \"report\", \"report\", \"report_problem_feedback\", \"report_problem_feedback\", \"report_problem_feedback\", \"report_problem_feedback\", \"report_problem_feedback\", \"report_problem_feedback\", \"report_problem_feedback\", \"report_problem_feedback\", \"report_problem_feedback_parks\", \"report_problem_feedback_parks\", \"report_problem_feedback_reports\", \"request\", \"request\", \"request\", \"request\", \"request\", \"request\", \"request\", \"requestnews_updates_enewsletteropen_air\", \"require\", \"require\", \"require\", \"require\", \"require\", \"require\", \"resident\", \"resident\", \"resident\", \"resident\", \"resident\", \"resident\", \"resident\", \"resident\", \"resident_minor\", \"respect\", \"respect\", \"respect\", \"respond_general_inquiry\", \"response_recent\", \"responsibility\", \"restoration\", \"restore\", \"return_search_address\", \"review\", \"review\", \"review\", \"review\", \"review\", \"review\", \"review\", \"review\", \"risk\", \"risk\", \"risk\", \"road_closure_arnold\", \"road_closure_harris\", \"roadstrees_yardswarming_centreswater_serviceswindrow\", \"room_rentals_teaching_kitchen\", \"rsquo\", \"safety\", \"safety\", \"safety\", \"safety\", \"safety\", \"safety\", \"sbec\", \"schools\", \"search\", \"search\", \"search\", \"search\", \"search\", \"search\", \"search_clear\", \"section\", \"section\", \"section\", \"section\", \"section\", \"section\", \"section_em\", \"send_job_alert_every\", \"service\", \"service\", \"service\", \"service\", \"service\", \"service\", \"service\", \"service\", \"service\", \"service\", \"service_alerts\", \"service_announcement\", \"service_announcement\", \"services\", \"services\", \"services\", \"services\", \"services\", \"services\", \"services\", \"servicesabout_governmentabout\", \"servicesaccessibilityaccessing\", \"servicesaccessibilityaccessing\", \"servicesemploymentenvironment_sustainabilityeventsfee_assistancefilming\", \"serviceswindrow_clearing_programwinter_information\", \"serviceswindrow_clearing_programwinter_information\", \"sewer\", \"sewer\", \"sewer\", \"share\", \"share\", \"share\", \"share_facebook\", \"share_linkedin_email_link\", \"share_twitter\", \"shelter_soccer_field_grass\", \"similar\", \"site\", \"site\", \"site\", \"site\", \"site\", \"site\", \"site\", \"site\", \"site_find\", \"size_default_text_size\", \"size_default_text_size\", \"size_increase_text_size\", \"size_increase_text_size\", \"size_print_page_share\", \"size_print_page_share\", \"size_print_page_share\", \"size_print_page_share\", \"size_print_page_share\", \"size_print_page_share\", \"size_print_page_share\", \"size_print_page_share\", \"skate\", \"skate\", \"skate\", \"skip_main\", \"small_business_enterprise\", \"small_business_enterprise\", \"smoke\", \"smoke_alarm\", \"soccer_field\", \"soccer_field_artificial_turf\", \"soccer_field_grass_splash\", \"social_mediagarbage_recyclingget_activeheritage\", \"software\", \"software\", \"someone\", \"soon_possible\", \"specify\", \"sport\", \"sport\", \"sports_field\", \"sports_hall_fame\", \"staff\", \"staff\", \"staff\", \"staff\", \"staff\", \"staff\", \"staff\", \"staff_shout_outs_archived\", \"stand\", \"status_open\", \"status_open_map_amenities\", \"status_open_view\", \"stephen_huycke\", \"storm\", \"storm\", \"streetniagara_falls_oncanada_talk\", \"strong\", \"study\", \"study\", \"study\", \"subject\", \"subject\", \"subject\", \"subject\", \"submit\", \"submit\", \"submit\", \"submit\", \"submit\", \"submit\", \"submit\", \"success\", \"summer_company\", \"summer_company_program\", \"support\", \"support\", \"support\", \"support\", \"support\", \"support\", \"support\", \"sure\", \"sure\", \"sure\", \"sure\", \"survey\", \"sustainable\", \"sustainable\", \"symptom\", \"task_force\", \"task_force\", \"tax\", \"tax\", \"tax\", \"tax_billingsreport_itreports_publications\", \"tax_dollar\", \"tax_rebaterichmond\", \"td\", \"team\", \"team\", \"team\", \"team\", \"technician_collection_development\", \"tenant\", \"text_size_default_text\", \"text_size_default_text\", \"text_size_increase_text\", \"text_size_increase_text\", \"text_size_increase_text\", \"text_size_increase_text\", \"text_size_increase_text\", \"text_size_increase_text\", \"text_size_increase_text\", \"text_size_increase_text\", \"third_party\", \"three_item\", \"time\", \"time\", \"time\", \"time\", \"time\", \"time\", \"time\", \"time\", \"time\", \"time\", \"time_decide\", \"took_part_year\", \"tower\", \"town\", \"town\", \"town\", \"trail\", \"trail\", \"trail\", \"trail\", \"trail\", \"trail_amenities\", \"trail_amenities_basketball\", \"trails_facilities_directoryadvertising_sponsorshiparts\", \"trails_facilities_directoryadvertising_sponsorshiparts\", \"trails_facilities_directoryparks_trails\", \"transit\", \"transit\", \"treat\", \"tree\", \"tree\", \"tree\", \"tree\", \"tree\", \"try\", \"tweet_subscribe\", \"type\", \"type\", \"type\", \"ul_li\", \"update\", \"update\", \"update\", \"update\", \"update\", \"update\", \"update\", \"update\", \"updates\", \"urban\", \"urban_design\", \"us\", \"us\", \"us\", \"us\", \"us\", \"us\", \"us\", \"us\", \"us\", \"video_tag\", \"view\", \"view\", \"view\", \"view\", \"view\", \"view\", \"view\", \"view\", \"view_full\", \"view_map\", \"view_map\", \"visit\", \"visit\", \"visit\", \"visit\", \"visit\", \"visit\", \"visit\", \"volunteer\", \"volunteer\", \"volunteer\", \"volunteer\", \"vote\", \"voter\", \"ward_councillor\", \"washrooms_diving_board\", \"waste\", \"waste\", \"waste\", \"waste\", \"water\", \"water\", \"water\", \"water\", \"water\", \"wave_pooltransportation_roadstrees_yardsvolunteeringwarming\", \"weather_forecast\", \"website\", \"website\", \"website\", \"website\", \"website\", \"website\", \"website_function_properly\", \"whether\", \"whether\", \"whether\", \"william_bell_young_entrepreneur\", \"winter_maintenance\", \"within\", \"within\", \"within\", \"within\", \"within\", \"witness\", \"woods\", \"work\", \"work\", \"work\", \"work\", \"work\", \"work\", \"work\", \"work\", \"work\", \"work_hard\", \"working\", \"worknatural_heritage_systemparkingplanning_developmentplanning\", \"yardswarming_centreswater_serviceswindrow_clearing\", \"year\", \"year\", \"year\", \"year\", \"year\", \"year\", \"yes\", \"yes\", \"youlibrarylottery_licencemarriage_weddingsnotice_claimplanning\", \"young_entrepreneur\", \"zach_sheng_award\", \"zone\", \"zoning\", \"zoning\", \"zoning_amendment\"]}, \"R\": 30, \"lambda.step\": 0.01, \"plot.opts\": {\"xlab\": \"PC1\", \"ylab\": \"PC2\"}, \"topic.order\": [6, 5, 11, 13, 12, 9, 8, 10, 14, 4, 1, 2, 7, 3]};\n",
       "\n",
       "function LDAvis_load_lib(url, callback){\n",
       "  var s = document.createElement('script');\n",
       "  s.src = url;\n",
       "  s.async = true;\n",
       "  s.onreadystatechange = s.onload = callback;\n",
       "  s.onerror = function(){console.warn(\"failed to load library \" + url);};\n",
       "  document.getElementsByTagName(\"head\")[0].appendChild(s);\n",
       "}\n",
       "\n",
       "if(typeof(LDAvis) !== \"undefined\"){\n",
       "   // already loaded: just create the visualization\n",
       "   !function(LDAvis){\n",
       "       new LDAvis(\"#\" + \"ldavis_el607261403638479456807570232974\", ldavis_el607261403638479456807570232974_data);\n",
       "   }(LDAvis);\n",
       "}else if(typeof define === \"function\" && define.amd){\n",
       "   // require.js is available: use it to load d3/LDAvis\n",
       "   require.config({paths: {d3: \"https://d3js.org/d3.v5\"}});\n",
       "   require([\"d3\"], function(d3){\n",
       "      window.d3 = d3;\n",
       "      LDAvis_load_lib(\"https://cdn.jsdelivr.net/gh/bmabey/pyLDAvis@3.3.1/pyLDAvis/js/ldavis.v3.0.0.js\", function(){\n",
       "        new LDAvis(\"#\" + \"ldavis_el607261403638479456807570232974\", ldavis_el607261403638479456807570232974_data);\n",
       "      });\n",
       "    });\n",
       "}else{\n",
       "    // require.js not available: dynamically load d3 & LDAvis\n",
       "    LDAvis_load_lib(\"https://d3js.org/d3.v5.js\", function(){\n",
       "         LDAvis_load_lib(\"https://cdn.jsdelivr.net/gh/bmabey/pyLDAvis@3.3.1/pyLDAvis/js/ldavis.v3.0.0.js\", function(){\n",
       "                 new LDAvis(\"#\" + \"ldavis_el607261403638479456807570232974\", ldavis_el607261403638479456807570232974_data);\n",
       "            })\n",
       "         });\n",
       "}\n",
       "</script>"
      ],
      "text/plain": [
       "<IPython.core.display.HTML object>"
      ]
     },
     "execution_count": 185,
     "metadata": {},
     "output_type": "execute_result"
    }
   ],
   "source": [
    "# https://cran.r-project.org/web/packages/LDAvis/vignettes/details.pdf\n",
    "# Here a short legend to explain the vis:\n",
    "# size of bubble: proportional to the proportions of the topics across the N total tokens in the corpus\n",
    "# red bars: estimated number of times a given term was generated by a given topic\n",
    "# blue bars: overall frequency of each term in the corpus\n",
    "# -- Relevance of words is computed with a parameter lambda\n",
    "# -- Lambda optimal value ~0.6 (https://nlp.stanford.edu/events/illvi2014/papers/sievert-illvi2014.pdf)\n",
    "%matplotlib inline\n",
    "import pyLDAvis\n",
    "import pyLDAvis.gensim_models as gensimvis\n",
    "vis = gensimvis.prepare(topic_model=model, corpus=corpus, dictionary=dictionary_LDA,mds='mmds')\n",
    "pyLDAvis.enable_notebook()\n",
    "pyLDAvis.display(vis)"
   ]
  },
  {
   "cell_type": "code",
   "execution_count": null,
   "metadata": {},
   "outputs": [],
   "source": []
  },
  {
   "cell_type": "code",
   "execution_count": null,
   "metadata": {},
   "outputs": [],
   "source": []
  }
 ],
 "metadata": {
  "kernelspec": {
   "display_name": "Python 3 (ipykernel)",
   "language": "python",
   "name": "python3"
  },
  "language_info": {
   "codemirror_mode": {
    "name": "ipython",
    "version": 3
   },
   "file_extension": ".py",
   "mimetype": "text/x-python",
   "name": "python",
   "nbconvert_exporter": "python",
   "pygments_lexer": "ipython3",
   "version": "3.8.12"
  },
  "widgets": {
   "state": {
    "429f605e71e34a868915456ee4fb20b8": {
     "views": [
      {
       "cell_index": 14
      }
     ]
    },
    "46817b7b86ca4b65a4bd631d2e7d777f": {
     "views": [
      {
       "cell_index": 21
      }
     ]
    },
    "8559963a3ac94b19a5b3ea6214032316": {
     "views": [
      {
       "cell_index": 19
      }
     ]
    },
    "96323249f1884bd5b62f87c3145932df": {
     "views": [
      {
       "cell_index": 8
      }
     ]
    },
    "d9d5e9ab22a947f398aad3ed9c365fcf": {
     "views": [
      {
       "cell_index": 16
      }
     ]
    },
    "fa80f472c5f14bcd9a7ba0befad06400": {
     "views": [
      {
       "cell_index": 9
      }
     ]
    }
   },
   "version": "1.2.0"
  }
 },
 "nbformat": 4,
 "nbformat_minor": 2
}
